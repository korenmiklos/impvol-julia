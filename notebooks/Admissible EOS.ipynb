{
 "cells": [
  {
   "cell_type": "code",
   "execution_count": 24,
   "metadata": {},
   "outputs": [],
   "source": [
    "using CSV, FileIO"
   ]
  },
  {
   "cell_type": "code",
   "execution_count": 25,
   "metadata": {},
   "outputs": [
    {
     "data": {
      "text/plain": [
       "Dict{String,Any} with 10 entries:\n",
       "  \"import_shares\"             => [0.0 7.85e-7 … 0.000689 0.0004425; 7.42e-5 0.0…\n",
       "  \"pwt\"                       => [0.824111 0.620073 … 0.747101 1.0]…\n",
       "  \"va\"                        => [3271.5 1407.45 … 4209.16 41311.0]…\n",
       "  \"p_sectoral_data\"           => [33.0109 64.7924 … 16.8926 36.7882]…\n",
       "  \"io_values\"                 => [2.49202e5 2423.0 … 6491.5 0.0; 4183.8 56086.1…\n",
       "  \"total_output\"              => [2.00728e6 8.11942e5 … 1.74308e6 66853.4]…\n",
       "  \"intermediate_input_shares\" => [0.973154 0.0268455 … 0.528231 0.294862]…\n",
       "  \"trade_balance\"             => [1184.95 -1239.14 … -406.84 1074.1]…\n",
       "  \"output_shares\"             => [0.967079 0.032921 … 0.521898 0.318506]…\n",
       "  \"beta\"                      => [0.230777 0.441 … 0.297884 0.370242]…"
      ]
     },
     "execution_count": 25,
     "metadata": {},
     "output_type": "execute_result"
    }
   ],
   "source": [
    "data = load(\"../data/impvol_data.jld2\")"
   ]
  },
  {
   "cell_type": "code",
   "execution_count": 26,
   "metadata": {},
   "outputs": [
    {
     "data": {
      "text/plain": [
       "25-element Array{Union{Missings.Missing, String},1}:\n",
       " \"Australia\"             \n",
       " \"Austria\"               \n",
       " \"Belgium and Luxembourg\"\n",
       " \"Canada\"                \n",
       " \"China\"                 \n",
       " \"Colombia\"              \n",
       " \"Denmark\"               \n",
       " \"Finland\"               \n",
       " \"France\"                \n",
       " \"Germany\"               \n",
       " \"Greece\"                \n",
       " \"India\"                 \n",
       " \"Ireland\"               \n",
       " \"Italy\"                 \n",
       " \"Japan\"                 \n",
       " \"Mexico\"                \n",
       " \"Netherlands\"           \n",
       " \"Norway\"                \n",
       " \"Portugal\"              \n",
       " \"ROW\"                   \n",
       " \"South Korea\"           \n",
       " \"Spain\"                 \n",
       " \"Sweden\"                \n",
       " \"United Kingdom\"        \n",
       " \"United States\"         "
      ]
     },
     "execution_count": 26,
     "metadata": {},
     "output_type": "execute_result"
    }
   ],
   "source": [
    "country_names = CSV.read(\"../experiments/baseline/output_table.csv\")[:country_names]"
   ]
  },
  {
   "cell_type": "code",
   "execution_count": 27,
   "metadata": {},
   "outputs": [
    {
     "data": {
      "text/plain": [
       "US_price_index (generic function with 1 method)"
      ]
     },
     "execution_count": 27,
     "metadata": {},
     "output_type": "execute_result"
    }
   ],
   "source": [
    "function US_price_index(data, experiment)\n",
    "    p_sectoral = data[\"p_sectoral_data\"][1,end,:,:]\n",
    "    parameters = load(\"../experiments/$experiment/common_parameters.jld2\")[\"parameters\"]\n",
    "    nu = parameters[:nu_njt][1,1,:,:]\n",
    "    sigma = parameters[:sigma]\n",
    "    return sum(nu .* p_sectoral .^ (1-sigma), 1) .^ (1/(1-sigma))\n",
    "end"
   ]
  },
  {
   "cell_type": "code",
   "execution_count": 28,
   "metadata": {},
   "outputs": [
    {
     "data": {
      "text/plain": [
       "1×36 Array{Float64,2}:\n",
       " 35.4369  38.2792  42.5554  46.6403  …  101.635  106.828  112.764  121.02"
      ]
     },
     "execution_count": 28,
     "metadata": {},
     "output_type": "execute_result"
    }
   ],
   "source": [
    "cpi = US_price_index(data, \"baseline\")"
   ]
  },
  {
   "cell_type": "code",
   "execution_count": 29,
   "metadata": {},
   "outputs": [
    {
     "data": {
      "text/plain": [
       "1×1×1×36 Array{Float64,4}:\n",
       "[:, :, 1, 1] =\n",
       " 1.0\n",
       "\n",
       "[:, :, 1, 2] =\n",
       " 1.08021\n",
       "\n",
       "[:, :, 1, 3] =\n",
       " 1.20088\n",
       "\n",
       "...\n",
       "\n",
       "[:, :, 1, 34] =\n",
       " 3.0146\n",
       "\n",
       "[:, :, 1, 35] =\n",
       " 3.18211\n",
       "\n",
       "[:, :, 1, 36] =\n",
       " 3.41508"
      ]
     },
     "execution_count": 29,
     "metadata": {},
     "output_type": "execute_result"
    }
   ],
   "source": [
    "# to conform with data structures\n",
    "us_cpi = reshape(cpi[end,:] ./ cpi[end,1], (1,1,1,36))"
   ]
  },
  {
   "cell_type": "code",
   "execution_count": 30,
   "metadata": {},
   "outputs": [
    {
     "data": {
      "text/plain": [
       "1×25×1×36 Array{Float64,4}:\n",
       "[:, :, 1, 1] =\n",
       " 0.824111  0.620073  0.816447  1.0138  …  0.469671  1.04781  0.747101  1.0\n",
       "\n",
       "[:, :, 1, 2] =\n",
       " 1.13936  0.795024  0.995663  1.11022  …  0.59099  1.25141  0.825284  1.08021\n",
       "\n",
       "[:, :, 1, 3] =\n",
       " 1.52996  0.933944  1.14979  1.28988  …  0.71763  1.38363  0.944267  1.20088\n",
       "\n",
       "...\n",
       "\n",
       "[:, :, 1, 34] =\n",
       " 2.9687  3.10978  3.24485  2.87797  …  2.75216  3.65456  3.34459  3.0146\n",
       "\n",
       "[:, :, 1, 35] =\n",
       " 3.09307  3.27387  3.43026  3.21288  …  2.95291  3.85804  3.56349  3.18211\n",
       "\n",
       "[:, :, 1, 36] =\n",
       " 3.69163  3.80254  3.96708  3.60814  …  3.46297  4.4728  4.11468  3.41508"
      ]
     },
     "execution_count": 30,
     "metadata": {},
     "output_type": "execute_result"
    }
   ],
   "source": [
    "dollar_price_index = data[\"pwt\"] .* us_cpi"
   ]
  },
  {
   "cell_type": "code",
   "execution_count": 31,
   "metadata": {},
   "outputs": [
    {
     "data": {
      "text/plain": [
       "1×25×1×36 Array{Float64,4}:\n",
       "[:, :, 1, 1] =\n",
       " 64455.1  32858.7  40728.9  96150.9  …  37030.6  1.99307e5  1.12031e6\n",
       "\n",
       "[:, :, 1, 2] =\n",
       " 65982.8  31871.0  43135.0  1.0269e5  …  37735.3  2.06264e5  1.16062e6\n",
       "\n",
       "[:, :, 1, 3] =\n",
       " 62482.1  32631.5  43912.9  1.08415e5  …  39417.2  1.97532e5  1.13239e6\n",
       "\n",
       "...\n",
       "\n",
       "[:, :, 1, 34] =\n",
       " 2.07894e5  88385.4  1.14103e5  3.67082e5  …  88693.0  6.07157e5  3.88509e6\n",
       "\n",
       "[:, :, 1, 35] =\n",
       " 2.14854e5  89878.8  114863.0  371576.0  …  90640.8  6.10731e5  3.89961e6\n",
       "\n",
       "[:, :, 1, 36] =\n",
       " 2.14192e5  89132.5  1.14673e5  3.69017e5  …  90536.3  6.08616e5  3.80577e6"
      ]
     },
     "execution_count": 31,
     "metadata": {},
     "output_type": "execute_result"
    }
   ],
   "source": [
    "real_GDP_data = sum(data[\"va\"], 3) ./ dollar_price_index"
   ]
  },
  {
   "cell_type": "code",
   "execution_count": 32,
   "metadata": {},
   "outputs": [
    {
     "name": "stderr",
     "output_type": "stream",
     "text": [
      "WARNING: replacing module ImpvolOutput\n"
     ]
    },
    {
     "data": {
      "text/plain": [
       "25-element Array{Float64,1}:\n",
       " 0.0303417\n",
       " 0.0142093\n",
       " 0.0178478\n",
       " 0.0139503\n",
       " 0.0762514\n",
       " 0.0293101\n",
       " 0.0168866\n",
       " 0.0209671\n",
       " 0.0136236\n",
       " 0.01504  \n",
       " 0.0190854\n",
       " 0.0307193\n",
       " 0.0251652\n",
       " 0.0138399\n",
       " 0.0168999\n",
       " 0.0275213\n",
       " 0.0116397\n",
       " 0.0253615\n",
       " 0.0338734\n",
       " 0.0401589\n",
       " 0.0315266\n",
       " 0.0137769\n",
       " 0.0153384\n",
       " 0.0149432\n",
       " 0.0160794"
      ]
     },
     "execution_count": 32,
     "metadata": {},
     "output_type": "execute_result"
    }
   ],
   "source": [
    "include(\"../output.jl\")\n",
    "using ImpvolOutput\n",
    "parameters = load(\"../experiments/baseline/common_parameters.jld2\")[\"parameters\"]\n",
    "data_volatility = ImpvolOutput.calculate_volatilities(real_GDP_data, parameters, true)[:].^0.5"
   ]
  },
  {
   "cell_type": "code",
   "execution_count": 33,
   "metadata": {},
   "outputs": [
    {
     "data": {
      "text/plain": [
       "volatility (generic function with 1 method)"
      ]
     },
     "execution_count": 33,
     "metadata": {},
     "output_type": "execute_result"
    }
   ],
   "source": [
    "function volatility(scenario)\n",
    "    results = load(\"../experiments/$scenario/results.jld2\")[\"results\"]\n",
    "    real_GDP_model = sum(ImpvolOutput.make_series(results, :real_GDP), 3)\n",
    "    return ImpvolOutput.calculate_volatilities(real_GDP_model, parameters, true)[:].^0.5\n",
    "end"
   ]
  },
  {
   "cell_type": "code",
   "execution_count": 34,
   "metadata": {},
   "outputs": [],
   "source": [
    "sigmas = [0.3 0.4 0.5 0.7 0.8 0.9 0.999 1.1 1.2 1.3 1.5 1.75 2.0]\n",
    "correlations = zeros(sigmas)\n",
    "no_china = [i for i in 1:parameters[:N] if i!=5]\n",
    "\n",
    "i = 1\n",
    "for sigma in sigmas\n",
    "    model_volatility = volatility(\"CES/$sigma\")\n",
    "    correlations[i] = cor(data_volatility[no_china], model_volatility[no_china])\n",
    "    i += 1\n",
    "end"
   ]
  },
  {
   "cell_type": "code",
   "execution_count": 35,
   "metadata": {
    "scrolled": true
   },
   "outputs": [],
   "source": [
    "using Plots\n",
    "plot(sigmas', correlations', label=\"\", xlabel=\"Elasticity of substitution\", ylabel=\"Correlation of volatilities in model and data (w/o China)\", size=(800,500))\n",
    "savefig(\"../Admissible-EOS.pdf\")"
   ]
  },
  {
   "cell_type": "code",
   "execution_count": 36,
   "metadata": {},
   "outputs": [
    {
     "data": {
      "text/plain": [
       "24-element Array{Float64,1}:\n",
       " 0.0303417\n",
       " 0.0142093\n",
       " 0.0178478\n",
       " 0.0139503\n",
       " 0.0293101\n",
       " 0.0168866\n",
       " 0.0209671\n",
       " 0.0136236\n",
       " 0.01504  \n",
       " 0.0190854\n",
       " 0.0307193\n",
       " 0.0251652\n",
       " 0.0138399\n",
       " 0.0168999\n",
       " 0.0275213\n",
       " 0.0116397\n",
       " 0.0253615\n",
       " 0.0338734\n",
       " 0.0401589\n",
       " 0.0315266\n",
       " 0.0137769\n",
       " 0.0153384\n",
       " 0.0149432\n",
       " 0.0160794"
      ]
     },
     "execution_count": 36,
     "metadata": {},
     "output_type": "execute_result"
    }
   ],
   "source": [
    "data_volatility[no_china]"
   ]
  },
  {
   "cell_type": "code",
   "execution_count": null,
   "metadata": {},
   "outputs": [],
   "source": []
  },
  {
   "cell_type": "code",
   "execution_count": null,
   "metadata": {},
   "outputs": [],
   "source": [
    "\n"
   ]
  },
  {
   "cell_type": "code",
   "execution_count": null,
   "metadata": {},
   "outputs": [],
   "source": []
  },
  {
   "cell_type": "code",
   "execution_count": null,
   "metadata": {},
   "outputs": [],
   "source": []
  },
  {
   "cell_type": "code",
   "execution_count": null,
   "metadata": {},
   "outputs": [],
   "source": []
  },
  {
   "cell_type": "code",
   "execution_count": null,
   "metadata": {},
   "outputs": [],
   "source": []
  },
  {
   "cell_type": "code",
   "execution_count": null,
   "metadata": {
    "scrolled": true
   },
   "outputs": [],
   "source": []
  },
  {
   "cell_type": "code",
   "execution_count": null,
   "metadata": {},
   "outputs": [],
   "source": []
  },
  {
   "cell_type": "code",
   "execution_count": null,
   "metadata": {},
   "outputs": [],
   "source": []
  },
  {
   "cell_type": "code",
   "execution_count": null,
   "metadata": {},
   "outputs": [],
   "source": []
  },
  {
   "cell_type": "code",
   "execution_count": null,
   "metadata": {},
   "outputs": [],
   "source": []
  },
  {
   "cell_type": "code",
   "execution_count": null,
   "metadata": {},
   "outputs": [],
   "source": []
  },
  {
   "cell_type": "code",
   "execution_count": null,
   "metadata": {},
   "outputs": [],
   "source": []
  },
  {
   "cell_type": "code",
   "execution_count": null,
   "metadata": {},
   "outputs": [],
   "source": []
  },
  {
   "cell_type": "code",
   "execution_count": null,
   "metadata": {},
   "outputs": [],
   "source": []
  },
  {
   "cell_type": "code",
   "execution_count": null,
   "metadata": {},
   "outputs": [],
   "source": []
  },
  {
   "cell_type": "code",
   "execution_count": null,
   "metadata": {},
   "outputs": [],
   "source": []
  },
  {
   "cell_type": "code",
   "execution_count": null,
   "metadata": {},
   "outputs": [],
   "source": []
  },
  {
   "cell_type": "code",
   "execution_count": null,
   "metadata": {},
   "outputs": [],
   "source": []
  },
  {
   "cell_type": "code",
   "execution_count": null,
   "metadata": {},
   "outputs": [],
   "source": []
  },
  {
   "cell_type": "code",
   "execution_count": null,
   "metadata": {},
   "outputs": [],
   "source": []
  },
  {
   "cell_type": "code",
   "execution_count": null,
   "metadata": {},
   "outputs": [],
   "source": []
  },
  {
   "cell_type": "code",
   "execution_count": null,
   "metadata": {},
   "outputs": [],
   "source": []
  },
  {
   "cell_type": "code",
   "execution_count": null,
   "metadata": {},
   "outputs": [],
   "source": []
  },
  {
   "cell_type": "code",
   "execution_count": null,
   "metadata": {},
   "outputs": [],
   "source": []
  },
  {
   "cell_type": "code",
   "execution_count": null,
   "metadata": {},
   "outputs": [],
   "source": []
  },
  {
   "cell_type": "code",
   "execution_count": null,
   "metadata": {},
   "outputs": [],
   "source": []
  },
  {
   "cell_type": "code",
   "execution_count": null,
   "metadata": {},
   "outputs": [],
   "source": []
  }
 ],
 "metadata": {
  "kernelspec": {
   "display_name": "Julia 0.6.4",
   "language": "julia",
   "name": "julia-0.6"
  },
  "language_info": {
   "file_extension": ".jl",
   "mimetype": "application/julia",
   "name": "julia",
   "version": "0.6.4"
  }
 },
 "nbformat": 4,
 "nbformat_minor": 2
}
