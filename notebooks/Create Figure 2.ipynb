{
 "cells": [
  {
   "cell_type": "code",
   "execution_count": 1,
   "metadata": {},
   "outputs": [],
   "source": [
    "using CSV, FileIO"
   ]
  },
  {
   "cell_type": "code",
   "execution_count": 2,
   "metadata": {},
   "outputs": [
    {
     "data": {
      "text/plain": [
       "Dict{String,Any} with 10 entries:\n",
       "  \"import_shares\"             => [0.0 7.85e-7 … 0.000689 0.0004425; 7.42e-5 0.0…\n",
       "  \"pwt\"                       => [0.824111 0.620073 … 0.747101 1.0]…\n",
       "  \"va\"                        => [3271.5 1407.45 … 4209.16 41311.0]…\n",
       "  \"p_sectoral_data\"           => [33.0109 64.7924 … 16.8926 36.7882]…\n",
       "  \"io_values\"                 => [2.49202e5 2423.0 … 6491.5 0.0; 4183.8 56086.1…\n",
       "  \"total_output\"              => [2.00728e6 8.11942e5 … 1.74308e6 66853.4]…\n",
       "  \"intermediate_input_shares\" => [0.973154 0.0268455 … 0.528231 0.294862]…\n",
       "  \"trade_balance\"             => [1184.95 -1239.14 … -406.84 1074.1]…\n",
       "  \"output_shares\"             => [0.967079 0.032921 … 0.521898 0.318506]…\n",
       "  \"beta\"                      => [0.230777 0.441 … 0.297884 0.370242]…"
      ]
     },
     "execution_count": 2,
     "metadata": {},
     "output_type": "execute_result"
    }
   ],
   "source": [
    "data = load(\"../data/impvol_data.jld2\")"
   ]
  },
  {
   "cell_type": "code",
   "execution_count": 3,
   "metadata": {},
   "outputs": [
    {
     "data": {
      "text/plain": [
       "25-element Array{Union{Missings.Missing, String},1}:\n",
       " \"Australia\"             \n",
       " \"Austria\"               \n",
       " \"Belgium and Luxembourg\"\n",
       " \"Canada\"                \n",
       " \"China\"                 \n",
       " \"Colombia\"              \n",
       " \"Denmark\"               \n",
       " \"Finland\"               \n",
       " \"France\"                \n",
       " \"Germany\"               \n",
       " \"Greece\"                \n",
       " \"India\"                 \n",
       " \"Ireland\"               \n",
       " \"Italy\"                 \n",
       " \"Japan\"                 \n",
       " \"Mexico\"                \n",
       " \"Netherlands\"           \n",
       " \"Norway\"                \n",
       " \"Portugal\"              \n",
       " \"ROW\"                   \n",
       " \"South Korea\"           \n",
       " \"Spain\"                 \n",
       " \"Sweden\"                \n",
       " \"United Kingdom\"        \n",
       " \"United States\"         "
      ]
     },
     "execution_count": 3,
     "metadata": {},
     "output_type": "execute_result"
    }
   ],
   "source": [
    "country_names = CSV.read(\"../experiments/baseline/output_table.csv\")[:country_names]"
   ]
  },
  {
   "cell_type": "code",
   "execution_count": 4,
   "metadata": {},
   "outputs": [
    {
     "data": {
      "text/plain": [
       "US_price_index (generic function with 1 method)"
      ]
     },
     "execution_count": 4,
     "metadata": {},
     "output_type": "execute_result"
    }
   ],
   "source": [
    "function US_price_index(data, experiment)\n",
    "    p_sectoral = data[\"p_sectoral_data\"][1,end,:,:]\n",
    "    parameters = load(\"../experiments/$experiment/common_parameters.jld2\")[\"parameters\"]\n",
    "    nu = parameters[:nu_njt][1,1,:,:]\n",
    "    sigma = parameters[:sigma]\n",
    "    return sum(nu .* p_sectoral .^ (1-sigma), 1) .^ (1/(1-sigma))\n",
    "end"
   ]
  },
  {
   "cell_type": "code",
   "execution_count": 5,
   "metadata": {},
   "outputs": [
    {
     "data": {
      "text/plain": [
       "1×36 Array{Float64,2}:\n",
       " 35.4369  38.2792  42.5554  46.6403  …  101.635  106.828  112.764  121.02"
      ]
     },
     "execution_count": 5,
     "metadata": {},
     "output_type": "execute_result"
    }
   ],
   "source": [
    "cpi = US_price_index(data, \"baseline\")"
   ]
  },
  {
   "cell_type": "code",
   "execution_count": 6,
   "metadata": {},
   "outputs": [
    {
     "data": {
      "text/plain": [
       "1×1×1×36 Array{Float64,4}:\n",
       "[:, :, 1, 1] =\n",
       " 1.0\n",
       "\n",
       "[:, :, 1, 2] =\n",
       " 1.08021\n",
       "\n",
       "[:, :, 1, 3] =\n",
       " 1.20088\n",
       "\n",
       "...\n",
       "\n",
       "[:, :, 1, 34] =\n",
       " 3.0146\n",
       "\n",
       "[:, :, 1, 35] =\n",
       " 3.18211\n",
       "\n",
       "[:, :, 1, 36] =\n",
       " 3.41508"
      ]
     },
     "execution_count": 6,
     "metadata": {},
     "output_type": "execute_result"
    }
   ],
   "source": [
    "# to conform with data structures\n",
    "us_cpi = reshape(cpi[end,:] ./ cpi[end,1], (1,1,1,36))"
   ]
  },
  {
   "cell_type": "code",
   "execution_count": 7,
   "metadata": {},
   "outputs": [
    {
     "data": {
      "text/plain": [
       "1×25×1×36 Array{Float64,4}:\n",
       "[:, :, 1, 1] =\n",
       " 0.824111  0.620073  0.816447  1.0138  …  0.469671  1.04781  0.747101  1.0\n",
       "\n",
       "[:, :, 1, 2] =\n",
       " 1.13936  0.795024  0.995663  1.11022  …  0.59099  1.25141  0.825284  1.08021\n",
       "\n",
       "[:, :, 1, 3] =\n",
       " 1.52996  0.933944  1.14979  1.28988  …  0.71763  1.38363  0.944267  1.20088\n",
       "\n",
       "...\n",
       "\n",
       "[:, :, 1, 34] =\n",
       " 2.9687  3.10978  3.24485  2.87797  …  2.75216  3.65456  3.34459  3.0146\n",
       "\n",
       "[:, :, 1, 35] =\n",
       " 3.09307  3.27387  3.43026  3.21288  …  2.95291  3.85804  3.56349  3.18211\n",
       "\n",
       "[:, :, 1, 36] =\n",
       " 3.69163  3.80254  3.96708  3.60814  …  3.46297  4.4728  4.11468  3.41508"
      ]
     },
     "execution_count": 7,
     "metadata": {},
     "output_type": "execute_result"
    }
   ],
   "source": [
    "dollar_price_index = data[\"pwt\"] .* us_cpi"
   ]
  },
  {
   "cell_type": "code",
   "execution_count": 8,
   "metadata": {},
   "outputs": [
    {
     "data": {
      "text/plain": [
       "1×25×1×36 Array{Float64,4}:\n",
       "[:, :, 1, 1] =\n",
       " 64455.1  32858.7  40728.9  96150.9  …  37030.6  1.99307e5  1.12031e6\n",
       "\n",
       "[:, :, 1, 2] =\n",
       " 65982.8  31871.0  43135.0  1.0269e5  …  37735.3  2.06264e5  1.16062e6\n",
       "\n",
       "[:, :, 1, 3] =\n",
       " 62482.1  32631.5  43912.9  1.08415e5  …  39417.2  1.97532e5  1.13239e6\n",
       "\n",
       "...\n",
       "\n",
       "[:, :, 1, 34] =\n",
       " 2.07894e5  88385.4  1.14103e5  3.67082e5  …  88693.0  6.07157e5  3.88509e6\n",
       "\n",
       "[:, :, 1, 35] =\n",
       " 2.14854e5  89878.8  114863.0  371576.0  …  90640.8  6.10731e5  3.89961e6\n",
       "\n",
       "[:, :, 1, 36] =\n",
       " 2.14192e5  89132.5  1.14673e5  3.69017e5  …  90536.3  6.08616e5  3.80577e6"
      ]
     },
     "execution_count": 8,
     "metadata": {},
     "output_type": "execute_result"
    }
   ],
   "source": [
    "real_GDP_data = sum(data[\"va\"], 3) ./ dollar_price_index"
   ]
  },
  {
   "cell_type": "code",
   "execution_count": 9,
   "metadata": {},
   "outputs": [
    {
     "name": "stderr",
     "output_type": "stream",
     "text": [
      "WARNING: Method definition warn(Any...) in module Base at util.jl:589 overwritten in module Logging at /Applications/JuliaPro-0.6.4.1.app/Contents/Resources/pkgs-0.6.4.1/v0.6/Logging/src/Logging.jl:115.\n",
      "WARNING: Method definition info(Any...) in module Base at util.jl:534 overwritten in module Logging at /Applications/JuliaPro-0.6.4.1.app/Contents/Resources/pkgs-0.6.4.1/v0.6/Logging/src/Logging.jl:115.\n"
     ]
    },
    {
     "data": {
      "text/plain": [
       "Dict{Symbol,Any} with 45 entries:\n",
       "  :S_nt                     => [0.0 0.0 … 0.0 0.0]…\n",
       "  :one_over_rho             => 0.0\n",
       "  :inner_tolerance          => 0.0002\n",
       "  :S_nt_data                => [1184.95 -1239.14 … -406.84 1074.1]…\n",
       "  :eta                      => 4.0\n",
       "  :S                        => 101\n",
       "  :sigma                    => 0.999\n",
       "  :d                        => [0.991383 7.85e-7 … 0.000689 0.0004425; 7.42e-5 …\n",
       "  :adjustment_tolerance     => 0.0004\n",
       "  :middle_step_size         => 0.449329\n",
       "  :A_njs                    => Array{Float64,4}[[1466.01 503.068 … 1568.37 7165…\n",
       "  :gamma_jk                 => [0.17112 0.273944 … 0.0195213 0.0108426; 0.04826…\n",
       "  :p_sectoral               => [1.26077 2.37256 … 1.79398 1.0]…\n",
       "  :B_j                      => [5.5087]…\n",
       "  :max_iter_adjustment      => 100\n",
       "  :w_njt                    => [53118.2 20374.8 … 1.48903e5 1.12031e6]…\n",
       "  :global_sectoral_shock    => [7.02105e-15]…\n",
       "  :country_shock_njs        => Array{Float64,4}[[-2.70302e-16 -4.55127e-16 … 7.…\n",
       "  :idiosyncratic_shock_njs  => Array{Float64,4}[[1.02081e-15 -4.59697e-16 … -4.…\n",
       "  :max_iter_inner           => 200\n",
       "  :N                        => 25\n",
       "  :country_shock            => [-2.70302e-16 -4.55127e-16 … 7.44573e-16 1.47482…\n",
       "  :outer_tolerance          => 0.001\n",
       "  :max_iter_outer           => 100\n",
       "  :final_expenditure_shares => [0.0798495 0.0799227 … 0.0798855 0.0798156]…\n",
       "  ⋮                         => ⋮"
      ]
     },
     "execution_count": 9,
     "metadata": {},
     "output_type": "execute_result"
    }
   ],
   "source": [
    "include(\"../output.jl\")\n",
    "using ImpvolOutput\n",
    "parameters = load(\"../experiments/baseline/common_parameters.jld2\")[\"parameters\"]\n"
   ]
  },
  {
   "cell_type": "code",
   "execution_count": 10,
   "metadata": {},
   "outputs": [
    {
     "data": {
      "text/plain": [
       "volatility (generic function with 1 method)"
      ]
     },
     "execution_count": 10,
     "metadata": {},
     "output_type": "execute_result"
    }
   ],
   "source": [
    "function volatility(scenario)\n",
    "    results = load(\"../experiments/$scenario/results.jld2\")[\"results\"]\n",
    "    real_GDP_model = sum(ImpvolOutput.make_series(results, :real_GDP), 3)\n",
    "    return ImpvolOutput.calculate_volatilities(real_GDP_model, parameters, true)[:].^0.5\n",
    "end"
   ]
  },
  {
   "cell_type": "code",
   "execution_count": 11,
   "metadata": {},
   "outputs": [
    {
     "data": {
      "text/plain": [
       "25×3 Array{Float64,2}:\n",
       " 0.0303417  0.0300324  0.0300731\n",
       " 0.0142093  0.023187   0.0200961\n",
       " 0.0178478  0.0319788  0.0282974\n",
       " 0.0139503  0.0243677  0.0207991\n",
       " 0.0762514  0.0789922  0.0782933\n",
       " 0.0293101  0.0331822  0.0377017\n",
       " 0.0168866  0.0210463  0.0191225\n",
       " 0.0209671  0.0248714  0.0255093\n",
       " 0.0136236  0.0139932  0.0143874\n",
       " 0.01504    0.0155931  0.0153524\n",
       " 0.0190854  0.0172922  0.025762 \n",
       " 0.0307193  0.0319376  0.0359316\n",
       " 0.0251652  0.0323663  0.0332292\n",
       " 0.0138399  0.0137948  0.0148073\n",
       " 0.0168999  0.0172045  0.0166729\n",
       " 0.0275213  0.0324076  0.0329034\n",
       " 0.0116397  0.0183437  0.0164287\n",
       " 0.0253615  0.0289954  0.0257151\n",
       " 0.0338734  0.0395185  0.0370693\n",
       " 0.0401589  0.0406178  0.0409356\n",
       " 0.0315266  0.0292037  0.0318188\n",
       " 0.0137769  0.0155436  0.0156149\n",
       " 0.0153384  0.0186054  0.0177927\n",
       " 0.0149432  0.0153756  0.0148609\n",
       " 0.0160794  0.0161791  0.0151603"
      ]
     },
     "execution_count": 11,
     "metadata": {},
     "output_type": "execute_result"
    }
   ],
   "source": [
    "data_volatility = ImpvolOutput.calculate_volatilities(real_GDP_data, parameters, true)[:].^0.5\n",
    "model_volatility = volatility(\"baseline/actual\")\n",
    "CES05_volatility = volatility(\"CES0.5/actual\")\n",
    "[data_volatility model_volatility CES05_volatility]"
   ]
  },
  {
   "cell_type": "code",
   "execution_count": 12,
   "metadata": {
    "scrolled": true
   },
   "outputs": [
    {
     "data": {
      "text/plain": [
       "regression (generic function with 1 method)"
      ]
     },
     "execution_count": 12,
     "metadata": {},
     "output_type": "execute_result"
    }
   ],
   "source": [
    "function regression(x, y)\n",
    "    X = [ones(length(x)) x]\n",
    "    beta = X \\ y\n",
    "    R2 = var(X * beta) / var(y)\n",
    "    return (beta, R2, X*beta)\n",
    "end"
   ]
  },
  {
   "cell_type": "code",
   "execution_count": null,
   "metadata": {},
   "outputs": [],
   "source": []
  },
  {
   "cell_type": "code",
   "execution_count": 13,
   "metadata": {},
   "outputs": [
    {
     "data": {
      "text/plain": [
       "(::#7) (generic function with 1 method)"
      ]
     },
     "execution_count": 13,
     "metadata": {},
     "output_type": "execute_result"
    }
   ],
   "source": [
    "using Plots\n",
    "fm = x->repr(round(x, 3))\n"
   ]
  },
  {
   "cell_type": "code",
   "execution_count": 14,
   "metadata": {},
   "outputs": [
    {
     "data": {
      "text/plain": [
       "plot_model_data (generic function with 1 method)"
      ]
     },
     "execution_count": 14,
     "metadata": {},
     "output_type": "execute_result"
    }
   ],
   "source": [
    "function plot_model_data(scenario, fname)\n",
    "    model_volatility = volatility(scenario)\n",
    "    beta, R2, fitted = regression(data_volatility, model_volatility)\n",
    "    if beta[2]>0\n",
    "        label = \"y = $(fm(beta[1]))+$(fm(beta[2]))x\\nR2 = $(fm(R2)), rho = $(fm(R2^.5))\"\n",
    "    else\n",
    "        label = \"y = $(fm(beta[1]))-$(fm(-beta[2]))x\\nR2 = $(fm(R2)), rho = $(fm(-R2^.5))\"\n",
    "    end\n",
    "    plot(data_volatility, fitted, label=label, xlabel=\"Data volatility (standard deviation)\", size=(800,500))\n",
    "    scatter!(data_volatility, model_volatility, label=\"\", ylabel=\"Model volatility (standard deviation)\")\n",
    "    x = 0.002\n",
    "    for i=1:length(data_volatility)\n",
    "        annotate!(data_volatility[i], model_volatility[i]+x, text(country_names[i], :black, :center, 10))\n",
    "    end\n",
    "    savefig(fname)\n",
    "end"
   ]
  },
  {
   "cell_type": "code",
   "execution_count": 15,
   "metadata": {},
   "outputs": [
    {
     "ename": "LoadError",
     "evalue": "\u001b[91mMethodError: no method matching setcharheight(::Float64)\nThe applicable method may be too new: running in world age 21943, while current world is 21944.\u001b[0m\nClosest candidates are:\n  setcharheight(::Real) at /Applications/JuliaPro-0.6.4.1.app/Contents/Resources/pkgs-0.6.4.1/v0.6/GR/src/GR.jl:1087 (method too new to be called from this world context.)\u001b[39m",
     "output_type": "error",
     "traceback": [
      "\u001b[91mMethodError: no method matching setcharheight(::Float64)\nThe applicable method may be too new: running in world age 21943, while current world is 21944.\u001b[0m\nClosest candidates are:\n  setcharheight(::Real) at /Applications/JuliaPro-0.6.4.1.app/Contents/Resources/pkgs-0.6.4.1/v0.6/GR/src/GR.jl:1087 (method too new to be called from this world context.)\u001b[39m",
      "",
      "Stacktrace:",
      " [1] \u001b[1m#gr_set_font#511\u001b[22m\u001b[22m\u001b[1m(\u001b[22m\u001b[22m::Symbol, ::Symbol, ::ColorTypes.RGBA{Float64}, ::Int64, ::Function, ::Plots.Font\u001b[1m)\u001b[22m\u001b[22m at \u001b[1m/Applications/JuliaPro-0.6.4.1.app/Contents/Resources/pkgs-0.6.4.1/v0.6/Plots/src/backends/gr.jl:405\u001b[22m\u001b[22m",
      " [2] \u001b[1m(::Plots.#kw##gr_set_font)\u001b[22m\u001b[22m\u001b[1m(\u001b[22m\u001b[22m::Array{Any,1}, ::Plots.#gr_set_font, ::Plots.Font\u001b[1m)\u001b[22m\u001b[22m at \u001b[1m./<missing>:0\u001b[22m\u001b[22m",
      " [3] \u001b[1mgr_set_xticks_font\u001b[22m\u001b[22m\u001b[1m(\u001b[22m\u001b[22m::Plots.Subplot{Plots.GRBackend}\u001b[1m)\u001b[22m\u001b[22m at \u001b[1m/Applications/JuliaPro-0.6.4.1.app/Contents/Resources/pkgs-0.6.4.1/v0.6/Plots/src/backends/gr.jl:593\u001b[22m\u001b[22m",
      " [4] \u001b[1m_update_min_padding!\u001b[22m\u001b[22m\u001b[1m(\u001b[22m\u001b[22m::Plots.Subplot{Plots.GRBackend}\u001b[1m)\u001b[22m\u001b[22m at \u001b[1m/Applications/JuliaPro-0.6.4.1.app/Contents/Resources/pkgs-0.6.4.1/v0.6/Plots/src/backends/gr.jl:643\u001b[22m\u001b[22m",
      " [5] \u001b[1m_collect\u001b[22m\u001b[22m\u001b[1m(\u001b[22m\u001b[22m::Array{RecipesBase.AbstractLayout,2}, ::Base.Generator{Array{RecipesBase.AbstractLayout,2},Plots.#_update_min_padding!}, ::Base.EltypeUnknown, ::Base.HasShape\u001b[1m)\u001b[22m\u001b[22m at \u001b[1m./array.jl:483\u001b[22m\u001b[22m",
      " [6] \u001b[1m_update_min_padding!\u001b[22m\u001b[22m\u001b[1m(\u001b[22m\u001b[22m::Plots.GridLayout\u001b[1m)\u001b[22m\u001b[22m at \u001b[1m/Applications/JuliaPro-0.6.4.1.app/Contents/Resources/pkgs-0.6.4.1/v0.6/Plots/src/layouts.jl:310\u001b[22m\u001b[22m",
      " [7] \u001b[1mprepare_output\u001b[22m\u001b[22m\u001b[1m(\u001b[22m\u001b[22m::Plots.Plot{Plots.GRBackend}\u001b[1m)\u001b[22m\u001b[22m at \u001b[1m/Applications/JuliaPro-0.6.4.1.app/Contents/Resources/pkgs-0.6.4.1/v0.6/Plots/src/plot.jl:262\u001b[22m\u001b[22m",
      " [8] \u001b[1mshow\u001b[22m\u001b[22m\u001b[1m(\u001b[22m\u001b[22m::IOStream, ::MIME{Symbol(\"application/pdf\")}, ::Plots.Plot{Plots.GRBackend}\u001b[1m)\u001b[22m\u001b[22m at \u001b[1m/Applications/JuliaPro-0.6.4.1.app/Contents/Resources/pkgs-0.6.4.1/v0.6/Plots/src/output.jl:201\u001b[22m\u001b[22m",
      " [9] \u001b[1mpdf\u001b[22m\u001b[22m\u001b[1m(\u001b[22m\u001b[22m::Plots.Plot{Plots.GRBackend}, ::String\u001b[1m)\u001b[22m\u001b[22m at \u001b[1m/Applications/JuliaPro-0.6.4.1.app/Contents/Resources/pkgs-0.6.4.1/v0.6/Plots/src/output.jl:25\u001b[22m\u001b[22m",
      " [10] \u001b[1msavefig\u001b[22m\u001b[22m\u001b[1m(\u001b[22m\u001b[22m::Plots.Plot{Plots.GRBackend}, ::String\u001b[1m)\u001b[22m\u001b[22m at \u001b[1m/Applications/JuliaPro-0.6.4.1.app/Contents/Resources/pkgs-0.6.4.1/v0.6/Plots/src/output.jl:123\u001b[22m\u001b[22m",
      " [11] \u001b[1mplot_model_data\u001b[22m\u001b[22m\u001b[1m(\u001b[22m\u001b[22m::String, ::String\u001b[1m)\u001b[22m\u001b[22m at \u001b[1m./In[14]:15\u001b[22m\u001b[22m"
     ]
    }
   ],
   "source": [
    "plot_model_data(\"baseline/actual\", \"../Figure2.pdf\")\n",
    "plot_model_data(\"CES0.5/actual\", \"../CES0.5-model-data.pdf\")\n",
    "model_volatility = volatility(\"baseline/actual\") "
   ]
  },
  {
   "cell_type": "code",
   "execution_count": 16,
   "metadata": {},
   "outputs": [
    {
     "name": "stderr",
     "output_type": "stream",
     "text": [
      "WARNING: imported binding for beta overwritten in module Main\n"
     ]
    },
    {
     "data": {
      "text/html": [
       "0.8785749349077668"
      ],
      "text/plain": [
       "0.8785749349077668"
      ]
     },
     "execution_count": 16,
     "metadata": {},
     "output_type": "execute_result"
    }
   ],
   "source": [
    "# without china\n",
    "beta, R2 = regression([data_volatility[1:4]; data_volatility[6:end]], [model_volatility[1:4]; model_volatility[6:end]])\n",
    "correlation = R2^.5"
   ]
  },
  {
   "cell_type": "code",
   "execution_count": 17,
   "metadata": {},
   "outputs": [
    {
     "data": {
      "text/html": [
       "0.9867716811859021"
      ],
      "text/plain": [
       "0.9867716811859021"
      ]
     },
     "execution_count": 17,
     "metadata": {},
     "output_type": "execute_result"
    }
   ],
   "source": [
    "# correlation of variances\n",
    "beta, R2 = regression(data_volatility.^2, model_volatility.^2)\n",
    "correlation = R2^.5"
   ]
  },
  {
   "cell_type": "code",
   "execution_count": 18,
   "metadata": {},
   "outputs": [
    {
     "data": {
      "text/html": [
       "0.8920018182054945"
      ],
      "text/plain": [
       "0.8920018182054945"
      ]
     },
     "execution_count": 18,
     "metadata": {},
     "output_type": "execute_result"
    }
   ],
   "source": [
    "# correlation of variances\n",
    "# without china\n",
    "beta, R2 = regression([data_volatility[1:4]; data_volatility[6:end]].^2, [model_volatility[1:4]; model_volatility[6:end]].^2)\n",
    "correlation = R2^.5"
   ]
  },
  {
   "cell_type": "code",
   "execution_count": 19,
   "metadata": {
    "scrolled": true
   },
   "outputs": [
    {
     "name": "stderr",
     "output_type": "stream",
     "text": [
      "Error encountered while loading \"../experiments/EOS05/actual/results.jld2\".\n",
      "Fatal error:\n"
     ]
    },
    {
     "ename": "LoadError",
     "evalue": "\u001b[91mSystemError: opening file ../experiments/EOS05/actual/results.jld2: No such file or directory\u001b[39m",
     "output_type": "error",
     "traceback": [
      "\u001b[91mSystemError: opening file ../experiments/EOS05/actual/results.jld2: No such file or directory\u001b[39m",
      ""
     ]
    }
   ],
   "source": [
    "plot_model_data(\"EOS05/actual\", \"../EOS05-model-data.pdf\")\n",
    "plot_model_data(\"EOS2/actual\", \"../EOS2-model-data.pdf\")\n"
   ]
  },
  {
   "cell_type": "code",
   "execution_count": 20,
   "metadata": {},
   "outputs": [
    {
     "data": {
      "text/plain": [
       "plot_model_model (generic function with 1 method)"
      ]
     },
     "execution_count": 20,
     "metadata": {},
     "output_type": "execute_result"
    }
   ],
   "source": [
    "function plot_model_model(scenario1, scenario2, fname)\n",
    "    model_volatility0 = volatility(\"baseline/actual\")\n",
    "    percentage_change1 = (model_volatility0 .^ 2) ./ (volatility(scenario1) .^ 2) * 100 - 100\n",
    "    percentage_change2 = (model_volatility0 .^ 2) ./ (volatility(scenario2) .^ 2) * 100 - 100\n",
    "    beta, R2, fitted = regression(percentage_change1, percentage_change2)\n",
    "    if beta[2]>0\n",
    "        label = \"y = $(fm(beta[1]))+$(fm(beta[2]))x\\nR2 = $(fm(R2)), rho = $(fm(R2^.5))\"\n",
    "    else\n",
    "        label = \"y = $(fm(beta[1]))-$(fm(-beta[2]))x\\nR2 = $(fm(R2)), rho = $(fm(-R2^.5))\"\n",
    "    end\n",
    "    plot(percentage_change1, fitted, label=label, xlabel=\"Effect of trade under $scenario1\", size=(800,500))\n",
    "    scatter!(percentage_change1, percentage_change2, label=\"\", ylabel=\"Effect of trade under $scenario2\")\n",
    "    x = 0.002\n",
    "    for i=1:length(percentage_change1)\n",
    "        annotate!(percentage_change1[i], percentage_change2[i]+x, text(country_names[i], :black, :center, 10))\n",
    "    end\n",
    "    savefig(fname)\n",
    "end"
   ]
  },
  {
   "cell_type": "code",
   "execution_count": 21,
   "metadata": {},
   "outputs": [],
   "source": [
    "plot_model_model(\"baseline/kappa1972\", \"fixed_trade/actual\", \"../kappa-vs-trade.pdf\")"
   ]
  },
  {
   "cell_type": "code",
   "execution_count": 22,
   "metadata": {},
   "outputs": [],
   "source": [
    "plot_model_data(\"fixed_trade/actual\", \"../Figure2-fixed-trade.pdf\")"
   ]
  },
  {
   "cell_type": "code",
   "execution_count": 43,
   "metadata": {},
   "outputs": [
    {
     "data": {
      "text/plain": [
       "1×25×24×36 Array{Float64,4}:\n",
       "[:, :, 1, 1] =\n",
       " 0.0155244  0.0249547  -0.00308011  …  0.0669844  -0.0215453  0.00345035\n",
       "\n",
       "[:, :, 2, 1] =\n",
       " 0.0749852  0.0633527  0.1205  0.0841586  …  0.093235  0.131312  0.0648263\n",
       "\n",
       "[:, :, 3, 1] =\n",
       " 0.00350737  0.0179595  0.00149248  …  0.00157639  0.00620359  0.00279835\n",
       "\n",
       "...\n",
       "\n",
       "[:, :, 22, 1] =\n",
       " 0.0175694  -0.0875952  0.00842429  …  0.0053662  0.0218519  0.014794\n",
       "\n",
       "[:, :, 23, 1] =\n",
       " 0.0161633  0.016592  0.0345386  …  0.00755546  0.00372675  0.014234\n",
       "\n",
       "[:, :, 24, 1] =\n",
       " 0.630541  0.281001  0.319631  0.688538  …  0.718415  0.586555  0.652321\n",
       "\n",
       "[:, :, 1, 2] =\n",
       " 0.033939  0.0470475  -0.00234287  …  0.0746569  -0.0229194  0.0224292\n",
       "\n",
       "[:, :, 2, 2] =\n",
       " 0.0525279  0.0848132  0.135862  0.0792014  …  0.116864  0.118066  0.0600313\n",
       "\n",
       "[:, :, 3, 2] =\n",
       " 0.0029769  0.0261618  0.00165648  …  0.00161724  0.00463774  0.0025508\n",
       "\n",
       "...\n",
       "\n",
       "[:, :, 22, 2] =\n",
       " 0.0224687  -0.387285  0.0207468  …  0.116892  0.00498871  0.0142167\n",
       "\n",
       "[:, :, 23, 2] =\n",
       " 0.0174049  0.0204902  0.0419344  …  0.00783221  -0.0118653  0.0126982\n",
       "\n",
       "[:, :, 24, 2] =\n",
       " 0.631873  0.403642  0.385991  0.659574  …  0.929282  0.568958  0.638683\n",
       "\n",
       "[:, :, 1, 3] =\n",
       " 0.0547279  -0.0211927  -0.00910798  …  0.0546562  -0.0275517  0.00890236\n",
       "\n",
       "[:, :, 2, 3] =\n",
       " 0.0750797  -0.0462133  0.043494  …  0.0464905  0.116861  0.0606516\n",
       "\n",
       "[:, :, 3, 3] =\n",
       " 0.00289123  -0.0120078  0.000684373  …  0.000466699  0.00438451  0.00245863\n",
       "\n",
       "...\n",
       "\n",
       "[:, :, 22, 3] =\n",
       " 0.0172608  0.256058  0.00270353  …  0.00661474  0.0179871  0.0095316\n",
       "\n",
       "[:, :, 23, 3] =\n",
       " 0.0149586  -0.0123883  0.0135125  …  0.0039216  -0.0170429  0.0111474\n",
       "\n",
       "[:, :, 24, 3] =\n",
       " 0.612163  -0.258504  0.133045  0.645122  …  0.402943  0.608492  0.67962\n",
       "\n",
       "...\n",
       "\n",
       "[:, :, 1, 34] =\n",
       " -0.00597583  0.0028173  0.00291594  …  0.000782866  0.1768  -0.571092\n",
       "\n",
       "[:, :, 2, 34] =\n",
       " 0.0795797  -0.0059813  -0.00214443  …  -0.00187474  -0.325391  0.624871\n",
       "\n",
       "[:, :, 3, 34] =\n",
       " -9.64456e-5  0.000219954  4.92093e-5  …  -3.51716e-5  -0.00668507  0.0580786\n",
       "\n",
       "...\n",
       "\n",
       "[:, :, 22, 34] =\n",
       " 0.0251159  -0.000718195  -0.0021275  …  -0.000618422  -0.0167693  -1.09365\n",
       "\n",
       "[:, :, 23, 34] =\n",
       " 0.0184587  0.00193283  0.103922  …  -0.000409719  -0.892972  0.0914638\n",
       "\n",
       "[:, :, 24, 34] =\n",
       " 1.56521  -0.0834353  -0.0462051  -0.0881594  …  -0.029221  -3.98191  10.4642\n",
       "\n",
       "[:, :, 1, 35] =\n",
       " -0.00412155  -0.00862552  0.00949734  …  0.00793679  -0.0150253  -0.0500849\n",
       "\n",
       "[:, :, 2, 35] =\n",
       " 0.0469831  0.0183269  -0.00698123  …  -0.0278413  0.0253943  0.04725\n",
       "\n",
       "[:, :, 3, 35] =\n",
       " -0.00039409  0.00714141  7.1706e-5  0.000474769  …  0.000348659  0.0042588\n",
       "\n",
       "...\n",
       "\n",
       "[:, :, 22, 35] =\n",
       " 0.00768268  0.000573199  0.0162078  …  -0.00515713  0.00384275  0.0174681\n",
       "\n",
       "[:, :, 23, 35] =\n",
       " 0.00781495  0.0058621  0.10309  …  -0.00510367  0.0221081  0.00782187\n",
       "\n",
       "[:, :, 24, 35] =\n",
       " 1.04053  0.261618  -0.206085  0.444191  …  -0.442391  0.346631  0.860603\n",
       "\n",
       "[:, :, 1, 36] =\n",
       " -0.00964498  -0.0198996  -0.0386669  …  -0.00291657  -0.0832159  -0.0426757\n",
       "\n",
       "[:, :, 2, 36] =\n",
       " 0.0285014  0.0530532  0.023833  0.0599969  …  0.0249971  0.131241  0.0432172\n",
       "\n",
       "[:, :, 3, 36] =\n",
       " -0.00124437  -0.0158072  -0.00253034  0.00264577  …  0.000237668  0.00361451\n",
       "\n",
       "...\n",
       "\n",
       "[:, :, 22, 36] =\n",
       " 0.00389912  0.0048017  -0.430391  …  0.00745839  0.033765  0.00695432\n",
       "\n",
       "[:, :, 23, 36] =\n",
       " 0.00512826  0.0232303  -0.287657  …  0.00528608  0.100201  0.0062821\n",
       "\n",
       "[:, :, 24, 36] =\n",
       " 0.703062  0.658318  0.778054  1.01995  …  0.405356  1.99939  0.814095"
      ]
     },
     "execution_count": 43,
     "metadata": {},
     "output_type": "execute_result"
    }
   ],
   "source": [
    "nu_guess = p[:final_expenditure_shares]"
   ]
  },
  {
   "cell_type": "code",
   "execution_count": 45,
   "metadata": {},
   "outputs": [],
   "source": [
    "J=p[:J]\n",
    "T = p[:T]\n",
    "nu = copy(nu_guess)\n",
    "for j = 1:J, t=1:T\n",
    "\t\t\tvector = nu_guess[1,:,j,t]\n",
    "\t\t\tnu[1,vector .<= 0,j,t] = minimum(vector[vector .> 0])\n",
    "\t\tend\n"
   ]
  },
  {
   "cell_type": "code",
   "execution_count": 53,
   "metadata": {},
   "outputs": [
    {
     "data": {
      "image/svg+xml": [
       "<?xml version=\"1.0\" encoding=\"utf-8\"?>\n",
       "<svg xmlns=\"http://www.w3.org/2000/svg\" xmlns:xlink=\"http://www.w3.org/1999/xlink\" width=\"600\" height=\"400\" viewBox=\"0 0 600 400\">\n",
       "<defs>\n",
       "  <clipPath id=\"clip5500\">\n",
       "    <rect x=\"0\" y=\"0\" width=\"600\" height=\"400\"/>\n",
       "  </clipPath>\n",
       "</defs>\n",
       "<polygon clip-path=\"url(#clip5500)\" points=\"\n",
       "0,400 600,400 600,0 0,0 \n",
       "  \" fill=\"#ffffff\" fill-opacity=\"1\"/>\n",
       "<defs>\n",
       "  <clipPath id=\"clip5501\">\n",
       "    <rect x=\"120\" y=\"0\" width=\"421\" height=\"400\"/>\n",
       "  </clipPath>\n",
       "</defs>\n",
       "<polygon clip-path=\"url(#clip5500)\" points=\"\n",
       "30.3126,375.869 580.315,375.869 580.315,11.811 30.3126,11.811 \n",
       "  \" fill=\"#ffffff\" fill-opacity=\"1\"/>\n",
       "<defs>\n",
       "  <clipPath id=\"clip5502\">\n",
       "    <rect x=\"30\" y=\"11\" width=\"551\" height=\"365\"/>\n",
       "  </clipPath>\n",
       "</defs>\n",
       "<polyline clip-path=\"url(#clip5502)\" style=\"stroke:#000000; stroke-width:0.5; stroke-opacity:0.1; fill:none\" points=\"\n",
       "  31.0539,375.869 31.0539,11.811 \n",
       "  \"/>\n",
       "<polyline clip-path=\"url(#clip5502)\" style=\"stroke:#000000; stroke-width:0.5; stroke-opacity:0.1; fill:none\" points=\"\n",
       "  179.302,375.869 179.302,11.811 \n",
       "  \"/>\n",
       "<polyline clip-path=\"url(#clip5502)\" style=\"stroke:#000000; stroke-width:0.5; stroke-opacity:0.1; fill:none\" points=\"\n",
       "  327.551,375.869 327.551,11.811 \n",
       "  \"/>\n",
       "<polyline clip-path=\"url(#clip5502)\" style=\"stroke:#000000; stroke-width:0.5; stroke-opacity:0.1; fill:none\" points=\"\n",
       "  475.8,375.869 475.8,11.811 \n",
       "  \"/>\n",
       "<polyline clip-path=\"url(#clip5502)\" style=\"stroke:#000000; stroke-width:0.5; stroke-opacity:0.1; fill:none\" points=\"\n",
       "  30.3126,327.556 580.315,327.556 \n",
       "  \"/>\n",
       "<polyline clip-path=\"url(#clip5502)\" style=\"stroke:#000000; stroke-width:0.5; stroke-opacity:0.1; fill:none\" points=\"\n",
       "  30.3126,237.846 580.315,237.846 \n",
       "  \"/>\n",
       "<polyline clip-path=\"url(#clip5502)\" style=\"stroke:#000000; stroke-width:0.5; stroke-opacity:0.1; fill:none\" points=\"\n",
       "  30.3126,148.137 580.315,148.137 \n",
       "  \"/>\n",
       "<polyline clip-path=\"url(#clip5502)\" style=\"stroke:#000000; stroke-width:0.5; stroke-opacity:0.1; fill:none\" points=\"\n",
       "  30.3126,58.4275 580.315,58.4275 \n",
       "  \"/>\n",
       "<polyline clip-path=\"url(#clip5500)\" style=\"stroke:#000000; stroke-width:1; stroke-opacity:1; fill:none\" points=\"\n",
       "  30.3126,375.869 580.315,375.869 \n",
       "  \"/>\n",
       "<polyline clip-path=\"url(#clip5500)\" style=\"stroke:#000000; stroke-width:1; stroke-opacity:1; fill:none\" points=\"\n",
       "  30.3126,375.869 30.3126,11.811 \n",
       "  \"/>\n",
       "<polyline clip-path=\"url(#clip5500)\" style=\"stroke:#000000; stroke-width:1; stroke-opacity:1; fill:none\" points=\"\n",
       "  31.0539,375.869 31.0539,370.408 \n",
       "  \"/>\n",
       "<polyline clip-path=\"url(#clip5500)\" style=\"stroke:#000000; stroke-width:1; stroke-opacity:1; fill:none\" points=\"\n",
       "  179.302,375.869 179.302,370.408 \n",
       "  \"/>\n",
       "<polyline clip-path=\"url(#clip5500)\" style=\"stroke:#000000; stroke-width:1; stroke-opacity:1; fill:none\" points=\"\n",
       "  327.551,375.869 327.551,370.408 \n",
       "  \"/>\n",
       "<polyline clip-path=\"url(#clip5500)\" style=\"stroke:#000000; stroke-width:1; stroke-opacity:1; fill:none\" points=\"\n",
       "  475.8,375.869 475.8,370.408 \n",
       "  \"/>\n",
       "<polyline clip-path=\"url(#clip5500)\" style=\"stroke:#000000; stroke-width:1; stroke-opacity:1; fill:none\" points=\"\n",
       "  30.3126,327.556 38.5627,327.556 \n",
       "  \"/>\n",
       "<polyline clip-path=\"url(#clip5500)\" style=\"stroke:#000000; stroke-width:1; stroke-opacity:1; fill:none\" points=\"\n",
       "  30.3126,237.846 38.5627,237.846 \n",
       "  \"/>\n",
       "<polyline clip-path=\"url(#clip5500)\" style=\"stroke:#000000; stroke-width:1; stroke-opacity:1; fill:none\" points=\"\n",
       "  30.3126,148.137 38.5627,148.137 \n",
       "  \"/>\n",
       "<polyline clip-path=\"url(#clip5500)\" style=\"stroke:#000000; stroke-width:1; stroke-opacity:1; fill:none\" points=\"\n",
       "  30.3126,58.4275 38.5627,58.4275 \n",
       "  \"/>\n",
       "<g clip-path=\"url(#clip5500)\">\n",
       "<text style=\"fill:#000000; fill-opacity:1; font-family:Arial,Helvetica Neue,Helvetica,sans-serif; font-size:12; text-anchor:middle;\" transform=\"rotate(0, 31.0539, 389.669)\" x=\"31.0539\" y=\"389.669\">0</text>\n",
       "</g>\n",
       "<g clip-path=\"url(#clip5500)\">\n",
       "<text style=\"fill:#000000; fill-opacity:1; font-family:Arial,Helvetica Neue,Helvetica,sans-serif; font-size:12; text-anchor:middle;\" transform=\"rotate(0, 179.302, 389.669)\" x=\"179.302\" y=\"389.669\">10</text>\n",
       "</g>\n",
       "<g clip-path=\"url(#clip5500)\">\n",
       "<text style=\"fill:#000000; fill-opacity:1; font-family:Arial,Helvetica Neue,Helvetica,sans-serif; font-size:12; text-anchor:middle;\" transform=\"rotate(0, 327.551, 389.669)\" x=\"327.551\" y=\"389.669\">20</text>\n",
       "</g>\n",
       "<g clip-path=\"url(#clip5500)\">\n",
       "<text style=\"fill:#000000; fill-opacity:1; font-family:Arial,Helvetica Neue,Helvetica,sans-serif; font-size:12; text-anchor:middle;\" transform=\"rotate(0, 475.8, 389.669)\" x=\"475.8\" y=\"389.669\">30</text>\n",
       "</g>\n",
       "<g clip-path=\"url(#clip5500)\">\n",
       "<text style=\"fill:#000000; fill-opacity:1; font-family:Arial,Helvetica Neue,Helvetica,sans-serif; font-size:12; text-anchor:end;\" transform=\"rotate(0, 24.3126, 332.056)\" x=\"24.3126\" y=\"332.056\">0</text>\n",
       "</g>\n",
       "<g clip-path=\"url(#clip5500)\">\n",
       "<text style=\"fill:#000000; fill-opacity:1; font-family:Arial,Helvetica Neue,Helvetica,sans-serif; font-size:12; text-anchor:end;\" transform=\"rotate(0, 24.3126, 242.346)\" x=\"24.3126\" y=\"242.346\">2</text>\n",
       "</g>\n",
       "<g clip-path=\"url(#clip5500)\">\n",
       "<text style=\"fill:#000000; fill-opacity:1; font-family:Arial,Helvetica Neue,Helvetica,sans-serif; font-size:12; text-anchor:end;\" transform=\"rotate(0, 24.3126, 152.637)\" x=\"24.3126\" y=\"152.637\">4</text>\n",
       "</g>\n",
       "<g clip-path=\"url(#clip5500)\">\n",
       "<text style=\"fill:#000000; fill-opacity:1; font-family:Arial,Helvetica Neue,Helvetica,sans-serif; font-size:12; text-anchor:end;\" transform=\"rotate(0, 24.3126, 62.9275)\" x=\"24.3126\" y=\"62.9275\">6</text>\n",
       "</g>\n",
       "<polyline clip-path=\"url(#clip5502)\" style=\"stroke:#009af9; stroke-width:1; stroke-opacity:1; fill:none\" points=\"\n",
       "  45.8787,331.058 60.7036,331.533 75.5285,331.404 90.3533,332.413 105.178,332.289 120.003,331.192 134.828,331.289 149.653,333.326 164.478,332.673 179.302,332.417 \n",
       "  194.127,332.554 208.952,331.731 223.777,329.625 238.602,326.266 253.427,325.436 268.252,324.516 283.077,322.882 297.901,322.617 312.726,322.668 327.551,321.115 \n",
       "  342.376,317.77 357.201,319.036 372.026,318.635 386.851,315.651 401.675,317.414 416.5,315.412 431.325,318.102 446.15,22.1145 460.975,277.707 475.8,301.328 \n",
       "  490.625,286.777 505.449,302.956 520.274,301.945 535.099,365.565 549.924,295.13 564.749,301.825 \n",
       "  \"/>\n",
       "<polyline clip-path=\"url(#clip5502)\" style=\"stroke:#e26f46; stroke-width:1; stroke-opacity:1; fill:none\" points=\"\n",
       "  45.8787,320.399 60.7036,326.134 75.5285,321.588 90.3533,322.466 105.178,325.009 120.003,325.175 134.828,317.145 149.653,324.356 164.478,325.038 179.302,315.207 \n",
       "  194.127,315.142 208.952,317.493 223.777,315.633 238.602,326.266 253.427,325.436 268.252,324.516 283.077,322.882 297.901,322.617 312.726,322.668 327.551,321.115 \n",
       "  342.376,317.77 357.201,319.036 372.026,318.635 386.851,315.651 401.675,317.414 416.5,315.412 431.325,318.102 446.15,22.1145 460.975,277.707 475.8,301.328 \n",
       "  490.625,286.777 505.449,302.956 520.274,301.945 535.099,327.016 549.924,295.13 564.749,301.825 \n",
       "  \"/>\n",
       "<polygon clip-path=\"url(#clip5500)\" points=\"\n",
       "489.608,78.051 562.315,78.051 562.315,32.691 489.608,32.691 \n",
       "  \" fill=\"#ffffff\" fill-opacity=\"1\"/>\n",
       "<polyline clip-path=\"url(#clip5500)\" style=\"stroke:#000000; stroke-width:1; stroke-opacity:1; fill:none\" points=\"\n",
       "  489.608,78.051 562.315,78.051 562.315,32.691 489.608,32.691 489.608,78.051 \n",
       "  \"/>\n",
       "<polyline clip-path=\"url(#clip5500)\" style=\"stroke:#009af9; stroke-width:1; stroke-opacity:1; fill:none\" points=\"\n",
       "  495.608,47.811 531.608,47.811 \n",
       "  \"/>\n",
       "<g clip-path=\"url(#clip5500)\">\n",
       "<text style=\"fill:#000000; fill-opacity:1; font-family:Arial,Helvetica Neue,Helvetica,sans-serif; font-size:12; text-anchor:start;\" transform=\"rotate(0, 537.608, 52.311)\" x=\"537.608\" y=\"52.311\">y1</text>\n",
       "</g>\n",
       "<polyline clip-path=\"url(#clip5500)\" style=\"stroke:#e26f46; stroke-width:1; stroke-opacity:1; fill:none\" points=\"\n",
       "  495.608,62.931 531.608,62.931 \n",
       "  \"/>\n",
       "<g clip-path=\"url(#clip5500)\">\n",
       "<text style=\"fill:#000000; fill-opacity:1; font-family:Arial,Helvetica Neue,Helvetica,sans-serif; font-size:12; text-anchor:start;\" transform=\"rotate(0, 537.608, 67.431)\" x=\"537.608\" y=\"67.431\">y2</text>\n",
       "</g>\n",
       "</svg>\n"
      ]
     },
     "execution_count": 53,
     "metadata": {},
     "output_type": "execute_result"
    }
   ],
   "source": [
    "plot([nu_guess[1,5,end,:] nu[1,5,end,:]])"
   ]
  },
  {
   "cell_type": "code",
   "execution_count": 54,
   "metadata": {},
   "outputs": [
    {
     "data": {
      "text/plain": [
       "24×36 Array{Float64,2}:\n",
       "  0.00345035   0.0224292    0.00890236   …  -0.0500849    -0.0426757  \n",
       "  0.0648263    0.0600313    0.0606516        0.04725       0.0432172  \n",
       "  0.00279835   0.0025508    0.00245863       0.0042588     0.00361451 \n",
       "  0.0165587    0.0156772    0.0134165        0.00642195    0.00571356 \n",
       "  0.0197843    0.018004     0.01658          0.00398179    0.00296079 \n",
       "  0.00287283   0.00258826   0.0021878    …   0.00296916    0.00297555 \n",
       "  0.0052272    0.00536509   0.00240753       0.00116982    0.00012009 \n",
       "  0.0124985    0.0128232    0.0151387        0.00470791    0.00411321 \n",
       "  0.00567562   0.00413207   0.00245164      -0.0087558    -0.00811202 \n",
       "  0.00150858   0.00462674   0.0083584       -0.0203715     0.020954   \n",
       "  0.0123103    0.00914071   0.0124742    …   0.0827693     0.0121071  \n",
       " -0.00376203  -0.003928    -0.00442297      -0.00167773    0.00135931 \n",
       "  0.00296337   0.00204715   0.000526025     -0.00226254   -0.0025493  \n",
       " -0.00419949  -0.00257268   0.00329712      -0.00544192   -0.0047267  \n",
       "  0.00847915   0.00795798   0.00927699       0.00455616    0.00531577 \n",
       "  0.0350468    0.0350294    0.0365678    …   0.000881425   0.00254999 \n",
       "  0.01021      0.0180498    0.0169203       -0.00442749   -0.0038524  \n",
       "  0.0340265    0.0334859    0.0310345       -0.00154587   -0.000918103\n",
       "  0.0226337    0.0239402    0.00627258       0.0255875     0.120057   \n",
       "  0.00444326   0.00240981   0.00462936      -0.0027853    -0.0130817  \n",
       "  0.0612992    0.0606139    0.0505719    …   0.0269062     0.0235265  \n",
       "  0.014794     0.0142167    0.0095316        0.0174681     0.00695432 \n",
       "  0.014234     0.0126982    0.0111474        0.00782187    0.0062821  \n",
       "  0.652321     0.638683     0.67962          0.860603      0.814095   "
      ]
     },
     "execution_count": 54,
     "metadata": {},
     "output_type": "execute_result"
    }
   ],
   "source": [
    "nu_guess[1,end,:,:]"
   ]
  },
  {
   "cell_type": "code",
   "execution_count": 56,
   "metadata": {},
   "outputs": [
    {
     "data": {
      "text/plain": [
       "24×36 Array{Float64,2}:\n",
       "  0.0833179     0.0901267    0.081704     …  -0.00142279   -0.00598749 \n",
       "  0.09348       0.0879668    0.0834849        0.0538693     0.060137   \n",
       "  0.0080607     0.00738491   0.00706085       0.00566812    0.00554451 \n",
       "  0.0312768     0.0311803    0.0261622        0.00976672    0.00535977 \n",
       "  0.0176225     0.0159068    0.0137487        0.00450771    0.00483642 \n",
       "  0.00598391    0.00625452   0.00582997   …   0.000223895   0.00406285 \n",
       "  0.00752167    0.00805283   0.00466681       0.000400349   0.000571763\n",
       "  0.012269      0.0124004    0.0147086        0.004352      0.00354918 \n",
       "  0.00244841    0.00136198   7.57993e-5      -0.00550811   -0.0049725  \n",
       "  0.0243838     0.0296491    0.0330667        0.0108768     0.0162915  \n",
       "  0.0179984     0.015845     0.018986     …   0.115427     -0.00324187 \n",
       "  0.000868655  -0.00100447   0.000293432     -0.0135236    -0.000225284\n",
       "  0.0136516     0.0127919    0.0106487        0.00307209    0.00281788 \n",
       "  0.00514262    0.00979203   0.0103748        0.00198328    0.000268597\n",
       "  0.0112277     0.0106137    0.0107501        0.00619928    0.00777953 \n",
       "  0.0356136     0.0345789    0.0342514    …   0.0147114     0.0298425  \n",
       "  0.0044107     0.0295431    0.056322        -0.00349689    0.00383859 \n",
       "  0.0353504     0.0335867    0.0313068        0.00585162    0.00736925 \n",
       "  0.0114556     0.0115495    0.0086272        0.0215233     0.0131043  \n",
       " -0.000544984  -0.00359772  -0.0131959        0.000570037  -0.014933   \n",
       "  0.051492      0.0501911    0.0424497    …   0.0244599     0.0297609  \n",
       "  0.0109363     0.0103111    0.0121635        0.0099894     0.00793135 \n",
       "  0.013015      0.0115092    0.0104716        0.00846631    0.0107113  \n",
       "  0.503018      0.484006     0.496042         0.722033      0.815583   "
      ]
     },
     "execution_count": 56,
     "metadata": {},
     "output_type": "execute_result"
    }
   ],
   "source": [
    "p[:nu_njt][1,1,:,:]"
   ]
  },
  {
   "cell_type": "code",
   "execution_count": 60,
   "metadata": {},
   "outputs": [
    {
     "data": {
      "image/svg+xml": [
       "<?xml version=\"1.0\" encoding=\"utf-8\"?>\n",
       "<svg xmlns=\"http://www.w3.org/2000/svg\" xmlns:xlink=\"http://www.w3.org/1999/xlink\" width=\"600\" height=\"400\" viewBox=\"0 0 600 400\">\n",
       "<defs>\n",
       "  <clipPath id=\"clip5900\">\n",
       "    <rect x=\"0\" y=\"0\" width=\"600\" height=\"400\"/>\n",
       "  </clipPath>\n",
       "</defs>\n",
       "<polygon clip-path=\"url(#clip5900)\" points=\"\n",
       "0,400 600,400 600,0 0,0 \n",
       "  \" fill=\"#ffffff\" fill-opacity=\"1\"/>\n",
       "<defs>\n",
       "  <clipPath id=\"clip5901\">\n",
       "    <rect x=\"120\" y=\"0\" width=\"421\" height=\"400\"/>\n",
       "  </clipPath>\n",
       "</defs>\n",
       "<polygon clip-path=\"url(#clip5900)\" points=\"\n",
       "30.3126,375.869 580.315,375.869 580.315,11.811 30.3126,11.811 \n",
       "  \" fill=\"#ffffff\" fill-opacity=\"1\"/>\n",
       "<defs>\n",
       "  <clipPath id=\"clip5902\">\n",
       "    <rect x=\"30\" y=\"11\" width=\"551\" height=\"365\"/>\n",
       "  </clipPath>\n",
       "</defs>\n",
       "<polyline clip-path=\"url(#clip5902)\" style=\"stroke:#000000; stroke-width:0.5; stroke-opacity:0.1; fill:none\" points=\"\n",
       "  40.1679,375.869 40.1679,11.811 \n",
       "  \"/>\n",
       "<polyline clip-path=\"url(#clip5902)\" style=\"stroke:#000000; stroke-width:0.5; stroke-opacity:0.1; fill:none\" points=\"\n",
       "  142.147,375.869 142.147,11.811 \n",
       "  \"/>\n",
       "<polyline clip-path=\"url(#clip5902)\" style=\"stroke:#000000; stroke-width:0.5; stroke-opacity:0.1; fill:none\" points=\"\n",
       "  244.126,375.869 244.126,11.811 \n",
       "  \"/>\n",
       "<polyline clip-path=\"url(#clip5902)\" style=\"stroke:#000000; stroke-width:0.5; stroke-opacity:0.1; fill:none\" points=\"\n",
       "  346.105,375.869 346.105,11.811 \n",
       "  \"/>\n",
       "<polyline clip-path=\"url(#clip5902)\" style=\"stroke:#000000; stroke-width:0.5; stroke-opacity:0.1; fill:none\" points=\"\n",
       "  448.085,375.869 448.085,11.811 \n",
       "  \"/>\n",
       "<polyline clip-path=\"url(#clip5902)\" style=\"stroke:#000000; stroke-width:0.5; stroke-opacity:0.1; fill:none\" points=\"\n",
       "  550.064,375.869 550.064,11.811 \n",
       "  \"/>\n",
       "<polyline clip-path=\"url(#clip5902)\" style=\"stroke:#000000; stroke-width:0.5; stroke-opacity:0.1; fill:none\" points=\"\n",
       "  30.3126,365.565 580.315,365.565 \n",
       "  \"/>\n",
       "<polyline clip-path=\"url(#clip5902)\" style=\"stroke:#000000; stroke-width:0.5; stroke-opacity:0.1; fill:none\" points=\"\n",
       "  30.3126,267.436 580.315,267.436 \n",
       "  \"/>\n",
       "<polyline clip-path=\"url(#clip5902)\" style=\"stroke:#000000; stroke-width:0.5; stroke-opacity:0.1; fill:none\" points=\"\n",
       "  30.3126,169.308 580.315,169.308 \n",
       "  \"/>\n",
       "<polyline clip-path=\"url(#clip5902)\" style=\"stroke:#000000; stroke-width:0.5; stroke-opacity:0.1; fill:none\" points=\"\n",
       "  30.3126,71.1789 580.315,71.1789 \n",
       "  \"/>\n",
       "<polyline clip-path=\"url(#clip5900)\" style=\"stroke:#000000; stroke-width:1; stroke-opacity:1; fill:none\" points=\"\n",
       "  30.3126,375.869 580.315,375.869 \n",
       "  \"/>\n",
       "<polyline clip-path=\"url(#clip5900)\" style=\"stroke:#000000; stroke-width:1; stroke-opacity:1; fill:none\" points=\"\n",
       "  30.3126,375.869 30.3126,11.811 \n",
       "  \"/>\n",
       "<polyline clip-path=\"url(#clip5900)\" style=\"stroke:#000000; stroke-width:1; stroke-opacity:1; fill:none\" points=\"\n",
       "  40.1679,375.869 40.1679,370.408 \n",
       "  \"/>\n",
       "<polyline clip-path=\"url(#clip5900)\" style=\"stroke:#000000; stroke-width:1; stroke-opacity:1; fill:none\" points=\"\n",
       "  142.147,375.869 142.147,370.408 \n",
       "  \"/>\n",
       "<polyline clip-path=\"url(#clip5900)\" style=\"stroke:#000000; stroke-width:1; stroke-opacity:1; fill:none\" points=\"\n",
       "  244.126,375.869 244.126,370.408 \n",
       "  \"/>\n",
       "<polyline clip-path=\"url(#clip5900)\" style=\"stroke:#000000; stroke-width:1; stroke-opacity:1; fill:none\" points=\"\n",
       "  346.105,375.869 346.105,370.408 \n",
       "  \"/>\n",
       "<polyline clip-path=\"url(#clip5900)\" style=\"stroke:#000000; stroke-width:1; stroke-opacity:1; fill:none\" points=\"\n",
       "  448.085,375.869 448.085,370.408 \n",
       "  \"/>\n",
       "<polyline clip-path=\"url(#clip5900)\" style=\"stroke:#000000; stroke-width:1; stroke-opacity:1; fill:none\" points=\"\n",
       "  550.064,375.869 550.064,370.408 \n",
       "  \"/>\n",
       "<polyline clip-path=\"url(#clip5900)\" style=\"stroke:#000000; stroke-width:1; stroke-opacity:1; fill:none\" points=\"\n",
       "  30.3126,365.565 38.5627,365.565 \n",
       "  \"/>\n",
       "<polyline clip-path=\"url(#clip5900)\" style=\"stroke:#000000; stroke-width:1; stroke-opacity:1; fill:none\" points=\"\n",
       "  30.3126,267.436 38.5627,267.436 \n",
       "  \"/>\n",
       "<polyline clip-path=\"url(#clip5900)\" style=\"stroke:#000000; stroke-width:1; stroke-opacity:1; fill:none\" points=\"\n",
       "  30.3126,169.308 38.5627,169.308 \n",
       "  \"/>\n",
       "<polyline clip-path=\"url(#clip5900)\" style=\"stroke:#000000; stroke-width:1; stroke-opacity:1; fill:none\" points=\"\n",
       "  30.3126,71.1789 38.5627,71.1789 \n",
       "  \"/>\n",
       "<g clip-path=\"url(#clip5900)\">\n",
       "<text style=\"fill:#000000; fill-opacity:1; font-family:Arial,Helvetica Neue,Helvetica,sans-serif; font-size:12; text-anchor:middle;\" transform=\"rotate(0, 40.1679, 389.669)\" x=\"40.1679\" y=\"389.669\">-0.5</text>\n",
       "</g>\n",
       "<g clip-path=\"url(#clip5900)\">\n",
       "<text style=\"fill:#000000; fill-opacity:1; font-family:Arial,Helvetica Neue,Helvetica,sans-serif; font-size:12; text-anchor:middle;\" transform=\"rotate(0, 142.147, 389.669)\" x=\"142.147\" y=\"389.669\">0.0</text>\n",
       "</g>\n",
       "<g clip-path=\"url(#clip5900)\">\n",
       "<text style=\"fill:#000000; fill-opacity:1; font-family:Arial,Helvetica Neue,Helvetica,sans-serif; font-size:12; text-anchor:middle;\" transform=\"rotate(0, 244.126, 389.669)\" x=\"244.126\" y=\"389.669\">0.5</text>\n",
       "</g>\n",
       "<g clip-path=\"url(#clip5900)\">\n",
       "<text style=\"fill:#000000; fill-opacity:1; font-family:Arial,Helvetica Neue,Helvetica,sans-serif; font-size:12; text-anchor:middle;\" transform=\"rotate(0, 346.105, 389.669)\" x=\"346.105\" y=\"389.669\">1.0</text>\n",
       "</g>\n",
       "<g clip-path=\"url(#clip5900)\">\n",
       "<text style=\"fill:#000000; fill-opacity:1; font-family:Arial,Helvetica Neue,Helvetica,sans-serif; font-size:12; text-anchor:middle;\" transform=\"rotate(0, 448.085, 389.669)\" x=\"448.085\" y=\"389.669\">1.5</text>\n",
       "</g>\n",
       "<g clip-path=\"url(#clip5900)\">\n",
       "<text style=\"fill:#000000; fill-opacity:1; font-family:Arial,Helvetica Neue,Helvetica,sans-serif; font-size:12; text-anchor:middle;\" transform=\"rotate(0, 550.064, 389.669)\" x=\"550.064\" y=\"389.669\">2.0</text>\n",
       "</g>\n",
       "<g clip-path=\"url(#clip5900)\">\n",
       "<text style=\"fill:#000000; fill-opacity:1; font-family:Arial,Helvetica Neue,Helvetica,sans-serif; font-size:12; text-anchor:end;\" transform=\"rotate(0, 24.3126, 370.065)\" x=\"24.3126\" y=\"370.065\">0</text>\n",
       "</g>\n",
       "<g clip-path=\"url(#clip5900)\">\n",
       "<text style=\"fill:#000000; fill-opacity:1; font-family:Arial,Helvetica Neue,Helvetica,sans-serif; font-size:12; text-anchor:end;\" transform=\"rotate(0, 24.3126, 271.936)\" x=\"24.3126\" y=\"271.936\">2</text>\n",
       "</g>\n",
       "<g clip-path=\"url(#clip5900)\">\n",
       "<text style=\"fill:#000000; fill-opacity:1; font-family:Arial,Helvetica Neue,Helvetica,sans-serif; font-size:12; text-anchor:end;\" transform=\"rotate(0, 24.3126, 173.808)\" x=\"24.3126\" y=\"173.808\">4</text>\n",
       "</g>\n",
       "<g clip-path=\"url(#clip5900)\">\n",
       "<text style=\"fill:#000000; fill-opacity:1; font-family:Arial,Helvetica Neue,Helvetica,sans-serif; font-size:12; text-anchor:end;\" transform=\"rotate(0, 24.3126, 75.6789)\" x=\"24.3126\" y=\"75.6789\">6</text>\n",
       "</g>\n",
       "<polygon clip-path=\"url(#clip5902)\" points=\"\n",
       "60.5637,316.501 60.5637,365.565 101.355,365.565 101.355,316.501 60.5637,316.501 60.5637,316.501 \n",
       "  \" fill=\"#009af9\" fill-opacity=\"1\"/>\n",
       "<polyline clip-path=\"url(#clip5902)\" style=\"stroke:#000000; stroke-width:1; stroke-opacity:1; fill:none\" points=\"\n",
       "  60.5637,316.501 60.5637,365.565 101.355,365.565 101.355,316.501 60.5637,316.501 \n",
       "  \"/>\n",
       "<polygon clip-path=\"url(#clip5902)\" points=\"\n",
       "101.355,316.501 101.355,365.565 142.147,365.565 142.147,316.501 101.355,316.501 101.355,316.501 \n",
       "  \" fill=\"#009af9\" fill-opacity=\"1\"/>\n",
       "<polyline clip-path=\"url(#clip5902)\" style=\"stroke:#000000; stroke-width:1; stroke-opacity:1; fill:none\" points=\"\n",
       "  101.355,316.501 101.355,365.565 142.147,365.565 142.147,316.501 101.355,316.501 \n",
       "  \"/>\n",
       "<polygon clip-path=\"url(#clip5902)\" points=\"\n",
       "142.147,316.501 142.147,365.565 182.939,365.565 182.939,316.501 142.147,316.501 142.147,316.501 \n",
       "  \" fill=\"#009af9\" fill-opacity=\"1\"/>\n",
       "<polyline clip-path=\"url(#clip5902)\" style=\"stroke:#000000; stroke-width:1; stroke-opacity:1; fill:none\" points=\"\n",
       "  142.147,316.501 142.147,365.565 182.939,365.565 182.939,316.501 142.147,316.501 \n",
       "  \"/>\n",
       "<polygon clip-path=\"url(#clip5902)\" points=\"\n",
       "182.939,316.501 182.939,365.565 223.73,365.565 223.73,316.501 182.939,316.501 182.939,316.501 \n",
       "  \" fill=\"#009af9\" fill-opacity=\"1\"/>\n",
       "<polyline clip-path=\"url(#clip5902)\" style=\"stroke:#000000; stroke-width:1; stroke-opacity:1; fill:none\" points=\"\n",
       "  182.939,316.501 182.939,365.565 223.73,365.565 223.73,316.501 182.939,316.501 \n",
       "  \"/>\n",
       "<polygon clip-path=\"url(#clip5902)\" points=\"\n",
       "223.73,71.1789 223.73,365.565 264.522,365.565 264.522,71.1789 223.73,71.1789 223.73,71.1789 \n",
       "  \" fill=\"#009af9\" fill-opacity=\"1\"/>\n",
       "<polyline clip-path=\"url(#clip5902)\" style=\"stroke:#000000; stroke-width:1; stroke-opacity:1; fill:none\" points=\"\n",
       "  223.73,71.1789 223.73,365.565 264.522,365.565 264.522,71.1789 223.73,71.1789 \n",
       "  \"/>\n",
       "<polygon clip-path=\"url(#clip5902)\" points=\"\n",
       "264.522,22.1145 264.522,365.565 305.314,365.565 305.314,22.1145 264.522,22.1145 264.522,22.1145 \n",
       "  \" fill=\"#009af9\" fill-opacity=\"1\"/>\n",
       "<polyline clip-path=\"url(#clip5902)\" style=\"stroke:#000000; stroke-width:1; stroke-opacity:1; fill:none\" points=\"\n",
       "  264.522,22.1145 264.522,365.565 305.314,365.565 305.314,22.1145 264.522,22.1145 \n",
       "  \"/>\n",
       "<polygon clip-path=\"url(#clip5902)\" points=\"\n",
       "305.314,169.308 305.314,365.565 346.105,365.565 346.105,169.308 305.314,169.308 305.314,169.308 \n",
       "  \" fill=\"#009af9\" fill-opacity=\"1\"/>\n",
       "<polyline clip-path=\"url(#clip5902)\" style=\"stroke:#000000; stroke-width:1; stroke-opacity:1; fill:none\" points=\"\n",
       "  305.314,169.308 305.314,365.565 346.105,365.565 346.105,169.308 305.314,169.308 \n",
       "  \"/>\n",
       "<polygon clip-path=\"url(#clip5902)\" points=\"\n",
       "346.105,218.372 346.105,365.565 386.897,365.565 386.897,218.372 346.105,218.372 346.105,218.372 \n",
       "  \" fill=\"#009af9\" fill-opacity=\"1\"/>\n",
       "<polyline clip-path=\"url(#clip5902)\" style=\"stroke:#000000; stroke-width:1; stroke-opacity:1; fill:none\" points=\"\n",
       "  346.105,218.372 346.105,365.565 386.897,365.565 386.897,218.372 346.105,218.372 \n",
       "  \"/>\n",
       "<polygon clip-path=\"url(#clip5902)\" points=\"\n",
       "386.897,365.565 386.897,365.565 427.689,365.565 427.689,365.565 386.897,365.565 386.897,365.565 \n",
       "  \" fill=\"#009af9\" fill-opacity=\"1\"/>\n",
       "<polyline clip-path=\"url(#clip5902)\" style=\"stroke:#000000; stroke-width:1; stroke-opacity:1; fill:none\" points=\"\n",
       "  386.897,365.565 386.897,365.565 427.689,365.565 386.897,365.565 \n",
       "  \"/>\n",
       "<polygon clip-path=\"url(#clip5902)\" points=\"\n",
       "427.689,365.565 427.689,365.565 468.481,365.565 468.481,365.565 427.689,365.565 427.689,365.565 \n",
       "  \" fill=\"#009af9\" fill-opacity=\"1\"/>\n",
       "<polyline clip-path=\"url(#clip5902)\" style=\"stroke:#000000; stroke-width:1; stroke-opacity:1; fill:none\" points=\"\n",
       "  427.689,365.565 427.689,365.565 468.481,365.565 427.689,365.565 \n",
       "  \"/>\n",
       "<polygon clip-path=\"url(#clip5902)\" points=\"\n",
       "468.481,365.565 468.481,365.565 509.272,365.565 509.272,365.565 468.481,365.565 468.481,365.565 \n",
       "  \" fill=\"#009af9\" fill-opacity=\"1\"/>\n",
       "<polyline clip-path=\"url(#clip5902)\" style=\"stroke:#000000; stroke-width:1; stroke-opacity:1; fill:none\" points=\"\n",
       "  468.481,365.565 468.481,365.565 509.272,365.565 468.481,365.565 \n",
       "  \"/>\n",
       "<polygon clip-path=\"url(#clip5902)\" points=\"\n",
       "509.272,316.501 509.272,365.565 550.064,365.565 550.064,316.501 509.272,316.501 509.272,316.501 \n",
       "  \" fill=\"#009af9\" fill-opacity=\"1\"/>\n",
       "<polyline clip-path=\"url(#clip5902)\" style=\"stroke:#000000; stroke-width:1; stroke-opacity:1; fill:none\" points=\"\n",
       "  509.272,316.501 509.272,365.565 550.064,365.565 550.064,316.501 509.272,316.501 \n",
       "  \"/>\n",
       "<polygon clip-path=\"url(#clip5900)\" points=\"\n",
       "489.608,62.931 562.315,62.931 562.315,32.691 489.608,32.691 \n",
       "  \" fill=\"#ffffff\" fill-opacity=\"1\"/>\n",
       "<polyline clip-path=\"url(#clip5900)\" style=\"stroke:#000000; stroke-width:1; stroke-opacity:1; fill:none\" points=\"\n",
       "  489.608,62.931 562.315,62.931 562.315,32.691 489.608,32.691 489.608,62.931 \n",
       "  \"/>\n",
       "<polygon clip-path=\"url(#clip5900)\" points=\"\n",
       "495.608,53.859 531.608,53.859 531.608,41.763 495.608,41.763 495.608,53.859 \n",
       "  \" fill=\"#009af9\" fill-opacity=\"1\"/>\n",
       "<polyline clip-path=\"url(#clip5900)\" style=\"stroke:#000000; stroke-width:1; stroke-opacity:1; fill:none\" points=\"\n",
       "  495.608,53.859 531.608,53.859 531.608,41.763 495.608,41.763 495.608,53.859 \n",
       "  \"/>\n",
       "<g clip-path=\"url(#clip5900)\">\n",
       "<text style=\"fill:#000000; fill-opacity:1; font-family:Arial,Helvetica Neue,Helvetica,sans-serif; font-size:12; text-anchor:start;\" transform=\"rotate(0, 537.608, 52.311)\" x=\"537.608\" y=\"52.311\">y1</text>\n",
       "</g>\n",
       "</svg>\n"
      ]
     },
     "execution_count": 60,
     "metadata": {},
     "output_type": "execute_result"
    }
   ],
   "source": [
    "histogram(nu_guess[1,:,end,end])"
   ]
  },
  {
   "cell_type": "code",
   "execution_count": 62,
   "metadata": {},
   "outputs": [
    {
     "data": {
      "text/plain": [
       "25-element Array{Float64,1}:\n",
       " -0.25576  \n",
       " -0.186071 \n",
       "  0.0841557\n",
       "  0.327335 \n",
       "  0.405356 \n",
       "  0.527353 \n",
       "  0.551897 \n",
       "  0.57364  \n",
       "  0.590938 \n",
       "  0.597717 \n",
       "  0.658318 \n",
       "  0.68628  \n",
       "  0.691164 \n",
       "  0.703062 \n",
       "  0.745911 \n",
       "  0.756696 \n",
       "  0.778054 \n",
       "  0.814095 \n",
       "  0.830017 \n",
       "  0.831141 \n",
       "  0.874268 \n",
       "  1.00649  \n",
       "  1.01995  \n",
       "  1.02341  \n",
       "  1.99939  "
      ]
     },
     "execution_count": 62,
     "metadata": {},
     "output_type": "execute_result"
    }
   ],
   "source": [
    "vector = sort(nu_guess[1,:,end,end])"
   ]
  },
  {
   "cell_type": "code",
   "execution_count": 63,
   "metadata": {},
   "outputs": [
    {
     "data": {
      "text/html": [
       "0.32733476961562485"
      ],
      "text/plain": [
       "0.32733476961562485"
      ]
     },
     "execution_count": 63,
     "metadata": {},
     "output_type": "execute_result"
    }
   ],
   "source": [
    "sort(vector[vector .> 0])[2]"
   ]
  },
  {
   "cell_type": "code",
   "execution_count": 64,
   "metadata": {},
   "outputs": [
    {
     "data": {
      "text/html": [
       "0.8311405907903878"
      ],
      "text/plain": [
       "0.8311405907903878"
      ]
     },
     "execution_count": 64,
     "metadata": {},
     "output_type": "execute_result"
    }
   ],
   "source": [
    "\t\t\tlargest = sort(vector[vector .< 1])[end-1]\n"
   ]
  },
  {
   "cell_type": "code",
   "execution_count": 86,
   "metadata": {},
   "outputs": [
    {
     "data": {
      "text/plain": [
       "Dict{Symbol,Any} with 45 entries:\n",
       "  :S_nt                     => [0.0 0.0 … 0.0 0.0]…\n",
       "  :one_over_rho             => 0.0\n",
       "  :inner_tolerance          => 0.0002\n",
       "  :S_nt_data                => [1184.95 -1239.14 … -406.84 1074.1]…\n",
       "  :eta                      => 4.0\n",
       "  :S                        => 101\n",
       "  :sigma                    => 0.999\n",
       "  :d                        => [0.991383 7.85e-7 … 0.000689 0.0004425; 7.42e-5 …\n",
       "  :adjustment_tolerance     => 0.0004\n",
       "  :middle_step_size         => 0.449329\n",
       "  :A_njs                    => Array{Float64,4}[[1707.32 647.905 … 1821.11 7165…\n",
       "  :gamma_jk                 => [0.17112 0.273944 … 0.0195213 0.0108426; 0.04826…\n",
       "  :p_sectoral               => [1.26077 2.37256 … 1.79398 1.0]…\n",
       "  :B_j                      => [5.5087]…\n",
       "  :max_iter_adjustment      => 100\n",
       "  :w_njt                    => [53118.2 20374.8 … 1.48903e5 1.12031e6]…\n",
       "  :global_sectoral_shock    => [7.26974e-15]…\n",
       "  :country_shock_njs        => Array{Float64,4}[[1.02054e-16 -3.57791e-16 … 9.4…\n",
       "  :idiosyncratic_shock_njs  => Array{Float64,4}[[3.44256e-16 -4.72656e-16 … -4.…\n",
       "  :max_iter_inner           => 200\n",
       "  :N                        => 25\n",
       "  :country_shock            => [1.02054e-16 -3.57791e-16 … 9.40292e-16 1.59311e…\n",
       "  :outer_tolerance          => 0.001\n",
       "  :max_iter_outer           => 100\n",
       "  :final_expenditure_shares => [0.0152375 0.0227238 … 0.0131249 0.0139509]…\n",
       "  ⋮                         => ⋮"
      ]
     },
     "execution_count": 86,
     "metadata": {},
     "output_type": "execute_result"
    }
   ],
   "source": [
    "p = load(\"../experiments/baseline/common_parameters.jld2\")[\"parameters\"]"
   ]
  },
  {
   "cell_type": "code",
   "execution_count": 87,
   "metadata": {},
   "outputs": [
    {
     "data": {
      "text/plain": [
       "36×24 Array{Float64,2}:\n",
       " 0.0827749  0.0910213  0.00772248  …  0.011307    0.0127253   0.485458\n",
       " 0.0807635  0.0877083  0.00731351     0.011538    0.0118935   0.492392\n",
       " 0.0785585  0.084983   0.00698622     0.0119872   0.0112555   0.499805\n",
       " 0.0756376  0.0833336  0.0067202      0.0125788   0.0109285   0.509434\n",
       " 0.071999   0.0820821  0.00646377     0.0130788   0.0108497   0.519888\n",
       " 0.068387   0.080756   0.00625935  …  0.013352    0.0108942   0.529839\n",
       " 0.0648656  0.0788119  0.00612425     0.0131984   0.0109542   0.539148\n",
       " 0.0613875  0.076518   0.00612078     0.013598    0.0107204   0.548114\n",
       " 0.0585357  0.0747564  0.00624306     0.0144932   0.0101618   0.55683 \n",
       " 0.0568304  0.0734326  0.00644971     0.0152032   0.00940803  0.564635\n",
       " 0.0561731  0.072342   0.00663495  …  0.0151155   0.0085182   0.571362\n",
       " 0.0562776  0.0711944  0.00669893     0.0139731   0.00785467  0.575553\n",
       " 0.0567141  0.069784   0.00663819     0.0120471   0.00749985  0.576222\n",
       " ⋮                                 ⋱                                  \n",
       " 0.0459272  0.0501518  0.00573632     0.00747299  0.012809    0.529679\n",
       " 0.0390259  0.0533728  0.00603851  …  0.00971001  0.016757    0.565687\n",
       " 0.0313841  0.0571068  0.00643928     0.0117251   0.0210226   0.613868\n",
       " 0.0267098  0.0591641  0.00673535     0.0126502   0.0242324   0.644379\n",
       " 0.026551   0.058856   0.00681272     0.0120944   0.02509     0.649042\n",
       " 0.0270727  0.0584291  0.00674174     0.0107083   0.0237046   0.654878\n",
       " 0.0268758  0.0628459  0.00634918  …  0.00860956  0.0209931   0.611498\n",
       " 0.0251495  0.0684972  0.00573007     0.00720862  0.0184807   0.540013\n",
       " 0.0227801  0.0711511  0.00519397     0.00693472  0.0169396   0.487578\n",
       " 0.0206812  0.0711687  0.00481925     0.00684539  0.0156749   0.470835\n",
       " 0.019988   0.065677   0.00478058     0.0071663   0.0140465   0.532641\n",
       " 0.019954   0.0517673  0.00493377  …  0.007657    0.0111284   0.671348"
      ]
     },
     "execution_count": 87,
     "metadata": {},
     "output_type": "execute_result"
    }
   ],
   "source": [
    "p[:nu_njt][1,1,:,:]'"
   ]
  },
  {
   "cell_type": "code",
   "execution_count": 88,
   "metadata": {},
   "outputs": [
    {
     "data": {
      "text/plain": [
       "36×25 Array{Float64,2}:\n",
       " 0.618888  0.25588   0.264002  0.66566   …  0.572098  0.539579  0.637845\n",
       " 0.623529  0.272103  0.264222  0.663603     0.506991  0.554099  0.648948\n",
       " 0.631484  0.281444  0.268644  0.666894     0.463591  0.568867  0.658174\n",
       " 0.644122  0.29269   0.289907  0.67795      0.456812  0.583087  0.664929\n",
       " 0.656834  0.303963  0.312784  0.690262     0.473429  0.595045  0.669142\n",
       " 0.666071  0.316942  0.34397   0.700158  …  0.498057  0.601564  0.671537\n",
       " 0.670453  0.327509  0.358248  0.70875      0.517606  0.60148   0.674042\n",
       " 0.6723    0.332577  0.345763  0.717768     0.509586  0.595734  0.677981\n",
       " 0.67728   0.338919  0.326829  0.730949     0.485733  0.589351  0.684039\n",
       " 0.685523  0.342308  0.325824  0.748048     0.4666    0.582208  0.691319\n",
       " 0.695045  0.341283  0.343098  0.763738  …  0.436751  0.572166  0.699342\n",
       " 0.70352   0.351951  0.367993  0.77098      0.385096  0.562886  0.707776\n",
       " 0.71013   0.371675  0.385028  0.764656     0.313763  0.55033   0.716337\n",
       " ⋮                                       ⋱                              \n",
       " 0.594215  0.479924  0.268608  0.384115     0.489463  0.405633  0.566518\n",
       " 0.669328  0.519373  0.252822  0.437575  …  0.50034   0.484479  0.629205\n",
       " 0.735549  0.535681  0.241978  0.500797     0.519691  0.565527  0.716719\n",
       " 0.762188  0.53161   0.230091  0.508771     0.531459  0.603318  0.771772\n",
       " 0.767225  0.515373  0.244076  0.486449     0.547489  0.619306  0.769487\n",
       " 0.769037  0.500725  0.283858  0.467627     0.547125  0.638508  0.771966\n",
       " 0.726252  0.454071  0.285283  0.440911  …  0.497307  0.599273  0.695994\n",
       " 0.659436  0.378236  0.249135  0.415058     0.403503  0.509437  0.585657\n",
       " 0.606363  0.322584  0.220227  0.415428     0.310513  0.428611  0.509866\n",
       " 0.567702  0.325109  0.241545  0.475595     0.251631  0.392667  0.47829 \n",
       " 0.587056  0.432219  0.317372  0.618829     0.25296   0.450231  0.549413\n",
       " 0.659396  0.645402  0.421977  0.808674  …  0.339787  0.581998  0.744568"
      ]
     },
     "execution_count": 88,
     "metadata": {},
     "output_type": "execute_result"
    }
   ],
   "source": [
    "p[:final_expenditure_shares][1,:,end,:]'"
   ]
  },
  {
   "cell_type": "code",
   "execution_count": 90,
   "metadata": {},
   "outputs": [
    {
     "data": {
      "image/svg+xml": [
       "<?xml version=\"1.0\" encoding=\"utf-8\"?>\n",
       "<svg xmlns=\"http://www.w3.org/2000/svg\" xmlns:xlink=\"http://www.w3.org/1999/xlink\" width=\"600\" height=\"400\" viewBox=\"0 0 600 400\">\n",
       "<defs>\n",
       "  <clipPath id=\"clip8300\">\n",
       "    <rect x=\"0\" y=\"0\" width=\"600\" height=\"400\"/>\n",
       "  </clipPath>\n",
       "</defs>\n",
       "<polygon clip-path=\"url(#clip8300)\" points=\"\n",
       "0,400 600,400 600,0 0,0 \n",
       "  \" fill=\"#ffffff\" fill-opacity=\"1\"/>\n",
       "<defs>\n",
       "  <clipPath id=\"clip8301\">\n",
       "    <rect x=\"120\" y=\"0\" width=\"421\" height=\"400\"/>\n",
       "  </clipPath>\n",
       "</defs>\n",
       "<polygon clip-path=\"url(#clip8300)\" points=\"\n",
       "37.0032,375.869 580.315,375.869 580.315,11.811 37.0032,11.811 \n",
       "  \" fill=\"#ffffff\" fill-opacity=\"1\"/>\n",
       "<defs>\n",
       "  <clipPath id=\"clip8302\">\n",
       "    <rect x=\"37\" y=\"11\" width=\"544\" height=\"365\"/>\n",
       "  </clipPath>\n",
       "</defs>\n",
       "<polyline clip-path=\"url(#clip8302)\" style=\"stroke:#000000; stroke-width:0.5; stroke-opacity:0.1; fill:none\" points=\"\n",
       "  37.7354,375.869 37.7354,11.811 \n",
       "  \"/>\n",
       "<polyline clip-path=\"url(#clip8302)\" style=\"stroke:#000000; stroke-width:0.5; stroke-opacity:0.1; fill:none\" points=\"\n",
       "  184.181,375.869 184.181,11.811 \n",
       "  \"/>\n",
       "<polyline clip-path=\"url(#clip8302)\" style=\"stroke:#000000; stroke-width:0.5; stroke-opacity:0.1; fill:none\" points=\"\n",
       "  330.626,375.869 330.626,11.811 \n",
       "  \"/>\n",
       "<polyline clip-path=\"url(#clip8302)\" style=\"stroke:#000000; stroke-width:0.5; stroke-opacity:0.1; fill:none\" points=\"\n",
       "  477.071,375.869 477.071,11.811 \n",
       "  \"/>\n",
       "<polyline clip-path=\"url(#clip8302)\" style=\"stroke:#000000; stroke-width:0.5; stroke-opacity:0.1; fill:none\" points=\"\n",
       "  37.0032,365.316 580.315,365.316 \n",
       "  \"/>\n",
       "<polyline clip-path=\"url(#clip8302)\" style=\"stroke:#000000; stroke-width:0.5; stroke-opacity:0.1; fill:none\" points=\"\n",
       "  37.0032,285.256 580.315,285.256 \n",
       "  \"/>\n",
       "<polyline clip-path=\"url(#clip8302)\" style=\"stroke:#000000; stroke-width:0.5; stroke-opacity:0.1; fill:none\" points=\"\n",
       "  37.0032,205.197 580.315,205.197 \n",
       "  \"/>\n",
       "<polyline clip-path=\"url(#clip8302)\" style=\"stroke:#000000; stroke-width:0.5; stroke-opacity:0.1; fill:none\" points=\"\n",
       "  37.0032,125.138 580.315,125.138 \n",
       "  \"/>\n",
       "<polyline clip-path=\"url(#clip8302)\" style=\"stroke:#000000; stroke-width:0.5; stroke-opacity:0.1; fill:none\" points=\"\n",
       "  37.0032,45.0782 580.315,45.0782 \n",
       "  \"/>\n",
       "<polyline clip-path=\"url(#clip8300)\" style=\"stroke:#000000; stroke-width:1; stroke-opacity:1; fill:none\" points=\"\n",
       "  37.0032,375.869 580.315,375.869 \n",
       "  \"/>\n",
       "<polyline clip-path=\"url(#clip8300)\" style=\"stroke:#000000; stroke-width:1; stroke-opacity:1; fill:none\" points=\"\n",
       "  37.0032,375.869 37.0032,11.811 \n",
       "  \"/>\n",
       "<polyline clip-path=\"url(#clip8300)\" style=\"stroke:#000000; stroke-width:1; stroke-opacity:1; fill:none\" points=\"\n",
       "  37.7354,375.869 37.7354,370.408 \n",
       "  \"/>\n",
       "<polyline clip-path=\"url(#clip8300)\" style=\"stroke:#000000; stroke-width:1; stroke-opacity:1; fill:none\" points=\"\n",
       "  184.181,375.869 184.181,370.408 \n",
       "  \"/>\n",
       "<polyline clip-path=\"url(#clip8300)\" style=\"stroke:#000000; stroke-width:1; stroke-opacity:1; fill:none\" points=\"\n",
       "  330.626,375.869 330.626,370.408 \n",
       "  \"/>\n",
       "<polyline clip-path=\"url(#clip8300)\" style=\"stroke:#000000; stroke-width:1; stroke-opacity:1; fill:none\" points=\"\n",
       "  477.071,375.869 477.071,370.408 \n",
       "  \"/>\n",
       "<polyline clip-path=\"url(#clip8300)\" style=\"stroke:#000000; stroke-width:1; stroke-opacity:1; fill:none\" points=\"\n",
       "  37.0032,365.316 45.1529,365.316 \n",
       "  \"/>\n",
       "<polyline clip-path=\"url(#clip8300)\" style=\"stroke:#000000; stroke-width:1; stroke-opacity:1; fill:none\" points=\"\n",
       "  37.0032,285.256 45.1529,285.256 \n",
       "  \"/>\n",
       "<polyline clip-path=\"url(#clip8300)\" style=\"stroke:#000000; stroke-width:1; stroke-opacity:1; fill:none\" points=\"\n",
       "  37.0032,205.197 45.1529,205.197 \n",
       "  \"/>\n",
       "<polyline clip-path=\"url(#clip8300)\" style=\"stroke:#000000; stroke-width:1; stroke-opacity:1; fill:none\" points=\"\n",
       "  37.0032,125.138 45.1529,125.138 \n",
       "  \"/>\n",
       "<polyline clip-path=\"url(#clip8300)\" style=\"stroke:#000000; stroke-width:1; stroke-opacity:1; fill:none\" points=\"\n",
       "  37.0032,45.0782 45.1529,45.0782 \n",
       "  \"/>\n",
       "<g clip-path=\"url(#clip8300)\">\n",
       "<text style=\"fill:#000000; fill-opacity:1; font-family:Arial,Helvetica Neue,Helvetica,sans-serif; font-size:12; text-anchor:middle;\" transform=\"rotate(0, 37.7354, 389.669)\" x=\"37.7354\" y=\"389.669\">0</text>\n",
       "</g>\n",
       "<g clip-path=\"url(#clip8300)\">\n",
       "<text style=\"fill:#000000; fill-opacity:1; font-family:Arial,Helvetica Neue,Helvetica,sans-serif; font-size:12; text-anchor:middle;\" transform=\"rotate(0, 184.181, 389.669)\" x=\"184.181\" y=\"389.669\">10</text>\n",
       "</g>\n",
       "<g clip-path=\"url(#clip8300)\">\n",
       "<text style=\"fill:#000000; fill-opacity:1; font-family:Arial,Helvetica Neue,Helvetica,sans-serif; font-size:12; text-anchor:middle;\" transform=\"rotate(0, 330.626, 389.669)\" x=\"330.626\" y=\"389.669\">20</text>\n",
       "</g>\n",
       "<g clip-path=\"url(#clip8300)\">\n",
       "<text style=\"fill:#000000; fill-opacity:1; font-family:Arial,Helvetica Neue,Helvetica,sans-serif; font-size:12; text-anchor:middle;\" transform=\"rotate(0, 477.071, 389.669)\" x=\"477.071\" y=\"389.669\">30</text>\n",
       "</g>\n",
       "<g clip-path=\"url(#clip8300)\">\n",
       "<text style=\"fill:#000000; fill-opacity:1; font-family:Arial,Helvetica Neue,Helvetica,sans-serif; font-size:12; text-anchor:end;\" transform=\"rotate(0, 31.0032, 369.816)\" x=\"31.0032\" y=\"369.816\">8</text>\n",
       "</g>\n",
       "<g clip-path=\"url(#clip8300)\">\n",
       "<text style=\"fill:#000000; fill-opacity:1; font-family:Arial,Helvetica Neue,Helvetica,sans-serif; font-size:12; text-anchor:end;\" transform=\"rotate(0, 31.0032, 289.756)\" x=\"31.0032\" y=\"289.756\">9</text>\n",
       "</g>\n",
       "<g clip-path=\"url(#clip8300)\">\n",
       "<text style=\"fill:#000000; fill-opacity:1; font-family:Arial,Helvetica Neue,Helvetica,sans-serif; font-size:12; text-anchor:end;\" transform=\"rotate(0, 31.0032, 209.697)\" x=\"31.0032\" y=\"209.697\">10</text>\n",
       "</g>\n",
       "<g clip-path=\"url(#clip8300)\">\n",
       "<text style=\"fill:#000000; fill-opacity:1; font-family:Arial,Helvetica Neue,Helvetica,sans-serif; font-size:12; text-anchor:end;\" transform=\"rotate(0, 31.0032, 129.638)\" x=\"31.0032\" y=\"129.638\">11</text>\n",
       "</g>\n",
       "<g clip-path=\"url(#clip8300)\">\n",
       "<text style=\"fill:#000000; fill-opacity:1; font-family:Arial,Helvetica Neue,Helvetica,sans-serif; font-size:12; text-anchor:end;\" transform=\"rotate(0, 31.0032, 49.5782)\" x=\"31.0032\" y=\"49.5782\">12</text>\n",
       "</g>\n",
       "<polyline clip-path=\"url(#clip8302)\" style=\"stroke:#009af9; stroke-width:1; stroke-opacity:1; fill:none\" points=\"\n",
       "  52.38,257.484 67.0245,247.493 81.669,239.804 96.3135,235.613 110.958,232.617 125.603,230.825 140.247,226.628 154.892,222.008 169.536,214.638 184.181,210.364 \n",
       "  198.825,209.738 213.47,209.846 228.114,207.453 242.759,208.356 257.403,207.425 272.048,202.532 286.692,197.185 301.337,193.527 315.981,198.124 330.626,196.751 \n",
       "  345.27,193.929 359.915,189.785 374.559,189.176 389.204,182.793 403.848,181.885 418.493,179.668 433.138,184.601 447.782,190.707 462.427,184.977 477.071,187.137 \n",
       "  491.716,185.008 506.36,176.537 521.005,163.493 535.649,156.569 550.294,156.432 564.938,162.341 \n",
       "  \"/>\n",
       "<polyline clip-path=\"url(#clip8302)\" style=\"stroke:#e26f46; stroke-width:1; stroke-opacity:1; fill:none\" points=\"\n",
       "  52.38,297.168 67.0245,291.88 81.669,283.743 96.3135,278.049 110.958,272.945 125.603,266.668 140.247,263.324 154.892,256.294 169.536,251.5 184.181,250.777 \n",
       "  198.825,251.342 213.47,249.765 228.114,251.919 242.759,252.338 257.403,246.287 272.048,241.672 286.692,240.661 301.337,238.569 315.981,234.478 330.626,233.429 \n",
       "  345.27,229.358 359.915,224.459 374.559,221.26 389.204,213.675 403.848,214.344 418.493,219.393 433.138,223.518 447.782,226.544 462.427,226.732 477.071,226.238 \n",
       "  491.716,221.392 506.36,215.323 521.005,204.401 535.649,200.15 550.294,200.623 564.938,209.568 \n",
       "  \"/>\n",
       "<polyline clip-path=\"url(#clip8302)\" style=\"stroke:#3da44d; stroke-width:1; stroke-opacity:1; fill:none\" points=\"\n",
       "  52.38,286.263 67.0245,277.444 81.669,270.767 96.3135,265.336 110.958,260.277 125.603,256.391 140.247,251.254 154.892,246.943 169.536,240.497 184.181,242.93 \n",
       "  198.825,244.425 213.47,247.62 228.114,246.793 242.759,249.264 257.403,242.283 272.048,236.478 286.692,234.22 301.337,233.221 315.981,230.225 330.626,230.775 \n",
       "  345.27,224.848 359.915,221.377 374.559,218.097 389.204,207.655 403.848,212.856 418.493,217.694 433.138,221.781 447.782,222.374 462.427,222.008 477.071,222.741 \n",
       "  491.716,219.17 506.36,207.095 521.005,198.076 535.649,194.187 550.294,197.691 564.938,204.036 \n",
       "  \"/>\n",
       "<polyline clip-path=\"url(#clip8302)\" style=\"stroke:#c271d2; stroke-width:1; stroke-opacity:1; fill:none\" points=\"\n",
       "  52.38,236.848 67.0245,230.25 81.669,221.055 96.3135,214.941 110.958,209.01 125.603,206.398 140.247,204.969 154.892,199.682 169.536,193.346 184.181,188.095 \n",
       "  198.825,187.398 213.47,186.001 228.114,184.192 242.759,182.434 257.403,182.434 272.048,178.947 286.692,174.778 301.337,171.448 315.981,170.704 330.626,172.057 \n",
       "  345.27,170.607 359.915,167.194 374.559,164.356 389.204,161.987 403.848,161.885 418.493,162.536 433.138,168.071 447.782,168.442 462.427,165.29 477.071,162.857 \n",
       "  491.716,159.341 506.36,148.602 521.005,147.236 535.649,140.754 550.294,138.433 564.938,139.461 \n",
       "  \"/>\n",
       "<polyline clip-path=\"url(#clip8302)\" style=\"stroke:#ac8d18; stroke-width:1; stroke-opacity:1; fill:none\" points=\"\n",
       "  52.38,240.298 67.0245,233.009 81.669,225.714 96.3135,221.031 110.958,220.946 125.603,212.248 140.247,222.755 154.892,219.79 169.536,214.485 184.181,208.82 \n",
       "  198.825,205.259 213.47,199.531 228.114,181.745 242.759,164.854 257.403,166.539 272.048,175.403 286.692,174.866 301.337,174.121 315.981,166.459 330.626,159.781 \n",
       "  345.27,154.127 359.915,154.47 374.559,136.455 389.204,128.545 403.848,124.36 418.493,120.684 433.138,121.221 447.782,119.167 462.427,114.286 477.071,109.778 \n",
       "  491.716,104.515 506.36,97.1865 521.005,90.4355 535.649,82.488 550.294,74.778 564.938,68.9175 \n",
       "  \"/>\n",
       "<polyline clip-path=\"url(#clip8302)\" style=\"stroke:#00a9ad; stroke-width:1; stroke-opacity:1; fill:none\" points=\"\n",
       "  52.38,331.529 67.0245,324.329 81.669,315.615 96.3135,310.887 110.958,304.971 125.603,299.159 140.247,291.474 154.892,284.008 169.536,277.039 184.181,272.613 \n",
       "  198.825,271.44 213.47,272.126 228.114,271.945 242.759,272.484 257.403,272.687 272.048,270.862 286.692,268.693 301.337,266.08 315.981,263.873 330.626,263.613 \n",
       "  345.27,252.952 359.915,247.978 374.559,242.93 389.204,239.955 403.848,238.032 418.493,237.309 433.138,242.96 447.782,247.902 462.427,232.28 477.071,233.006 \n",
       "  491.716,230.747 506.36,225.974 521.005,217.762 535.649,216.857 550.294,211.625 564.938,210.266 \n",
       "  \"/>\n",
       "<polyline clip-path=\"url(#clip8302)\" style=\"stroke:#ed5d92; stroke-width:1; stroke-opacity:1; fill:none\" points=\"\n",
       "  52.38,308.925 67.0245,299.556 81.669,293.911 96.3135,288.521 110.958,283.598 125.603,280.683 140.247,276.744 154.892,271.711 169.536,269.367 184.181,270.452 \n",
       "  198.825,269.914 213.47,269.515 228.114,269.87 242.759,268.494 257.403,263.03 272.048,258.046 286.692,257.018 301.337,256.826 315.981,253.38 330.626,254.227 \n",
       "  345.27,250.148 359.915,245.476 374.559,240.824 389.204,238.146 403.848,237.871 418.493,245.52 433.138,250.591 447.782,251.126 462.427,251.149 477.071,252.061 \n",
       "  491.716,248.737 506.36,239.196 521.005,230.595 535.649,228.332 550.294,227.151 564.938,237.217 \n",
       "  \"/>\n",
       "<polyline clip-path=\"url(#clip8302)\" style=\"stroke:#c68125; stroke-width:1; stroke-opacity:1; fill:none\" points=\"\n",
       "  52.38,320.895 67.0245,311.011 81.669,302.097 96.3135,295.269 110.958,293.025 125.603,291.354 140.247,290.066 154.892,281.524 169.536,274.963 184.181,272.158 \n",
       "  198.825,270.95 213.47,272.082 228.114,271.413 242.759,270.301 257.403,265.498 272.048,260.274 286.692,256.786 301.337,253.259 315.981,250.948 330.626,255.325 \n",
       "  345.27,257.173 359.915,258.059 374.559,252.879 389.204,245.069 403.848,244.927 418.493,247.857 433.138,251.346 447.782,256.276 462.427,255.421 477.071,252.901 \n",
       "  491.716,247.639 506.36,237.256 521.005,228.367 535.649,225.894 550.294,226.629 564.938,233.707 \n",
       "  \"/>\n",
       "<polyline clip-path=\"url(#clip8302)\" style=\"stroke:#00a98d; stroke-width:1; stroke-opacity:1; fill:none\" points=\"\n",
       "  52.38,204.851 67.0245,195.963 81.669,189.01 96.3135,182.597 110.958,179.887 125.603,175.065 140.247,170.243 154.892,164.085 169.536,157.763 184.181,158.001 \n",
       "  198.825,158.032 213.47,158.86 228.114,159.722 242.759,159.507 257.403,153.737 272.048,149.236 286.692,146.069 301.337,144.127 315.981,140.096 330.626,140.735 \n",
       "  345.27,136.816 359.915,133.387 374.559,130.315 389.204,126.266 403.848,127.074 418.493,131.487 433.138,136.253 447.782,138.574 462.427,137.695 477.071,136.946 \n",
       "  491.716,132.394 506.36,121.753 521.005,113.995 535.649,110.256 550.294,110.965 564.938,119.126 \n",
       "  \"/>\n",
       "<polyline clip-path=\"url(#clip8302)\" style=\"stroke:#8e971d; stroke-width:1; stroke-opacity:1; fill:none\" points=\"\n",
       "  52.38,186.3 67.0245,177.235 81.669,171.125 96.3135,166.798 110.958,163.639 125.603,158.709 140.247,153.795 154.892,147.244 169.536,142.838 184.181,143.879 \n",
       "  198.825,144.499 213.47,144.685 228.114,144.819 242.759,144.75 257.403,139.181 272.048,134.017 286.692,131.356 301.337,129.922 315.981,124.685 330.626,123.472 \n",
       "  345.27,118.654 359.915,114.579 374.559,111.164 389.204,109.679 403.848,110.547 418.493,112.889 433.138,120.448 447.782,123.201 462.427,123.697 477.071,123 \n",
       "  491.716,119.619 506.36,111.032 521.005,103.611 535.649,100.274 550.294,100.311 564.938,107.354 \n",
       "  \"/>\n",
       "<polyline clip-path=\"url(#clip8302)\" style=\"stroke:#00a8cb; stroke-width:1; stroke-opacity:1; fill:none\" points=\"\n",
       "  52.38,295.028 67.0245,287.291 81.669,280.364 96.3135,275.516 110.958,271.916 125.603,266.013 140.247,260.516 154.892,253.443 169.536,250.309 184.181,248.533 \n",
       "  198.825,248.961 213.47,251.926 228.114,253.675 242.759,253.401 257.403,251.732 272.048,248.862 286.692,246.116 301.337,245.162 315.981,241.318 330.626,241.213 \n",
       "  345.27,237.428 359.915,234.148 374.559,232.258 389.204,226.325 403.848,225.514 418.493,227.276 433.138,232.136 447.782,235.069 462.427,235.112 477.071,233.293 \n",
       "  491.716,227.378 506.36,213.789 521.005,204.748 535.649,201.559 550.294,200.064 564.938,207.001 \n",
       "  \"/>\n",
       "<polyline clip-path=\"url(#clip8302)\" style=\"stroke:#9b7fe8; stroke-width:1; stroke-opacity:1; fill:none\" points=\"\n",
       "  52.38,239.414 67.0245,234.576 81.669,227.05 96.3135,222.19 110.958,218.231 125.603,212.306 140.247,208.804 154.892,204.475 169.536,197.003 184.181,192.717 \n",
       "  198.825,188.188 213.47,186.844 228.114,186.324 242.759,181.15 257.403,180.73 272.048,177.431 286.692,177.145 301.337,174.186 315.981,170.586 330.626,174.181 \n",
       "  345.27,174.564 359.915,163.517 374.559,158.708 389.204,155.294 403.848,151.995 418.493,149.939 433.138,150.31 447.782,147.899 462.427,147.614 477.071,143.697 \n",
       "  491.716,140.401 506.36,133.652 521.005,126.911 535.649,120.813 550.294,112.97 564.938,106.509 \n",
       "  \"/>\n",
       "<polyline clip-path=\"url(#clip8302)\" style=\"stroke:#608cf6; stroke-width:1; stroke-opacity:1; fill:none\" points=\"\n",
       "  52.38,365.565 67.0245,355.479 81.669,349.254 96.3135,345.334 110.958,342.791 125.603,336.397 140.247,328.379 154.892,318.135 169.536,313.853 184.181,313.673 \n",
       "  198.825,312.192 213.47,311.758 228.114,314.151 242.759,310.359 257.403,305.2 272.048,304.869 286.692,303.818 301.337,301.788 315.981,293.984 330.626,291.196 \n",
       "  345.27,289.365 359.915,287.638 374.559,283.651 389.204,277.891 403.848,272.193 418.493,270.039 433.138,272.665 447.782,269.087 462.427,268.205 477.071,263.946 \n",
       "  491.716,259.195 506.36,245.486 521.005,237.98 535.649,231.598 550.294,231.448 564.938,238.259 \n",
       "  \"/>\n",
       "<polyline clip-path=\"url(#clip8302)\" style=\"stroke:#f05f73; stroke-width:1; stroke-opacity:1; fill:none\" points=\"\n",
       "  52.38,212.495 67.0245,205.467 81.669,198.398 96.3135,191.866 110.958,190.658 125.603,185.451 140.247,179.727 154.892,171.446 169.536,164.825 184.181,163.751 \n",
       "  198.825,163.204 213.47,163.674 228.114,162.552 242.759,161.824 257.403,156.354 272.048,151.183 286.692,148.886 301.337,146.618 315.981,142.076 330.626,141.739 \n",
       "  345.27,138.285 359.915,137.937 374.559,135.537 389.204,133.003 403.848,130.93 418.493,134.665 433.138,140.579 447.782,143.435 462.427,142.711 477.071,141.709 \n",
       "  491.716,137.312 506.36,126.723 521.005,119.272 535.649,116.05 550.294,117.181 564.938,125.182 \n",
       "  \"/>\n",
       "<polyline clip-path=\"url(#clip8302)\" style=\"stroke:#dd64b5; stroke-width:1; stroke-opacity:1; fill:none\" points=\"\n",
       "  52.38,176.209 67.0245,166.237 81.669,160.976 96.3135,155.384 110.958,152.221 125.603,146.067 140.247,138.141 154.892,133.365 169.536,128.075 184.181,123.544 \n",
       "  198.825,123.518 213.47,122.221 228.114,120.342 242.759,117.585 257.403,110.877 272.048,105.689 286.692,100.308 301.337,97.1121 315.981,94.865 330.626,93.6594 \n",
       "  345.27,91.2235 359.915,84.1573 374.559,79.9551 389.204,75.9013 403.848,78.1714 418.493,82.8292 433.138,91.5747 447.782,93.7313 462.427,91.9268 477.071,92.5186 \n",
       "  491.716,89.687 506.36,81.2273 521.005,74.0963 535.649,71.7243 550.294,74.3788 564.938,82.3898 \n",
       "  \"/>\n",
       "<polyline clip-path=\"url(#clip8302)\" style=\"stroke:#6b9e32; stroke-width:1; stroke-opacity:1; fill:none\" points=\"\n",
       "  52.38,254.793 67.0245,248.105 81.669,238.052 96.3135,229.213 110.958,226.991 125.603,227.088 140.247,219.654 154.892,209.605 169.536,194.784 184.181,184.601 \n",
       "  198.825,191.254 213.47,196.301 228.114,194.573 242.759,195.426 257.403,205.129 272.048,204.676 286.692,195.565 301.337,191.348 315.981,183.783 330.626,180.846 \n",
       "  345.27,177.875 359.915,173.796 374.559,170.349 389.204,185.173 403.848,182.109 418.493,176.085 433.138,177.555 447.782,176.179 462.427,170.393 477.071,168.612 \n",
       "  491.716,165.248 506.36,153.378 521.005,149.651 535.649,144.014 550.294,140.36 564.938,144.861 \n",
       "  \"/>\n",
       "<polyline clip-path=\"url(#clip8302)\" style=\"stroke:#718c69; stroke-width:1; stroke-opacity:1; fill:none\" points=\"\n",
       "  52.38,263.448 67.0245,254.776 81.669,247.212 96.3135,241.46 110.958,237.419 125.603,232.193 140.247,227.504 154.892,222.745 169.536,217.249 184.181,218.847 \n",
       "  198.825,220.37 213.47,220.767 228.114,221.873 242.759,223.309 257.403,217.757 272.048,214.818 286.692,214.226 301.337,212.442 315.981,208.49 330.626,207.377 \n",
       "  345.27,203.519 359.915,196.666 374.559,193.304 389.204,189.162 403.848,190.044 418.493,198.003 433.138,199.387 447.782,200.713 462.427,200.831 477.071,199.778 \n",
       "  491.716,196.641 506.36,184.579 521.005,180.343 535.649,175.675 550.294,175.243 564.938,181.324 \n",
       "  \"/>\n",
       "<polyline clip-path=\"url(#clip8302)\" style=\"stroke:#47988b; stroke-width:1; stroke-opacity:1; fill:none\" points=\"\n",
       "  52.38,319.633 67.0245,311.015 81.669,302.504 96.3135,296.072 110.958,291.798 125.603,288.735 140.247,284.369 154.892,278.838 169.536,272.449 184.181,270.145 \n",
       "  198.825,270.366 213.47,270.673 228.114,269.424 242.759,268.096 257.403,269.342 272.048,266.606 286.692,264.326 301.337,262.287 315.981,259.489 330.626,258.495 \n",
       "  345.27,257.8 359.915,249.613 374.559,247.758 389.204,242.591 403.848,238.572 418.493,240.638 433.138,251.434 447.782,250.766 462.427,241.594 477.071,242.036 \n",
       "  491.716,238.147 506.36,227.082 521.005,215.88 535.649,206.98 550.294,206.531 564.938,216.668 \n",
       "  \"/>\n",
       "<polyline clip-path=\"url(#clip8302)\" style=\"stroke:#1ea68c; stroke-width:1; stroke-opacity:1; fill:none\" points=\"\n",
       "  52.38,325.427 67.0245,315.515 81.669,309.845 96.3135,308.229 110.958,306.321 125.603,290.632 140.247,287.621 154.892,284.481 169.536,277.114 184.181,274.312 \n",
       "  198.825,272.901 213.47,275.836 228.114,279.666 242.759,277.208 257.403,273.601 272.048,266.694 286.692,265.292 301.337,261.761 315.981,254.6 330.626,251.305 \n",
       "  345.27,245.986 359.915,244.374 374.559,241.512 389.204,235.653 403.848,236.594 418.493,238.384 433.138,240.816 447.782,242.921 462.427,241.652 477.071,240.811 \n",
       "  491.716,237.362 506.36,230.004 521.005,221.145 535.649,218.351 550.294,222.544 564.938,225.941 \n",
       "  \"/>\n",
       "<polyline clip-path=\"url(#clip8302)\" style=\"stroke:#af78dd; stroke-width:1; stroke-opacity:1; fill:none\" points=\"\n",
       "  52.38,127.238 67.0245,118.768 81.669,105.836 96.3135,99.0559 110.958,94.6712 125.603,89.2493 140.247,87.3204 154.892,79.5899 169.536,72.001 184.181,69.5284 \n",
       "  198.825,69.4965 213.47,70.4689 228.114,71.5608 242.759,71.1355 257.403,73.4271 272.048,75.6135 286.692,74.993 301.337,71.9059 315.981,71.3285 330.626,70.2789 \n",
       "  345.27,61.6458 359.915,60.922 374.559,65.1972 389.204,56.1696 403.848,54.8998 418.493,56.3098 433.138,63.2572 447.782,65.0567 462.427,60.1482 477.071,59.6039 \n",
       "  491.716,56.2686 506.36,48.6894 521.005,39.4934 535.649,30.8195 550.294,25.7554 564.938,26.9484 \n",
       "  \"/>\n",
       "<polyline clip-path=\"url(#clip8302)\" style=\"stroke:#868d87; stroke-width:1; stroke-opacity:1; fill:none\" points=\"\n",
       "  52.38,315.696 67.0245,306.939 81.669,295.757 96.3135,291.402 110.958,281.203 125.603,271.937 140.247,260.925 154.892,251.751 169.536,248.692 184.181,244.854 \n",
       "  198.825,241.733 213.47,237.399 228.114,231.902 242.759,229.192 257.403,224.51 272.048,218.479 286.692,210.942 301.337,202.683 315.981,196.101 330.626,191.297 \n",
       "  345.27,187.75 359.915,180.123 374.559,174.683 389.204,168.497 403.848,164.968 418.493,166.962 433.138,181.052 447.782,178.972 462.427,173.1 477.071,170.848 \n",
       "  491.716,164.987 506.36,158.051 521.005,152.671 535.649,146.495 550.294,144.376 564.938,148.194 \n",
       "  \"/>\n",
       "<polyline clip-path=\"url(#clip8302)\" style=\"stroke:#47a065; stroke-width:1; stroke-opacity:1; fill:none\" points=\"\n",
       "  52.38,244.983 67.0245,235.267 81.669,225.034 96.3135,218.94 110.958,216.013 125.603,212.22 140.247,207.366 154.892,199.176 169.536,194.556 184.181,195.179 \n",
       "  198.825,194.865 213.47,198.096 228.114,197.105 242.759,196.836 257.403,191.628 272.048,185.047 286.692,180.15 301.337,175.83 315.981,170.108 330.626,169.001 \n",
       "  345.27,165.148 359.915,163.984 374.559,162.869 389.204,158.072 403.848,157.601 418.493,161.451 433.138,165.066 447.782,166.105 462.427,164.905 477.071,162.777 \n",
       "  491.716,158.021 506.36,147.921 521.005,142.994 535.649,137.744 550.294,136.208 564.938,139.692 \n",
       "  \"/>\n",
       "<polyline clip-path=\"url(#clip8302)\" style=\"stroke:#7683af; stroke-width:1; stroke-opacity:1; fill:none\" points=\"\n",
       "  52.38,279.578 67.0245,272.241 81.669,266.893 96.3135,258.956 110.958,255.085 125.603,253.662 140.247,252.319 154.892,246.512 169.536,241.582 184.181,240.623 \n",
       "  198.825,242.511 213.47,246.022 228.114,244.431 242.759,243.71 257.403,237.109 272.048,232.62 286.692,229.147 301.337,227.041 315.981,224.776 330.626,226.136 \n",
       "  345.27,222.769 359.915,224.632 374.559,220.706 389.204,215.956 403.848,214.258 418.493,217.837 433.138,223.448 447.782,225.642 462.427,224.591 477.071,225.007 \n",
       "  491.716,220.288 506.36,208.758 521.005,199.775 535.649,195.536 550.294,195.924 564.938,204.09 \n",
       "  \"/>\n",
       "<polyline clip-path=\"url(#clip8302)\" style=\"stroke:#b08086; stroke-width:1; stroke-opacity:1; fill:none\" points=\"\n",
       "  52.38,210.125 67.0245,203.533 81.669,198.428 96.3135,193.382 110.958,192.156 125.603,188.138 140.247,182.403 154.892,174.773 169.536,167.755 184.181,166.416 \n",
       "  198.825,166.488 213.47,166.654 228.114,166.511 242.759,164.728 257.403,161.638 272.048,156.661 286.692,151.562 301.337,149.841 315.981,146.83 330.626,147.47 \n",
       "  345.27,144.965 359.915,142.602 374.559,138.189 389.204,135.575 403.848,134.678 418.493,133.242 433.138,137.046 447.782,139.421 462.427,137.568 477.071,136.86 \n",
       "  491.716,131.19 506.36,121.094 521.005,113.697 535.649,109.84 550.294,109.584 564.938,115.148 \n",
       "  \"/>\n",
       "<polyline clip-path=\"url(#clip8302)\" style=\"stroke:#309ac1; stroke-width:1; stroke-opacity:1; fill:none\" points=\"\n",
       "  52.38,125.929 67.0245,120.863 81.669,115.424 96.3135,111.388 110.958,107.209 125.603,102.704 140.247,97.2491 154.892,92.4276 169.536,87.8042 184.181,83.9734 \n",
       "  198.825,82.8926 213.47,80.6143 228.114,77.0387 242.759,73.8765 257.403,72.2323 272.048,69.8883 286.692,67.744 301.337,64.8461 315.981,63.5217 330.626,64.2651 \n",
       "  345.27,60.7599 359.915,55.1697 374.559,50.8616 389.204,47.8336 403.848,46.4961 418.493,47.0242 433.138,50.4143 447.782,51.1243 462.427,48.4358 477.071,47.4371 \n",
       "  491.716,42.9824 506.36,34.2218 521.005,26.9995 535.649,22.1145 550.294,22.4748 564.938,30.9347 \n",
       "  \"/>\n",
       "<polygon clip-path=\"url(#clip8300)\" points=\"\n",
       "482.917,425.811 562.315,425.811 562.315,32.691 482.917,32.691 \n",
       "  \" fill=\"#ffffff\" fill-opacity=\"1\"/>\n",
       "<polyline clip-path=\"url(#clip8300)\" style=\"stroke:#000000; stroke-width:1; stroke-opacity:1; fill:none\" points=\"\n",
       "  482.917,425.811 562.315,425.811 562.315,32.691 482.917,32.691 482.917,425.811 \n",
       "  \"/>\n",
       "<polyline clip-path=\"url(#clip8300)\" style=\"stroke:#009af9; stroke-width:1; stroke-opacity:1; fill:none\" points=\"\n",
       "  488.917,47.811 524.917,47.811 \n",
       "  \"/>\n",
       "<g clip-path=\"url(#clip8300)\">\n",
       "<text style=\"fill:#000000; fill-opacity:1; font-family:Arial,Helvetica Neue,Helvetica,sans-serif; font-size:12; text-anchor:start;\" transform=\"rotate(0, 530.917, 52.311)\" x=\"530.917\" y=\"52.311\">y1</text>\n",
       "</g>\n",
       "<polyline clip-path=\"url(#clip8300)\" style=\"stroke:#e26f46; stroke-width:1; stroke-opacity:1; fill:none\" points=\"\n",
       "  488.917,62.931 524.917,62.931 \n",
       "  \"/>\n",
       "<g clip-path=\"url(#clip8300)\">\n",
       "<text style=\"fill:#000000; fill-opacity:1; font-family:Arial,Helvetica Neue,Helvetica,sans-serif; font-size:12; text-anchor:start;\" transform=\"rotate(0, 530.917, 67.431)\" x=\"530.917\" y=\"67.431\">y2</text>\n",
       "</g>\n",
       "<polyline clip-path=\"url(#clip8300)\" style=\"stroke:#3da44d; stroke-width:1; stroke-opacity:1; fill:none\" points=\"\n",
       "  488.917,78.051 524.917,78.051 \n",
       "  \"/>\n",
       "<g clip-path=\"url(#clip8300)\">\n",
       "<text style=\"fill:#000000; fill-opacity:1; font-family:Arial,Helvetica Neue,Helvetica,sans-serif; font-size:12; text-anchor:start;\" transform=\"rotate(0, 530.917, 82.551)\" x=\"530.917\" y=\"82.551\">y3</text>\n",
       "</g>\n",
       "<polyline clip-path=\"url(#clip8300)\" style=\"stroke:#c271d2; stroke-width:1; stroke-opacity:1; fill:none\" points=\"\n",
       "  488.917,93.171 524.917,93.171 \n",
       "  \"/>\n",
       "<g clip-path=\"url(#clip8300)\">\n",
       "<text style=\"fill:#000000; fill-opacity:1; font-family:Arial,Helvetica Neue,Helvetica,sans-serif; font-size:12; text-anchor:start;\" transform=\"rotate(0, 530.917, 97.671)\" x=\"530.917\" y=\"97.671\">y4</text>\n",
       "</g>\n",
       "<polyline clip-path=\"url(#clip8300)\" style=\"stroke:#ac8d18; stroke-width:1; stroke-opacity:1; fill:none\" points=\"\n",
       "  488.917,108.291 524.917,108.291 \n",
       "  \"/>\n",
       "<g clip-path=\"url(#clip8300)\">\n",
       "<text style=\"fill:#000000; fill-opacity:1; font-family:Arial,Helvetica Neue,Helvetica,sans-serif; font-size:12; text-anchor:start;\" transform=\"rotate(0, 530.917, 112.791)\" x=\"530.917\" y=\"112.791\">y5</text>\n",
       "</g>\n",
       "<polyline clip-path=\"url(#clip8300)\" style=\"stroke:#00a9ad; stroke-width:1; stroke-opacity:1; fill:none\" points=\"\n",
       "  488.917,123.411 524.917,123.411 \n",
       "  \"/>\n",
       "<g clip-path=\"url(#clip8300)\">\n",
       "<text style=\"fill:#000000; fill-opacity:1; font-family:Arial,Helvetica Neue,Helvetica,sans-serif; font-size:12; text-anchor:start;\" transform=\"rotate(0, 530.917, 127.911)\" x=\"530.917\" y=\"127.911\">y6</text>\n",
       "</g>\n",
       "<polyline clip-path=\"url(#clip8300)\" style=\"stroke:#ed5d92; stroke-width:1; stroke-opacity:1; fill:none\" points=\"\n",
       "  488.917,138.531 524.917,138.531 \n",
       "  \"/>\n",
       "<g clip-path=\"url(#clip8300)\">\n",
       "<text style=\"fill:#000000; fill-opacity:1; font-family:Arial,Helvetica Neue,Helvetica,sans-serif; font-size:12; text-anchor:start;\" transform=\"rotate(0, 530.917, 143.031)\" x=\"530.917\" y=\"143.031\">y7</text>\n",
       "</g>\n",
       "<polyline clip-path=\"url(#clip8300)\" style=\"stroke:#c68125; stroke-width:1; stroke-opacity:1; fill:none\" points=\"\n",
       "  488.917,153.651 524.917,153.651 \n",
       "  \"/>\n",
       "<g clip-path=\"url(#clip8300)\">\n",
       "<text style=\"fill:#000000; fill-opacity:1; font-family:Arial,Helvetica Neue,Helvetica,sans-serif; font-size:12; text-anchor:start;\" transform=\"rotate(0, 530.917, 158.151)\" x=\"530.917\" y=\"158.151\">y8</text>\n",
       "</g>\n",
       "<polyline clip-path=\"url(#clip8300)\" style=\"stroke:#00a98d; stroke-width:1; stroke-opacity:1; fill:none\" points=\"\n",
       "  488.917,168.771 524.917,168.771 \n",
       "  \"/>\n",
       "<g clip-path=\"url(#clip8300)\">\n",
       "<text style=\"fill:#000000; fill-opacity:1; font-family:Arial,Helvetica Neue,Helvetica,sans-serif; font-size:12; text-anchor:start;\" transform=\"rotate(0, 530.917, 173.271)\" x=\"530.917\" y=\"173.271\">y9</text>\n",
       "</g>\n",
       "<polyline clip-path=\"url(#clip8300)\" style=\"stroke:#8e971d; stroke-width:1; stroke-opacity:1; fill:none\" points=\"\n",
       "  488.917,183.891 524.917,183.891 \n",
       "  \"/>\n",
       "<g clip-path=\"url(#clip8300)\">\n",
       "<text style=\"fill:#000000; fill-opacity:1; font-family:Arial,Helvetica Neue,Helvetica,sans-serif; font-size:12; text-anchor:start;\" transform=\"rotate(0, 530.917, 188.391)\" x=\"530.917\" y=\"188.391\">y10</text>\n",
       "</g>\n",
       "<polyline clip-path=\"url(#clip8300)\" style=\"stroke:#00a8cb; stroke-width:1; stroke-opacity:1; fill:none\" points=\"\n",
       "  488.917,199.011 524.917,199.011 \n",
       "  \"/>\n",
       "<g clip-path=\"url(#clip8300)\">\n",
       "<text style=\"fill:#000000; fill-opacity:1; font-family:Arial,Helvetica Neue,Helvetica,sans-serif; font-size:12; text-anchor:start;\" transform=\"rotate(0, 530.917, 203.511)\" x=\"530.917\" y=\"203.511\">y11</text>\n",
       "</g>\n",
       "<polyline clip-path=\"url(#clip8300)\" style=\"stroke:#9b7fe8; stroke-width:1; stroke-opacity:1; fill:none\" points=\"\n",
       "  488.917,214.131 524.917,214.131 \n",
       "  \"/>\n",
       "<g clip-path=\"url(#clip8300)\">\n",
       "<text style=\"fill:#000000; fill-opacity:1; font-family:Arial,Helvetica Neue,Helvetica,sans-serif; font-size:12; text-anchor:start;\" transform=\"rotate(0, 530.917, 218.631)\" x=\"530.917\" y=\"218.631\">y12</text>\n",
       "</g>\n",
       "<polyline clip-path=\"url(#clip8300)\" style=\"stroke:#608cf6; stroke-width:1; stroke-opacity:1; fill:none\" points=\"\n",
       "  488.917,229.251 524.917,229.251 \n",
       "  \"/>\n",
       "<g clip-path=\"url(#clip8300)\">\n",
       "<text style=\"fill:#000000; fill-opacity:1; font-family:Arial,Helvetica Neue,Helvetica,sans-serif; font-size:12; text-anchor:start;\" transform=\"rotate(0, 530.917, 233.751)\" x=\"530.917\" y=\"233.751\">y13</text>\n",
       "</g>\n",
       "<polyline clip-path=\"url(#clip8300)\" style=\"stroke:#f05f73; stroke-width:1; stroke-opacity:1; fill:none\" points=\"\n",
       "  488.917,244.371 524.917,244.371 \n",
       "  \"/>\n",
       "<g clip-path=\"url(#clip8300)\">\n",
       "<text style=\"fill:#000000; fill-opacity:1; font-family:Arial,Helvetica Neue,Helvetica,sans-serif; font-size:12; text-anchor:start;\" transform=\"rotate(0, 530.917, 248.871)\" x=\"530.917\" y=\"248.871\">y14</text>\n",
       "</g>\n",
       "<polyline clip-path=\"url(#clip8300)\" style=\"stroke:#dd64b5; stroke-width:1; stroke-opacity:1; fill:none\" points=\"\n",
       "  488.917,259.491 524.917,259.491 \n",
       "  \"/>\n",
       "<g clip-path=\"url(#clip8300)\">\n",
       "<text style=\"fill:#000000; fill-opacity:1; font-family:Arial,Helvetica Neue,Helvetica,sans-serif; font-size:12; text-anchor:start;\" transform=\"rotate(0, 530.917, 263.991)\" x=\"530.917\" y=\"263.991\">y15</text>\n",
       "</g>\n",
       "<polyline clip-path=\"url(#clip8300)\" style=\"stroke:#6b9e32; stroke-width:1; stroke-opacity:1; fill:none\" points=\"\n",
       "  488.917,274.611 524.917,274.611 \n",
       "  \"/>\n",
       "<g clip-path=\"url(#clip8300)\">\n",
       "<text style=\"fill:#000000; fill-opacity:1; font-family:Arial,Helvetica Neue,Helvetica,sans-serif; font-size:12; text-anchor:start;\" transform=\"rotate(0, 530.917, 279.111)\" x=\"530.917\" y=\"279.111\">y16</text>\n",
       "</g>\n",
       "<polyline clip-path=\"url(#clip8300)\" style=\"stroke:#718c69; stroke-width:1; stroke-opacity:1; fill:none\" points=\"\n",
       "  488.917,289.731 524.917,289.731 \n",
       "  \"/>\n",
       "<g clip-path=\"url(#clip8300)\">\n",
       "<text style=\"fill:#000000; fill-opacity:1; font-family:Arial,Helvetica Neue,Helvetica,sans-serif; font-size:12; text-anchor:start;\" transform=\"rotate(0, 530.917, 294.231)\" x=\"530.917\" y=\"294.231\">y17</text>\n",
       "</g>\n",
       "<polyline clip-path=\"url(#clip8300)\" style=\"stroke:#47988b; stroke-width:1; stroke-opacity:1; fill:none\" points=\"\n",
       "  488.917,304.851 524.917,304.851 \n",
       "  \"/>\n",
       "<g clip-path=\"url(#clip8300)\">\n",
       "<text style=\"fill:#000000; fill-opacity:1; font-family:Arial,Helvetica Neue,Helvetica,sans-serif; font-size:12; text-anchor:start;\" transform=\"rotate(0, 530.917, 309.351)\" x=\"530.917\" y=\"309.351\">y18</text>\n",
       "</g>\n",
       "<polyline clip-path=\"url(#clip8300)\" style=\"stroke:#1ea68c; stroke-width:1; stroke-opacity:1; fill:none\" points=\"\n",
       "  488.917,319.971 524.917,319.971 \n",
       "  \"/>\n",
       "<g clip-path=\"url(#clip8300)\">\n",
       "<text style=\"fill:#000000; fill-opacity:1; font-family:Arial,Helvetica Neue,Helvetica,sans-serif; font-size:12; text-anchor:start;\" transform=\"rotate(0, 530.917, 324.471)\" x=\"530.917\" y=\"324.471\">y19</text>\n",
       "</g>\n",
       "<polyline clip-path=\"url(#clip8300)\" style=\"stroke:#af78dd; stroke-width:1; stroke-opacity:1; fill:none\" points=\"\n",
       "  488.917,335.091 524.917,335.091 \n",
       "  \"/>\n",
       "<g clip-path=\"url(#clip8300)\">\n",
       "<text style=\"fill:#000000; fill-opacity:1; font-family:Arial,Helvetica Neue,Helvetica,sans-serif; font-size:12; text-anchor:start;\" transform=\"rotate(0, 530.917, 339.591)\" x=\"530.917\" y=\"339.591\">y20</text>\n",
       "</g>\n",
       "<polyline clip-path=\"url(#clip8300)\" style=\"stroke:#868d87; stroke-width:1; stroke-opacity:1; fill:none\" points=\"\n",
       "  488.917,350.211 524.917,350.211 \n",
       "  \"/>\n",
       "<g clip-path=\"url(#clip8300)\">\n",
       "<text style=\"fill:#000000; fill-opacity:1; font-family:Arial,Helvetica Neue,Helvetica,sans-serif; font-size:12; text-anchor:start;\" transform=\"rotate(0, 530.917, 354.711)\" x=\"530.917\" y=\"354.711\">y21</text>\n",
       "</g>\n",
       "<polyline clip-path=\"url(#clip8300)\" style=\"stroke:#47a065; stroke-width:1; stroke-opacity:1; fill:none\" points=\"\n",
       "  488.917,365.331 524.917,365.331 \n",
       "  \"/>\n",
       "<g clip-path=\"url(#clip8300)\">\n",
       "<text style=\"fill:#000000; fill-opacity:1; font-family:Arial,Helvetica Neue,Helvetica,sans-serif; font-size:12; text-anchor:start;\" transform=\"rotate(0, 530.917, 369.831)\" x=\"530.917\" y=\"369.831\">y22</text>\n",
       "</g>\n",
       "<polyline clip-path=\"url(#clip8300)\" style=\"stroke:#7683af; stroke-width:1; stroke-opacity:1; fill:none\" points=\"\n",
       "  488.917,380.451 524.917,380.451 \n",
       "  \"/>\n",
       "<g clip-path=\"url(#clip8300)\">\n",
       "<text style=\"fill:#000000; fill-opacity:1; font-family:Arial,Helvetica Neue,Helvetica,sans-serif; font-size:12; text-anchor:start;\" transform=\"rotate(0, 530.917, 384.951)\" x=\"530.917\" y=\"384.951\">y23</text>\n",
       "</g>\n",
       "<polyline clip-path=\"url(#clip8300)\" style=\"stroke:#b08086; stroke-width:1; stroke-opacity:1; fill:none\" points=\"\n",
       "  488.917,395.571 524.917,395.571 \n",
       "  \"/>\n",
       "<g clip-path=\"url(#clip8300)\">\n",
       "<text style=\"fill:#000000; fill-opacity:1; font-family:Arial,Helvetica Neue,Helvetica,sans-serif; font-size:12; text-anchor:start;\" transform=\"rotate(0, 530.917, 400.071)\" x=\"530.917\" y=\"400.071\">y24</text>\n",
       "</g>\n",
       "<polyline clip-path=\"url(#clip8300)\" style=\"stroke:#309ac1; stroke-width:1; stroke-opacity:1; fill:none\" points=\"\n",
       "  488.917,410.691 524.917,410.691 \n",
       "  \"/>\n",
       "<g clip-path=\"url(#clip8300)\">\n",
       "<text style=\"fill:#000000; fill-opacity:1; font-family:Arial,Helvetica Neue,Helvetica,sans-serif; font-size:12; text-anchor:start;\" transform=\"rotate(0, 530.917, 415.191)\" x=\"530.917\" y=\"415.191\">y25</text>\n",
       "</g>\n",
       "</svg>\n"
      ]
     },
     "execution_count": 90,
     "metadata": {},
     "output_type": "execute_result"
    }
   ],
   "source": [
    "plot(log.(p[:A][1,:,end,:]'))"
   ]
  },
  {
   "cell_type": "code",
   "execution_count": 77,
   "metadata": {},
   "outputs": [
    {
     "data": {
      "image/png": "[encoded data removed]"
     },
     "execution_count": 77,
     "metadata": {},
     "output_type": "execute_result"
    }
   ],
   "source": [
    "plot(log.([real_GDP_model[1,end-1,1,:] real_GDP_data[1,end-1,1,:]]))"
   ]
  },
  {
   "cell_type": "code",
   "execution_count": 78,
   "metadata": {},
   "outputs": [
    {
     "data": {
      "text/plain": [
       "1×25×24×36 Array{Float64,4}:\n",
       "[:, :, 1, 1] =\n",
       " 5516.78  1652.26  2596.96  9846.87  9515.21  …  2639.25  11469.6  1.08793e5\n",
       "\n",
       "[:, :, 2, 1] =\n",
       " 2505.32  592.409  1085.2  2979.0  …  1792.26  889.623  4039.11  36730.5\n",
       "\n",
       "[:, :, 3, 1] =\n",
       " 206.48  77.992  96.3106  361.03  …  224.229  116.427  622.768  4878.17\n",
       "\n",
       "...\n",
       "\n",
       "[:, :, 22, 1] =\n",
       " 244.867  5.68644  56.9194  568.575  …  391.986  176.431  1234.11  8988.62\n",
       "\n",
       "[:, :, 23, 1] =\n",
       " 309.61  160.244  395.65  580.252  747.7  …  430.01  199.354  1297.23  8190.9\n",
       "\n",
       "[:, :, 24, 1] =\n",
       " 29157.1  11387.0  19290.8  52849.0  60473.6  …  19765.4  92094.7  7.11866e5\n",
       "\n",
       "[:, :, 1, 2] =\n",
       " 6742.08  1804.69  2964.1  10938.3  10757.0  …  2787.32  11903.3  1.18248e5\n",
       "\n",
       "[:, :, 2, 2] =\n",
       " 3217.62  638.794  1154.72  3281.01  …  2223.53  961.466  4270.46  38389.8\n",
       "\n",
       "[:, :, 3, 2] =\n",
       " 253.718  88.4228  109.843  388.762  …  266.917  130.963  639.068  5029.1\n",
       "\n",
       "...\n",
       "\n",
       "[:, :, 22, 2] =\n",
       " 284.42  5.67113  57.2276  537.079  …  431.038  193.602  1241.06  9040.48\n",
       "\n",
       "[:, :, 23, 2] =\n",
       " 396.557  172.365  567.767  614.523  …  518.462  216.515  1420.2  8036.38\n",
       "\n",
       "[:, :, 24, 2] =\n",
       " 37193.3  12897.5  22966.2  59261.1  70386.0  …  22247.8  98718.5  7.64692e5\n",
       "\n",
       "[:, :, 1, 3] =\n",
       " 7956.47  1901.46  2832.88  12472.3  9999.02  …  2901.32  11847.9  1.14312e5\n",
       "\n",
       "[:, :, 2, 3] =\n",
       " 3264.6  673.276  1170.25  3421.4  …  2529.31  947.192  4246.74  36922.9\n",
       "\n",
       "[:, :, 3, 3] =\n",
       " 270.214  91.2947  121.806  420.828  …  301.099  132.294  632.738  4828.52\n",
       "\n",
       "...\n",
       "\n",
       "[:, :, 22, 3] =\n",
       " 335.806  7.25602  60.8562  640.986  …  478.499  204.131  1229.07  8965.91\n",
       "\n",
       "[:, :, 23, 3] =\n",
       " 401.201  181.3  507.237  667.523  …  562.168  210.392  1413.62  7797.86\n",
       "\n",
       "[:, :, 24, 3] =\n",
       " 41006.8  14248.8  24166.8  67246.2  …  47847.5  23968.6  99744.3  766399.0\n",
       "\n",
       "...\n",
       "\n",
       "[:, :, 1, 34] =\n",
       " 13777.8  3157.49  3841.55  17970.5  58803.6  …  2274.36  28231.8  1.88686e5\n",
       "\n",
       "[:, :, 2, 34] =\n",
       " 8303.2  2160.43  4014.69  11378.6  …  10275.3  1645.07  16310.3  97554.3\n",
       "\n",
       "[:, :, 3, 34] =\n",
       " 804.334  207.322  311.71  1237.14  …  826.127  279.357  2755.53  14790.6\n",
       "\n",
       "...\n",
       "\n",
       "[:, :, 22, 34] =\n",
       " 891.045  681.54  107.429  3189.52  …  1870.03  317.581  5400.11  37331.1\n",
       "\n",
       "[:, :, 23, 34] =\n",
       " 1364.05  755.524  227.204  2547.61  …  2498.34  466.98  4203.28  25549.9\n",
       "\n",
       "[:, :, 24, 34] =\n",
       " 1.90666e5  84882.0  1.12745e5  3.31661e5  …  94739.5  6.15937e5  3.86224e6\n",
       "\n",
       "[:, :, 1, 35] =\n",
       " 14723.6  3294.68  4683.37  18721.5  67687.0  …  2660.09  29596.5  1.90941e5\n",
       "\n",
       "[:, :, 2, 35] =\n",
       " 8459.05  2273.15  4376.29  11870.8  …  10613.0  1704.4  15901.3  97508.5\n",
       "\n",
       "[:, :, 3, 35] =\n",
       " 828.939  172.334  306.465  1058.22  …  816.326  289.303  2604.93  14460.9\n",
       "\n",
       "...\n",
       "\n",
       "[:, :, 22, 35] =\n",
       " 742.724  565.95  69.1793  3532.58  …  1971.24  328.839  5376.67  39295.6\n",
       "\n",
       "[:, :, 23, 35] =\n",
       " 1334.44  764.551  193.658  2588.14  …  2521.83  467.735  3963.88  25412.1\n",
       "\n",
       "[:, :, 24, 35] =\n",
       " 201584.0  88922.8  1.14201e5  3.53414e5  …  99606.2  641051.0  3.9698e6\n",
       "\n",
       "[:, :, 1, 36] =\n",
       " 14478.5  3447.76  4719.8  21719.6  …  19156.4  2757.0  31919.7  2.01214e5\n",
       "\n",
       "[:, :, 2, 36] =\n",
       " 9162.11  2466.75  5074.12  11662.2  …  11268.6  1791.68  17181.8  98594.9\n",
       "\n",
       "[:, :, 3, 36] =\n",
       " 849.088  166.697  396.927  1347.76  …  894.655  332.59  2671.91  14382.6\n",
       "\n",
       "...\n",
       "\n",
       "[:, :, 22, 36] =\n",
       " 876.148  773.613  37.4217  4006.65  …  2375.46  426.012  5781.86  43181.3\n",
       "\n",
       "[:, :, 23, 36] =\n",
       " 1492.1  874.598  215.657  2675.22  …  2600.72  551.878  4169.86  24322.1\n",
       "\n",
       "[:, :, 24, 36] =\n",
       " 2.18965e5  96478.5  1.21288e5  387959.0  …  1.07639e5  6.92085e5  4.06043e6"
      ]
     },
     "execution_count": 78,
     "metadata": {},
     "output_type": "execute_result"
    }
   ],
   "source": [
    "sectoral_GDP_model = ImpvolOutput.make_series(results, :real_GDP)"
   ]
  },
  {
   "cell_type": "code",
   "execution_count": 86,
   "metadata": {},
   "outputs": [
    {
     "data": {
      "image/png": "[encoded data removed]"
     },
     "execution_count": 86,
     "metadata": {},
     "output_type": "execute_result"
    }
   ],
   "source": [
    "plot(log.([sectoral_GDP_model[1,end-1,10,:] data[\"va\"][1,end-1,10,:]]))"
   ]
  },
  {
   "cell_type": "code",
   "execution_count": 19,
   "metadata": {},
   "outputs": [
    {
     "data": {
      "image/svg+xml": [
       "<?xml version=\"1.0\" encoding=\"utf-8\"?>\n",
       "<svg xmlns=\"http://www.w3.org/2000/svg\" xmlns:xlink=\"http://www.w3.org/1999/xlink\" width=\"150\" height=\"100\" viewBox=\"0 0 600 400\">\n",
       "<defs>\n",
       "  <clipPath id=\"clip0000\">\n",
       "    <rect x=\"0\" y=\"0\" width=\"2000\" height=\"2000\"/>\n",
       "  </clipPath>\n",
       "</defs>\n",
       "<defs>\n",
       "  <clipPath id=\"clip0001\">\n",
       "    <rect x=\"0\" y=\"0\" width=\"600\" height=\"400\"/>\n",
       "  </clipPath>\n",
       "</defs>\n",
       "<polygon clip-path=\"url(#clip0001)\" points=\"\n",
       "0,400 600,400 600,0 0,0 \n",
       "  \" fill=\"#ffffff\" fill-opacity=\"1\"/>\n",
       "<defs>\n",
       "  <clipPath id=\"clip0002\">\n",
       "    <rect x=\"120\" y=\"0\" width=\"421\" height=\"400\"/>\n",
       "  </clipPath>\n",
       "</defs>\n",
       "<polygon clip-path=\"url(#clip0001)\" points=\"\n",
       "37.3402,375.869 580.315,375.869 580.315,11.811 37.3402,11.811 \n",
       "  \" fill=\"#ffffff\" fill-opacity=\"1\"/>\n",
       "<defs>\n",
       "  <clipPath id=\"clip0003\">\n",
       "    <rect x=\"37\" y=\"11\" width=\"544\" height=\"365\"/>\n",
       "  </clipPath>\n",
       "</defs>\n",
       "<polyline clip-path=\"url(#clip0003)\" style=\"stroke:#000000; stroke-width:0.5; stroke-opacity:0.1; fill:none\" points=\"\n",
       "  58.8548,375.869 58.8548,11.811 \n",
       "  \"/>\n",
       "<polyline clip-path=\"url(#clip0003)\" style=\"stroke:#000000; stroke-width:0.5; stroke-opacity:0.1; fill:none\" points=\"\n",
       "  183.125,375.869 183.125,11.811 \n",
       "  \"/>\n",
       "<polyline clip-path=\"url(#clip0003)\" style=\"stroke:#000000; stroke-width:0.5; stroke-opacity:0.1; fill:none\" points=\"\n",
       "  307.395,375.869 307.395,11.811 \n",
       "  \"/>\n",
       "<polyline clip-path=\"url(#clip0003)\" style=\"stroke:#000000; stroke-width:0.5; stroke-opacity:0.1; fill:none\" points=\"\n",
       "  431.665,375.869 431.665,11.811 \n",
       "  \"/>\n",
       "<polyline clip-path=\"url(#clip0003)\" style=\"stroke:#000000; stroke-width:0.5; stroke-opacity:0.1; fill:none\" points=\"\n",
       "  555.935,375.869 555.935,11.811 \n",
       "  \"/>\n",
       "<polyline clip-path=\"url(#clip0003)\" style=\"stroke:#000000; stroke-width:0.5; stroke-opacity:0.1; fill:none\" points=\"\n",
       "  37.3402,334.149 580.315,334.149 \n",
       "  \"/>\n",
       "<polyline clip-path=\"url(#clip0003)\" style=\"stroke:#000000; stroke-width:0.5; stroke-opacity:0.1; fill:none\" points=\"\n",
       "  37.3402,270.814 580.315,270.814 \n",
       "  \"/>\n",
       "<polyline clip-path=\"url(#clip0003)\" style=\"stroke:#000000; stroke-width:0.5; stroke-opacity:0.1; fill:none\" points=\"\n",
       "  37.3402,207.479 580.315,207.479 \n",
       "  \"/>\n",
       "<polyline clip-path=\"url(#clip0003)\" style=\"stroke:#000000; stroke-width:0.5; stroke-opacity:0.1; fill:none\" points=\"\n",
       "  37.3402,144.144 580.315,144.144 \n",
       "  \"/>\n",
       "<polyline clip-path=\"url(#clip0003)\" style=\"stroke:#000000; stroke-width:0.5; stroke-opacity:0.1; fill:none\" points=\"\n",
       "  37.3402,80.8091 580.315,80.8091 \n",
       "  \"/>\n",
       "<polyline clip-path=\"url(#clip0003)\" style=\"stroke:#000000; stroke-width:0.5; stroke-opacity:0.1; fill:none\" points=\"\n",
       "  37.3402,17.4742 580.315,17.4742 \n",
       "  \"/>\n",
       "<polyline clip-path=\"url(#clip0001)\" style=\"stroke:#000000; stroke-width:1; stroke-opacity:1; fill:none\" points=\"\n",
       "  37.3402,375.869 580.315,375.869 \n",
       "  \"/>\n",
       "<polyline clip-path=\"url(#clip0001)\" style=\"stroke:#000000; stroke-width:1; stroke-opacity:1; fill:none\" points=\"\n",
       "  37.3402,375.869 37.3402,11.811 \n",
       "  \"/>\n",
       "<polyline clip-path=\"url(#clip0001)\" style=\"stroke:#000000; stroke-width:1; stroke-opacity:1; fill:none\" points=\"\n",
       "  58.8548,375.869 58.8548,370.408 \n",
       "  \"/>\n",
       "<polyline clip-path=\"url(#clip0001)\" style=\"stroke:#000000; stroke-width:1; stroke-opacity:1; fill:none\" points=\"\n",
       "  183.125,375.869 183.125,370.408 \n",
       "  \"/>\n",
       "<polyline clip-path=\"url(#clip0001)\" style=\"stroke:#000000; stroke-width:1; stroke-opacity:1; fill:none\" points=\"\n",
       "  307.395,375.869 307.395,370.408 \n",
       "  \"/>\n",
       "<polyline clip-path=\"url(#clip0001)\" style=\"stroke:#000000; stroke-width:1; stroke-opacity:1; fill:none\" points=\"\n",
       "  431.665,375.869 431.665,370.408 \n",
       "  \"/>\n",
       "<polyline clip-path=\"url(#clip0001)\" style=\"stroke:#000000; stroke-width:1; stroke-opacity:1; fill:none\" points=\"\n",
       "  555.935,375.869 555.935,370.408 \n",
       "  \"/>\n",
       "<polyline clip-path=\"url(#clip0001)\" style=\"stroke:#000000; stroke-width:1; stroke-opacity:1; fill:none\" points=\"\n",
       "  37.3402,334.149 45.4848,334.149 \n",
       "  \"/>\n",
       "<polyline clip-path=\"url(#clip0001)\" style=\"stroke:#000000; stroke-width:1; stroke-opacity:1; fill:none\" points=\"\n",
       "  37.3402,270.814 45.4848,270.814 \n",
       "  \"/>\n",
       "<polyline clip-path=\"url(#clip0001)\" style=\"stroke:#000000; stroke-width:1; stroke-opacity:1; fill:none\" points=\"\n",
       "  37.3402,207.479 45.4848,207.479 \n",
       "  \"/>\n",
       "<polyline clip-path=\"url(#clip0001)\" style=\"stroke:#000000; stroke-width:1; stroke-opacity:1; fill:none\" points=\"\n",
       "  37.3402,144.144 45.4848,144.144 \n",
       "  \"/>\n",
       "<polyline clip-path=\"url(#clip0001)\" style=\"stroke:#000000; stroke-width:1; stroke-opacity:1; fill:none\" points=\"\n",
       "  37.3402,80.8091 45.4848,80.8091 \n",
       "  \"/>\n",
       "<polyline clip-path=\"url(#clip0001)\" style=\"stroke:#000000; stroke-width:1; stroke-opacity:1; fill:none\" points=\"\n",
       "  37.3402,17.4742 45.4848,17.4742 \n",
       "  \"/>\n",
       "<g clip-path=\"url(#clip0001)\">\n",
       "<text style=\"fill:#000000; fill-opacity:1; font-family:Arial,Helvetica Neue,Helvetica,sans-serif; font-size:12px; text-anchor:middle;\" transform=\"rotate(0, 58.8548, 389.669)\" x=\"58.8548\" y=\"389.669\">-2</text>\n",
       "</g>\n",
       "<g clip-path=\"url(#clip0001)\">\n",
       "<text style=\"fill:#000000; fill-opacity:1; font-family:Arial,Helvetica Neue,Helvetica,sans-serif; font-size:12px; text-anchor:middle;\" transform=\"rotate(0, 183.125, 389.669)\" x=\"183.125\" y=\"389.669\">-1</text>\n",
       "</g>\n",
       "<g clip-path=\"url(#clip0001)\">\n",
       "<text style=\"fill:#000000; fill-opacity:1; font-family:Arial,Helvetica Neue,Helvetica,sans-serif; font-size:12px; text-anchor:middle;\" transform=\"rotate(0, 307.395, 389.669)\" x=\"307.395\" y=\"389.669\">0</text>\n",
       "</g>\n",
       "<g clip-path=\"url(#clip0001)\">\n",
       "<text style=\"fill:#000000; fill-opacity:1; font-family:Arial,Helvetica Neue,Helvetica,sans-serif; font-size:12px; text-anchor:middle;\" transform=\"rotate(0, 431.665, 389.669)\" x=\"431.665\" y=\"389.669\">1</text>\n",
       "</g>\n",
       "<g clip-path=\"url(#clip0001)\">\n",
       "<text style=\"fill:#000000; fill-opacity:1; font-family:Arial,Helvetica Neue,Helvetica,sans-serif; font-size:12px; text-anchor:middle;\" transform=\"rotate(0, 555.935, 389.669)\" x=\"555.935\" y=\"389.669\">2</text>\n",
       "</g>\n",
       "<g clip-path=\"url(#clip0001)\">\n",
       "<text style=\"fill:#000000; fill-opacity:1; font-family:Arial,Helvetica Neue,Helvetica,sans-serif; font-size:12px; text-anchor:end;\" transform=\"rotate(0, 31.3402, 338.649)\" x=\"31.3402\" y=\"338.649\">-2</text>\n",
       "</g>\n",
       "<g clip-path=\"url(#clip0001)\">\n",
       "<text style=\"fill:#000000; fill-opacity:1; font-family:Arial,Helvetica Neue,Helvetica,sans-serif; font-size:12px; text-anchor:end;\" transform=\"rotate(0, 31.3402, 275.314)\" x=\"31.3402\" y=\"275.314\">-1</text>\n",
       "</g>\n",
       "<g clip-path=\"url(#clip0001)\">\n",
       "<text style=\"fill:#000000; fill-opacity:1; font-family:Arial,Helvetica Neue,Helvetica,sans-serif; font-size:12px; text-anchor:end;\" transform=\"rotate(0, 31.3402, 211.979)\" x=\"31.3402\" y=\"211.979\">0</text>\n",
       "</g>\n",
       "<g clip-path=\"url(#clip0001)\">\n",
       "<text style=\"fill:#000000; fill-opacity:1; font-family:Arial,Helvetica Neue,Helvetica,sans-serif; font-size:12px; text-anchor:end;\" transform=\"rotate(0, 31.3402, 148.644)\" x=\"31.3402\" y=\"148.644\">1</text>\n",
       "</g>\n",
       "<g clip-path=\"url(#clip0001)\">\n",
       "<text style=\"fill:#000000; fill-opacity:1; font-family:Arial,Helvetica Neue,Helvetica,sans-serif; font-size:12px; text-anchor:end;\" transform=\"rotate(0, 31.3402, 85.3091)\" x=\"31.3402\" y=\"85.3091\">2</text>\n",
       "</g>\n",
       "<g clip-path=\"url(#clip0001)\">\n",
       "<text style=\"fill:#000000; fill-opacity:1; font-family:Arial,Helvetica Neue,Helvetica,sans-serif; font-size:12px; text-anchor:end;\" transform=\"rotate(0, 31.3402, 21.9742)\" x=\"31.3402\" y=\"21.9742\">3</text>\n",
       "</g>\n",
       "<polyline clip-path=\"url(#clip0003)\" style=\"stroke:#009af9; stroke-width:1; stroke-opacity:1; fill:none\" points=\"\n",
       "  296.047,205.767 360.482,160.018 352.669,293.146 417.094,287.209 430.409,318.005 564.948,306.07 192.02,238.395 145.545,71.5009 453.86,224.902 264.164,164.452 \n",
       "  404.578,240.215 356.383,343.028 453.839,228.406 321.686,169.359 353.988,236.513 212.968,274.94 378.313,170.298 112.331,270.263 347.63,169.776 370.536,153.568 \n",
       "  123.876,182.473 435.008,199.066 314.637,84.7023 298.565,173.91 133.617,260.624 361.837,172.131 354.239,185.479 454.826,213.157 479.715,190.745 444.341,208.559 \n",
       "  308.022,200.444 498.739,187.402 360.487,205.166 383.931,145.394 268.928,127.242 528.99,252.985 131.208,365.565 468.798,250.808 211.084,262.6 399.886,211.162 \n",
       "  468.055,152.697 487.376,187.896 362.158,292.767 406.306,228.958 271.255,358.452 325.88,129.76 215.782,232.22 117.996,231.031 292.012,196.842 364.63,278.177 \n",
       "  267.275,219.755 471.406,354.746 187.765,181.05 217.976,197.434 288.619,187.393 310.917,189.699 144.567,184.798 313.632,364.651 277.655,223.958 281.82,240.712 \n",
       "  239.357,109.037 431.135,138.377 456.89,156.344 269.106,197.758 397.589,219.776 172.866,107.393 545.376,68.4015 217.012,316.845 250.062,217.01 336.732,183.931 \n",
       "  320.389,264.036 117.273,147.168 175.048,284.537 364.595,214.14 289.345,203.403 199.705,234.124 322.911,22.1145 196.364,204.42 210.911,183.135 345.68,275.879 \n",
       "  337.831,108.808 352.231,225.381 409.825,215.665 284.876,266.763 166.054,134.172 397.213,111.652 89.4879,212.479 163.082,229.285 264.073,154.486 370.644,160.1 \n",
       "  275.014,280.151 454.156,333.666 92.5534,175.854 52.7074,191.965 228.826,173.344 375.864,316.494 423.615,256.452 162.217,178.744 185.559,197.909 399.917,178.789 \n",
       "  \n",
       "  \"/>\n",
       "<polygon clip-path=\"url(#clip0001)\" points=\"\n",
       "489.608,62.931 562.315,62.931 562.315,32.691 489.608,32.691 \n",
       "  \" fill=\"#ffffff\" fill-opacity=\"1\"/>\n",
       "<polyline clip-path=\"url(#clip0001)\" style=\"stroke:#000000; stroke-width:1; stroke-opacity:1; fill:none\" points=\"\n",
       "  489.608,62.931 562.315,62.931 562.315,32.691 489.608,32.691 489.608,62.931 \n",
       "  \"/>\n",
       "<polyline clip-path=\"url(#clip0001)\" style=\"stroke:#009af9; stroke-width:1; stroke-opacity:1; fill:none\" points=\"\n",
       "  495.608,47.811 531.608,47.811 \n",
       "  \"/>\n",
       "<g clip-path=\"url(#clip0001)\">\n",
       "<text style=\"fill:#000000; fill-opacity:1; font-family:Arial,Helvetica Neue,Helvetica,sans-serif; font-size:12px; text-anchor:start;\" transform=\"rotate(0, 537.608, 52.311)\" x=\"537.608\" y=\"52.311\">y1</text>\n",
       "</g>\n",
       "</svg>\n"
      ]
     },
     "execution_count": 19,
     "metadata": {},
     "output_type": "execute_result"
    }
   ],
   "source": [
    "using Plots; plot(randn(100), randn(100))"
   ]
  },
  {
   "cell_type": "code",
   "execution_count": null,
   "metadata": {},
   "outputs": [],
   "source": []
  }
 ],
 "metadata": {
  "kernelspec": {
   "display_name": "Julia 0.6.4",
   "language": "julia",
   "name": "julia-0.6"
  },
  "language_info": {
   "file_extension": ".jl",
   "mimetype": "application/julia",
   "name": "julia",
   "version": "0.6.4"
  }
 },
 "nbformat": 4,
 "nbformat_minor": 2
}
