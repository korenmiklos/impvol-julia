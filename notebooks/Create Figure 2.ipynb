{
 "cells": [
  {
   "cell_type": "code",
   "execution_count": 1,
   "metadata": {},
   "outputs": [],
   "source": [
    "using CSV, FileIO"
   ]
  },
  {
   "cell_type": "code",
   "execution_count": 2,
   "metadata": {},
   "outputs": [
    {
     "data": {
      "text/plain": [
       "Dict{String,Any} with 10 entries:\n",
       "  \"import_shares\"             => [0.0 7.85e-7 … 0.000689 0.0004425; 7.42e-5 0.0…\n",
       "  \"pwt\"                       => [0.824111 0.620073 … 0.747101 1.0]…\n",
       "  \"va\"                        => [3271.5 1407.45 … 4209.16 41311.0]…\n",
       "  \"p_sectoral_data\"           => [33.0109 64.7924 … 16.8926 36.7882]…\n",
       "  \"io_values\"                 => [2.49202e5 2423.0 … 6491.5 0.0; 4183.8 56086.1…\n",
       "  \"total_output\"              => [2.00728e6 8.11942e5 … 1.74308e6 66853.4]…\n",
       "  \"intermediate_input_shares\" => [0.973154 0.0268455 … 0.528231 0.294862]…\n",
       "  \"trade_balance\"             => [1184.95 -1239.14 … -406.84 1074.1]…\n",
       "  \"output_shares\"             => [0.967079 0.032921 … 0.521898 0.318506]…\n",
       "  \"beta\"                      => [0.230777 0.441 … 0.297884 0.370242]…"
      ]
     },
     "execution_count": 2,
     "metadata": {},
     "output_type": "execute_result"
    }
   ],
   "source": [
    "data = load(\"../data/impvol_data.jld2\")"
   ]
  },
  {
   "cell_type": "code",
   "execution_count": 12,
   "metadata": {},
   "outputs": [
    {
     "data": {
      "text/plain": [
       "25-element Array{Union{Missings.Missing, String},1}:\n",
       " \"Australia\"             \n",
       " \"Austria\"               \n",
       " \"Belgium and Luxembourg\"\n",
       " \"Canada\"                \n",
       " \"China\"                 \n",
       " \"Colombia\"              \n",
       " \"Denmark\"               \n",
       " \"Finland\"               \n",
       " \"France\"                \n",
       " \"Germany\"               \n",
       " \"Greece\"                \n",
       " \"India\"                 \n",
       " \"Ireland\"               \n",
       " \"Italy\"                 \n",
       " \"Japan\"                 \n",
       " \"Mexico\"                \n",
       " \"Netherlands\"           \n",
       " \"Norway\"                \n",
       " \"Portugal\"              \n",
       " \"ROW\"                   \n",
       " \"South Korea\"           \n",
       " \"Spain\"                 \n",
       " \"Sweden\"                \n",
       " \"United Kingdom\"        \n",
       " \"United States\"         "
      ]
     },
     "execution_count": 12,
     "metadata": {},
     "output_type": "execute_result"
    }
   ],
   "source": [
    "country_names = CSV.read(\"../experiments/baseline/output_table.csv\")[:country_names]"
   ]
  },
  {
   "cell_type": "code",
   "execution_count": 3,
   "metadata": {},
   "outputs": [
    {
     "data": {
      "text/html": [
       "<table class=\"data-frame\"><thead><tr><th></th><th>Time</th><th>Australia [AUS]</th><th>Austria [AUT]</th><th>Belgium [BEL]</th><th>Canada [CAN]</th><th>China [CHN]</th><th>Colombia [COL]</th><th>Denmark [DNK]</th><th>Finland [FIN]</th><th>France [FRA]</th><th>Germany [DEU]</th><th>Greece [GRC]</th><th>India [IND]</th><th>Ireland [IRL]</th><th>Italy [ITA]</th><th>Japan [JPN]</th><th>Mexico [MEX]</th><th>Netherlands [NLD]</th><th>Norway [NOR]</th><th>Portugal [PRT]</th><th>ROW</th><th>Korea, Rep. [KOR]</th><th>Spain [ESP]</th><th>Sweden [SWE]</th><th>United Kingdom [GBR]</th><th>United States [USA]</th></tr></thead><tbody><tr><th>1</th><td>1972</td><td>11.4464</td><td>28.1734</td><td>23.0586</td><td>18.8251</td><td>missing</td><td>0.202248</td><td>16.4406</td><td>14.9587</td><td>17.2391</td><td>35.3053</td><td>1.48606</td><td>5.21488</td><td>9.55302</td><td>6.76819</td><td>36.4413</td><td>0.018673</td><td>29.0088</td><td>15.909</td><td>2.2689</td><td>missing</td><td>6.82487</td><td>6.02514</td><td>15.5837</td><td>11.3749</td><td>19.1771</td></tr><tr><th>2</th><td>1973</td><td>12.487</td><td>30.2951</td><td>24.6624</td><td>20.2347</td><td>missing</td><td>0.247814</td><td>17.9701</td><td>16.5675</td><td>18.5115</td><td>37.7879</td><td>1.71469</td><td>6.09767</td><td>10.6435</td><td>7.49906</td><td>40.6717</td><td>0.020929</td><td>31.336</td><td>17.0893</td><td>2.56328</td><td>missing</td><td>7.0447</td><td>6.71301</td><td>16.6306</td><td>12.4209</td><td>20.3618</td></tr><tr><th>3</th><td>1974</td><td>14.4121</td><td>33.1798</td><td>27.7891</td><td>22.4599</td><td>missing</td><td>0.306969</td><td>20.7151</td><td>19.3734</td><td>21.0381</td><td>40.428</td><td>2.17012</td><td>7.84171</td><td>12.4503</td><td>8.93587</td><td>50.1166</td><td>0.0259068</td><td>34.3415</td><td>18.6977</td><td>3.20623</td><td>missing</td><td>8.75686</td><td>7.76564</td><td>18.279</td><td>14.4137</td><td>22.6127</td></tr><tr><th>4</th><td>1975</td><td>16.5973</td><td>35.9819</td><td>31.3373</td><td>24.8569</td><td>missing</td><td>0.378915</td><td>22.7049</td><td>22.8241</td><td>23.4966</td><td>42.8174</td><td>2.46588</td><td>8.29171</td><td>15.0494</td><td>10.4505</td><td>55.9959</td><td>0.0297784</td><td>37.8504</td><td>20.8833</td><td>3.69587</td><td>missing</td><td>10.9679</td><td>9.08217</td><td>20.0667</td><td>17.9029</td><td>24.6803</td></tr><tr><th>5</th><td>1976</td><td>18.8085</td><td>38.6153</td><td>34.1791</td><td>26.7315</td><td>missing</td><td>0.454059</td><td>24.7507</td><td>26.0977</td><td>25.7583</td><td>44.6357</td><td>2.78704</td><td>7.65869</td><td>17.7562</td><td>12.1868</td><td>61.2449</td><td>0.0344908</td><td>41.1928</td><td>22.7966</td><td>4.47725</td><td>missing</td><td>12.649</td><td>10.6829</td><td>22.1234</td><td>20.8675</td><td>26.0981</td></tr><tr><th>6</th><td>1977</td><td>21.1238</td><td>40.737</td><td>36.6045</td><td>28.8638</td><td>missing</td><td>0.607543</td><td>27.454</td><td>29.1755</td><td>28.2039</td><td>46.3024</td><td>3.1318</td><td>8.29602</td><td>20.1483</td><td>14.2744</td><td>66.2436</td><td>0.0445152</td><td>43.8289</td><td>24.8719</td><td>5.86595</td><td>missing</td><td>13.9261</td><td>13.3043</td><td>24.6547</td><td>24.173</td><td>27.7949</td></tr><tr><th>7</th><td>1978</td><td>22.8148</td><td>42.1931</td><td>38.2409</td><td>31.4539</td><td>missing</td><td>0.715462</td><td>30.2581</td><td>31.4509</td><td>30.813</td><td>47.5613</td><td>3.52554</td><td>8.50487</td><td>21.702</td><td>16.0008</td><td>69.0322</td><td>0.0522864</td><td>45.6311</td><td>26.9019</td><td>7.10007</td><td>missing</td><td>15.9399</td><td>15.935</td><td>27.119</td><td>26.1704</td><td>29.9159</td></tr><tr><th>8</th><td>1979</td><td>24.8959</td><td>43.7574</td><td>39.9499</td><td>34.3303</td><td>missing</td><td>0.888132</td><td>33.1662</td><td>33.7994</td><td>34.0935</td><td>49.4845</td><td>4.19871</td><td>9.03669</td><td>24.5874</td><td>18.3687</td><td>71.5877</td><td>0.0617979</td><td>47.5473</td><td>28.1151</td><td>8.65493</td><td>missing</td><td>18.8606</td><td>18.4305</td><td>29.0742</td><td>29.6828</td><td>33.2828</td></tr><tr><th>9</th><td>1980</td><td>27.4194</td><td>46.5265</td><td>42.6061</td><td>37.8077</td><td>missing</td><td>1.12395</td><td>37.2474</td><td>37.7183</td><td>38.7175</td><td>52.1769</td><td>5.23478</td><td>10.0637</td><td>29.0511</td><td>22.2379</td><td>77.1562</td><td>0.0780827</td><td>50.6443</td><td>31.1736</td><td>10.0282</td><td>missing</td><td>24.2731</td><td>21.2986</td><td>33.0592</td><td>35.0156</td><td>37.7924</td></tr><tr><th>10</th><td>1981</td><td>30.0208</td><td>49.6917</td><td>45.8559</td><td>42.5229</td><td>missing</td><td>1.43252</td><td>41.6304</td><td>41.9826</td><td>43.8725</td><td>55.4872</td><td>6.51762</td><td>11.3836</td><td>34.9698</td><td>26.2338</td><td>80.9462</td><td>0.0998941</td><td>54.0571</td><td>35.4267</td><td>11.9377</td><td>missing</td><td>29.4559</td><td>24.3974</td><td>37.0607</td><td>39.1743</td><td>41.6981</td></tr><tr><th>11</th><td>1982</td><td>33.4287</td><td>52.393</td><td>49.8575</td><td>47.1022</td><td>missing</td><td>1.78666</td><td>45.8438</td><td>46.0066</td><td>49.1278</td><td>58.3953</td><td>7.88574</td><td>12.2815</td><td>40.9661</td><td>30.5573</td><td>83.165</td><td>0.158745</td><td>57.2525</td><td>39.4444</td><td>14.5257</td><td>missing</td><td>31.574</td><td>27.9143</td><td>40.2439</td><td>42.5429</td><td>44.2548</td></tr><tr><th>12</th><td>1983</td><td>36.7846</td><td>54.1425</td><td>53.6774</td><td>49.8641</td><td>missing</td><td>2.13679</td><td>49.0108</td><td>49.8557</td><td>53.775</td><td>60.3185</td><td>9.47704</td><td>13.7391</td><td>45.2461</td><td>35.0329</td><td>84.7449</td><td>0.320467</td><td>58.8217</td><td>42.7835</td><td>18.0122</td><td>missing</td><td>32.654</td><td>31.3126</td><td>43.8147</td><td>44.5038</td><td>45.6764</td></tr><tr><th>13</th><td>1984</td><td>38.2414</td><td>57.2086</td><td>57.0815</td><td>52.0106</td><td>missing</td><td>2.48213</td><td>52.0939</td><td>53.3793</td><td>57.9016</td><td>61.7696</td><td>11.2262</td><td>14.8824</td><td>49.1604</td><td>38.8145</td><td>86.6615</td><td>0.530208</td><td>60.7638</td><td>45.4439</td><td>23.1249</td><td>missing</td><td>33.3965</td><td>34.8447</td><td>47.3393</td><td>46.7115</td><td>47.6408</td></tr><tr><th>14</th><td>1985</td><td>40.8169</td><td>59.0333</td><td>59.8606</td><td>54.0713</td><td>missing</td><td>3.08008</td><td>54.5313</td><td>56.1527</td><td>61.2779</td><td>63.0459</td><td>13.3945</td><td>15.7092</td><td>51.8129</td><td>42.3878</td><td>88.4227</td><td>0.836396</td><td>62.1362</td><td>48.0409</td><td>27.6254</td><td>missing</td><td>34.2178</td><td>37.9161</td><td>50.8294</td><td>49.5475</td><td>49.3299</td></tr><tr><th>15</th><td>1986</td><td>44.5109</td><td>60.0401</td><td>60.6354</td><td>56.3394</td><td>26.0483</td><td>3.66045</td><td>56.537</td><td>57.8</td><td>62.8335</td><td>62.9643</td><td>16.4773</td><td>17.0808</td><td>53.7958</td><td>44.8562</td><td>88.9493</td><td>1.55765</td><td>62.188</td><td>51.4886</td><td>31.032</td><td>missing</td><td>35.1588</td><td>41.2508</td><td>52.9825</td><td>51.2458</td><td>50.2663</td></tr><tr><th>16</th><td>1987</td><td>48.3091</td><td>60.8818</td><td>61.5773</td><td>58.7936</td><td>27.9326</td><td>4.51341</td><td>58.8098</td><td>60.1773</td><td>64.9</td><td>63.1217</td><td>19.1791</td><td>18.5837</td><td>55.4954</td><td>46.9857</td><td>89.0616</td><td>3.61105</td><td>61.7581</td><td>55.9768</td><td>34.0218</td><td>missing</td><td>36.231</td><td>43.4157</td><td>55.2017</td><td>53.372</td><td>52.1083</td></tr><tr><th>17</th><td>1988</td><td>51.795</td><td>62.0482</td><td>62.2922</td><td>61.162</td><td>33.1872</td><td>5.78205</td><td>61.4769</td><td>63.2379</td><td>66.6528</td><td>63.9259</td><td>21.7738</td><td>20.3277</td><td>56.68</td><td>49.3623</td><td>89.6659</td><td>7.73351</td><td>62.2139</td><td>59.7141</td><td>37.4586</td><td>missing</td><td>38.8201</td><td>45.5158</td><td>58.4172</td><td>55.4603</td><td>54.2331</td></tr><tr><th>18</th><td>1989</td><td>55.6972</td><td>63.6418</td><td>64.2277</td><td>64.2101</td><td>39.2425</td><td>7.27773</td><td>64.411</td><td>67.4071</td><td>68.9846</td><td>65.7034</td><td>24.7471</td><td>20.9909</td><td>58.9977</td><td>52.4523</td><td>91.7034</td><td>9.28082</td><td>62.8871</td><td>62.4287</td><td>42.2107</td><td>missing</td><td>41.0329</td><td>48.607</td><td>62.1811</td><td>58.3302</td><td>56.851</td></tr><tr><th>19</th><td>1990</td><td>59.7815</td><td>65.7177</td><td>66.4424</td><td>67.2796</td><td>40.4403</td><td>9.39933</td><td>66.1125</td><td>71.5523</td><td>71.1881</td><td>67.4751</td><td>29.8038</td><td>22.8741</td><td>60.9548</td><td>55.839</td><td>94.5265</td><td>11.7543</td><td>64.4304</td><td>65.0077</td><td>47.9643</td><td>missing</td><td>44.5509</td><td>51.8743</td><td>68.6272</td><td>62.4301</td><td>59.9198</td></tr><tr><th>20</th><td>1991</td><td>61.6805</td><td>67.911</td><td>68.5788</td><td>71.0647</td><td>41.8786</td><td>12.2556</td><td>67.696</td><td>74.6364</td><td>73.4757</td><td>70.2059</td><td>35.6024</td><td>26.0468</td><td>62.9119</td><td>59.3289</td><td>97.5999</td><td>14.4181</td><td>66.4653</td><td>67.2428</td><td>53.6478</td><td>missing</td><td>48.709</td><td>54.9526</td><td>75.1088</td><td>67.117</td><td>62.4573</td></tr><tr><th>21</th><td>1992</td><td>62.3049</td><td>70.6416</td><td>70.2438</td><td>72.1236</td><td>44.5396</td><td>15.5659</td><td>69.115</td><td>76.8153</td><td>75.2125</td><td>73.7561</td><td>41.255</td><td>29.1171</td><td>64.8433</td><td>62.4559</td><td>99.318</td><td>16.6541</td><td>68.5813</td><td>68.8083</td><td>58.7761</td><td>missing</td><td>51.7351</td><td>58.2083</td><td>76.8921</td><td>69.987</td><td>64.3491</td></tr><tr><th>22</th><td>1993</td><td>63.3975</td><td>73.2071</td><td>72.1787</td><td>73.4688</td><td>51.0468</td><td>19.0593</td><td>69.9843</td><td>78.498</td><td>76.7953</td><td>77.0564</td><td>47.2004</td><td>30.9695</td><td>65.7962</td><td>65.3456</td><td>100.553</td><td>18.2781</td><td>70.3535</td><td>70.3828</td><td>62.7633</td><td>missing</td><td>54.219</td><td>60.8678</td><td>80.5277</td><td>71.748</td><td>66.2484</td></tr><tr><th>23</th><td>1994</td><td>64.6462</td><td>75.3692</td><td>73.8947</td><td>73.5904</td><td>63.4292</td><td>23.4136</td><td>71.3784</td><td>79.3525</td><td>78.0667</td><td>79.1316</td><td>52.333</td><td>34.132</td><td>67.3155</td><td>67.9933</td><td>101.252</td><td>19.5513</td><td>72.3245</td><td>71.351</td><td>66.1654</td><td>missing</td><td>57.6163</td><td>63.7398</td><td>82.2656</td><td>73.1457</td><td>67.9758</td></tr><tr><th>24</th><td>1995</td><td>67.6379</td><td>77.06</td><td>74.9795</td><td>75.1717</td><td>74.0798</td><td>28.3051</td><td>72.8657</td><td>79.9804</td><td>79.4691</td><td>80.4817</td><td>57.0087</td><td>37.6219</td><td>69.0152</td><td>71.553</td><td>101.122</td><td>26.3941</td><td>73.7155</td><td>73.1065</td><td>68.9594</td><td>missing</td><td>60.1979</td><td>66.7189</td><td>84.2853</td><td>75.1025</td><td>69.8828</td></tr><tr><th>25</th><td>1996</td><td>69.4069</td><td>78.4941</td><td>76.5368</td><td>76.3523</td><td>80.2382</td><td>34.1919</td><td>74.415</td><td>80.4836</td><td>81.0449</td><td>81.6485</td><td>61.6803</td><td>40.9993</td><td>70.2255</td><td>74.4201</td><td>101.26</td><td>35.468</td><td>75.2736</td><td>74.0295</td><td>71.0758</td><td>missing</td><td>63.1625</td><td>69.0933</td><td>84.7347</td><td>76.9474</td><td>71.9312</td></tr><tr><th>26</th><td>1997</td><td>69.563</td><td>79.5192</td><td>77.783</td><td>77.5902</td><td>82.474</td><td>40.5071</td><td>76.0389</td><td>81.4434</td><td>82.0206</td><td>83.2319</td><td>65.0949</td><td>43.9366</td><td>71.2969</td><td>75.9406</td><td>103.03</td><td>42.7835</td><td>76.8613</td><td>75.9298</td><td>72.7367</td><td>missing</td><td>65.9663</td><td>70.4552</td><td>85.2926</td><td>78.3451</td><td>73.6128</td></tr><tr><th>27</th><td>1998</td><td>70.1613</td><td>80.2528</td><td>78.5213</td><td>78.3629</td><td>81.8363</td><td>48.0726</td><td>77.4423</td><td>82.5832</td><td>82.5547</td><td>83.9903</td><td>68.1975</td><td>49.7498</td><td>73.019</td><td>77.4253</td><td>103.712</td><td>49.5982</td><td>78.3672</td><td>77.64</td><td>74.6081</td><td>missing</td><td>70.9226</td><td>71.7476</td><td>85.0648</td><td>79.5658</td><td>74.7554</td></tr><tr><th>28</th><td>1999</td><td>71.2019</td><td>80.7094</td><td>79.4014</td><td>79.7224</td><td>80.6894</td><td>53.2999</td><td>79.3766</td><td>83.543</td><td>82.9981</td><td>84.482</td><td>69.9956</td><td>52.073</td><td>74.2107</td><td>78.7133</td><td>103.358</td><td>57.8244</td><td>80.0577</td><td>79.477</td><td>76.354</td><td>missing</td><td>71.4992</td><td>73.4052</td><td>85.4579</td><td>80.6373</td><td>76.3911</td></tr><tr><th>29</th><td>2000</td><td>74.3757</td><td>82.6019</td><td>81.4218</td><td>81.8904</td><td>80.97</td><td>58.217</td><td>81.6812</td><td>86.0845</td><td>84.3891</td><td>85.6988</td><td>72.2013</td><td>54.1609</td><td>78.3596</td><td>80.7108</td><td>102.659</td><td>63.3128</td><td>81.9475</td><td>81.9292</td><td>78.5324</td><td>missing</td><td>73.1145</td><td>75.9256</td><td>86.2263</td><td>81.2803</td><td>78.9707</td></tr><tr><th>30</th><td>2001</td><td>77.6535</td><td>84.7909</td><td>83.4323</td><td>83.9582</td><td>81.5523</td><td>62.8543</td><td>83.5908</td><td>88.3041</td><td>85.7687</td><td>87.3989</td><td>74.6373</td><td>56.1566</td><td>82.178</td><td>82.9587</td><td>101.899</td><td>67.3444</td><td>85.3531</td><td>84.3906</td><td>81.9642</td><td>missing</td><td>76.0876</td><td>78.6512</td><td>88.3009</td><td>82.2866</td><td>81.2026</td></tr><tr><th>&vellip;</th><td>&vellip;</td><td>&vellip;</td><td>&vellip;</td><td>&vellip;</td><td>&vellip;</td><td>&vellip;</td><td>&vellip;</td><td>&vellip;</td><td>&vellip;</td><td>&vellip;</td><td>&vellip;</td><td>&vellip;</td><td>&vellip;</td><td>&vellip;</td><td>&vellip;</td><td>&vellip;</td><td>&vellip;</td><td>&vellip;</td><td>&vellip;</td><td>&vellip;</td><td>&vellip;</td><td>&vellip;</td><td>&vellip;</td><td>&vellip;</td><td>&vellip;</td><td>&vellip;</td></tr></tbody></table>"
      ],
      "text/plain": [
       "36×26 DataFrames.DataFrame. Omitted printing of 21 columns\n",
       "│ Row │ Time │ Australia [AUS] │ Austria [AUT] │ Belgium [BEL] │ Canada [CAN] │\n",
       "├─────┼──────┼─────────────────┼───────────────┼───────────────┼──────────────┤\n",
       "│ 1   │ 1972 │ 11.4464         │ 28.1734       │ 23.0586       │ 18.8251      │\n",
       "│ 2   │ 1973 │ 12.487          │ 30.2951       │ 24.6624       │ 20.2347      │\n",
       "│ 3   │ 1974 │ 14.4121         │ 33.1798       │ 27.7891       │ 22.4599      │\n",
       "│ 4   │ 1975 │ 16.5973         │ 35.9819       │ 31.3373       │ 24.8569      │\n",
       "│ 5   │ 1976 │ 18.8085         │ 38.6153       │ 34.1791       │ 26.7315      │\n",
       "│ 6   │ 1977 │ 21.1238         │ 40.737        │ 36.6045       │ 28.8638      │\n",
       "│ 7   │ 1978 │ 22.8148         │ 42.1931       │ 38.2409       │ 31.4539      │\n",
       "│ 8   │ 1979 │ 24.8959         │ 43.7574       │ 39.9499       │ 34.3303      │\n",
       "│ 9   │ 1980 │ 27.4194         │ 46.5265       │ 42.6061       │ 37.8077      │\n",
       "│ 10  │ 1981 │ 30.0208         │ 49.6917       │ 45.8559       │ 42.5229      │\n",
       "│ 11  │ 1982 │ 33.4287         │ 52.393        │ 49.8575       │ 47.1022      │\n",
       "⋮\n",
       "│ 25  │ 1996 │ 69.4069         │ 78.4941       │ 76.5368       │ 76.3523      │\n",
       "│ 26  │ 1997 │ 69.563          │ 79.5192       │ 77.783        │ 77.5902      │\n",
       "│ 27  │ 1998 │ 70.1613         │ 80.2528       │ 78.5213       │ 78.3629      │\n",
       "│ 28  │ 1999 │ 71.2019         │ 80.7094       │ 79.4014       │ 79.7224      │\n",
       "│ 29  │ 2000 │ 74.3757         │ 82.6019       │ 81.4218       │ 81.8904      │\n",
       "│ 30  │ 2001 │ 77.6535         │ 84.7909       │ 83.4323       │ 83.9582      │\n",
       "│ 31  │ 2002 │ 79.9688         │ 86.3259       │ 84.805        │ 85.8543      │\n",
       "│ 32  │ 2003 │ 82.154          │ 87.4961       │ 86.1525       │ 88.2227      │\n",
       "│ 33  │ 2004 │ 84.0791         │ 89.2995       │ 87.9593       │ 89.8612      │\n",
       "│ 34  │ 2005 │ 86.3424         │ 91.3527       │ 90.4059       │ 91.8503      │\n",
       "│ 35  │ 2006 │ 89.4121         │ 92.6696       │ 92.0252       │ 93.6892      │\n",
       "│ 36  │ 2007 │ 91.4932         │ 94.6791       │ 93.7029       │ 95.6926      │"
      ]
     },
     "execution_count": 3,
     "metadata": {},
     "output_type": "execute_result"
    }
   ],
   "source": [
    "cpi = CSV.read(\"../data/cpi.csv\")"
   ]
  },
  {
   "cell_type": "code",
   "execution_count": 4,
   "metadata": {},
   "outputs": [
    {
     "data": {
      "text/html": [
       "<table class=\"data-frame\"><thead><tr><th></th><th>Time</th><th>Australia [AUS]</th><th>Austria [AUT]</th><th>Belgium [BEL]</th><th>Canada [CAN]</th><th>China [CHN]</th><th>Colombia [COL]</th><th>Denmark [DNK]</th><th>Finland [FIN]</th><th>France [FRA]</th><th>Germany [DEU]</th><th>Greece [GRC]</th><th>India [IND]</th><th>Ireland [IRL]</th><th>Italy [ITA]</th><th>Japan [JPN]</th><th>Mexico [MEX]</th><th>Netherlands [NLD]</th><th>Norway [NOR]</th><th>Portugal [PRT]</th><th>ROW</th><th>Korea, Rep. [KOR]</th><th>Spain [ESP]</th><th>Sweden [SWE]</th><th>United Kingdom [GBR]</th><th>United States [USA]</th></tr></thead><tbody><tr><th>1</th><td>2007</td><td>91.4932</td><td>94.6791</td><td>93.7029</td><td>95.6926</td><td>92.1719</td><td>87.6989</td><td>93.2952</td><td>94.9684</td><td>95.7135</td><td>96.0747</td><td>90.5951</td><td>74.3246</td><td>101.54</td><td>94.574</td><td>100.717</td><td>86.734</td><td>95.2123</td><td>92.0822</td><td>96.9385</td><td>missing</td><td>90.3174</td><td>94.6577</td><td>96.0454</td><td>91.4461</td><td>95.087</td></tr></tbody></table>"
      ],
      "text/plain": [
       "1×26 DataFrames.DataFrame. Omitted printing of 21 columns\n",
       "│ Row │ Time │ Australia [AUS] │ Austria [AUT] │ Belgium [BEL] │ Canada [CAN] │\n",
       "├─────┼──────┼─────────────────┼───────────────┼───────────────┼──────────────┤\n",
       "│ 1   │ 2007 │ 91.4932         │ 94.6791       │ 93.7029       │ 95.6926      │"
      ]
     },
     "execution_count": 4,
     "metadata": {},
     "output_type": "execute_result"
    }
   ],
   "source": [
    "cpi[end:end,:]"
   ]
  },
  {
   "cell_type": "code",
   "execution_count": 5,
   "metadata": {},
   "outputs": [
    {
     "data": {
      "text/plain": [
       "1×1×1×36 Array{Float64,4}:\n",
       "[:, :, 1, 1] =\n",
       " 1.0\n",
       "\n",
       "[:, :, 1, 2] =\n",
       " 1.06178\n",
       "\n",
       "[:, :, 1, 3] =\n",
       " 1.17916\n",
       "\n",
       "...\n",
       "\n",
       "[:, :, 1, 34] =\n",
       " 4.67019\n",
       "\n",
       "[:, :, 1, 35] =\n",
       " 4.82084\n",
       "\n",
       "[:, :, 1, 36] =\n",
       " 4.95837"
      ]
     },
     "execution_count": 5,
     "metadata": {},
     "output_type": "execute_result"
    }
   ],
   "source": [
    "# to conform with data structures\n",
    "us_cpi = reshape(cpi[:,end] ./ cpi[1,end], (1,1,1,36))"
   ]
  },
  {
   "cell_type": "code",
   "execution_count": 6,
   "metadata": {},
   "outputs": [
    {
     "data": {
      "text/plain": [
       "1×25×1×36 Array{Float64,4}:\n",
       "[:, :, 1, 1] =\n",
       " 0.824111  0.620073  0.816447  1.0138  …  0.469671  1.04781  0.747101  1.0\n",
       "\n",
       "[:, :, 1, 2] =\n",
       " 1.11992  0.781459  0.978674  1.09128  1.46411  …  1.23006  0.811203  1.06178\n",
       "\n",
       "[:, :, 1, 3] =\n",
       " 1.50229  0.917049  1.12899  1.26654  …  0.704648  1.3586  0.927185  1.17916\n",
       "\n",
       "...\n",
       "\n",
       "[:, :, 1, 34] =\n",
       " 4.59907  4.81764  5.02688  4.45851  …  4.26361  5.6616  5.1814  4.67019\n",
       "\n",
       "[:, :, 1, 35] =\n",
       " 4.68595  4.95986  5.19679  4.86745  …  4.47361  5.84486  5.39862  4.82084\n",
       "\n",
       "[:, :, 1, 36] =\n",
       " 5.3599  5.52093  5.75983  5.23868  …  5.02791  6.49408  5.97413  4.95837"
      ]
     },
     "execution_count": 6,
     "metadata": {},
     "output_type": "execute_result"
    }
   ],
   "source": [
    "dollar_price_index = data[\"pwt\"] .* us_cpi"
   ]
  },
  {
   "cell_type": "code",
   "execution_count": 7,
   "metadata": {},
   "outputs": [
    {
     "data": {
      "text/plain": [
       "1×25×1×36 Array{Float64,4}:\n",
       "[:, :, 1, 1] =\n",
       " 64455.1  32858.7  40728.9  96150.9  …  37030.6  1.99307e5  1.12031e6\n",
       "\n",
       "[:, :, 1, 2] =\n",
       " 67128.2  32424.2  43883.7  1.04472e5  …  38390.3  2.09845e5  1.18077e6\n",
       "\n",
       "[:, :, 1, 3] =\n",
       " 63633.2  33232.6  44721.9  1.10412e5  …  40143.4  2.01172e5  1.15325e6\n",
       "\n",
       "...\n",
       "\n",
       "[:, :, 1, 34] =\n",
       " 1.34195e5  57052.8  73653.4  2.36952e5  …  57251.3  3.9192e5  2.50782e6\n",
       "\n",
       "[:, :, 1, 35] =\n",
       " 1.41819e5  59326.7  75818.1  2.45268e5  …  59829.6  4.03127e5  2.57403e6\n",
       "\n",
       "[:, :, 1, 36] =\n",
       " 1.47524e5  61390.0  78980.8  2.5416e5  …  62356.9  4.19185e5  2.62123e6"
      ]
     },
     "execution_count": 7,
     "metadata": {},
     "output_type": "execute_result"
    }
   ],
   "source": [
    "real_GDP_data = sum(data[\"va\"], 3) ./ dollar_price_index"
   ]
  },
  {
   "cell_type": "code",
   "execution_count": 8,
   "metadata": {},
   "outputs": [
    {
     "name": "stderr",
     "output_type": "stream",
     "text": [
      "WARNING: Method definition warn(Any...) in module Base at util.jl:589 overwritten in module Logging at /Applications/JuliaPro-0.6.4.1.app/Contents/Resources/pkgs-0.6.4.1/v0.6/Logging/src/Logging.jl:115.\n",
      "WARNING: Method definition info(Any...) in module Base at util.jl:534 overwritten in module Logging at /Applications/JuliaPro-0.6.4.1.app/Contents/Resources/pkgs-0.6.4.1/v0.6/Logging/src/Logging.jl:115.\n"
     ]
    },
    {
     "data": {
      "text/plain": [
       "1×25×1×36 Array{Float64,4}:\n",
       "[:, :, 1, 1] =\n",
       " 63855.7  31864.1  38824.1  95853.6  …  37377.2  2.04764e5  1.13267e6\n",
       "\n",
       "[:, :, 1, 2] =\n",
       " 66268.0  31200.5  41837.8  1.04521e5  …  38398.4  2.13385e5  1.20157e6\n",
       "\n",
       "[:, :, 1, 3] =\n",
       " 63178.7  32255.5  41129.6  1.11434e5  …  40167.5  2.07574e5  1.18479e6\n",
       "\n",
       "...\n",
       "\n",
       "[:, :, 1, 34] =\n",
       " 1.58892e5  69357.0  86544.0  268267.0  …  74405.3  4.81181e5  3.17756e6\n",
       "\n",
       "[:, :, 1, 35] =\n",
       " 1.7897e5  77431.3  90752.4  2.99321e5  …  83274.9  5.32559e5  3.46775e6\n",
       "\n",
       "[:, :, 1, 36] =\n",
       " 2.04374e5  88861.0  1.04261e5  3.6746e5  …  94962.5  6.19506e5  3.89584e6"
      ]
     },
     "execution_count": 8,
     "metadata": {},
     "output_type": "execute_result"
    }
   ],
   "source": [
    "include(\"../output.jl\")\n",
    "using ImpvolOutput\n",
    "results = load(\"../experiments/baseline/actual/results.jld2\")[\"results\"]\n",
    "parameters = load(\"../experiments/baseline/common_parameters.jld2\")[\"parameters\"]\n",
    "real_GDP_model = sum(ImpvolOutput.make_series(results, :real_GDP), 3)"
   ]
  },
  {
   "cell_type": "code",
   "execution_count": 9,
   "metadata": {},
   "outputs": [
    {
     "data": {
      "text/plain": [
       "25×2 Array{Float64,2}:\n",
       " 0.0305473  0.0320749\n",
       " 0.0107807  0.0207841\n",
       " 0.0167103  0.0313297\n",
       " 0.0145287  0.0241037\n",
       " 0.0754594  0.0800216\n",
       " 0.0283547  0.034207 \n",
       " 0.0152353  0.0249971\n",
       " 0.0224505  0.02697  \n",
       " 0.0126346  0.0174015\n",
       " 0.0129384  0.0185548\n",
       " 0.0156778  0.0181153\n",
       " 0.0310229  0.0332864\n",
       " 0.0254603  0.0337322\n",
       " 0.0102044  0.0166638\n",
       " 0.0148759  0.0189343\n",
       " 0.0250657  0.032459 \n",
       " 0.01077    0.0211015\n",
       " 0.0244207  0.0313195\n",
       " 0.0327996  0.0392414\n",
       " 0.0392363  0.0420262\n",
       " 0.0325697  0.0299515\n",
       " 0.0130455  0.0177523\n",
       " 0.0150565  0.0202304\n",
       " 0.014959   0.0171067\n",
       " 0.0162804  0.0187463"
      ]
     },
     "execution_count": 9,
     "metadata": {},
     "output_type": "execute_result"
    }
   ],
   "source": [
    "data_volatility = ImpvolOutput.calculate_volatilities(real_GDP_data, parameters, true)[:].^0.5\n",
    "model_volatility = ImpvolOutput.calculate_volatilities(real_GDP_model, parameters, true)[:].^0.5\n",
    "[data_volatility model_volatility]"
   ]
  },
  {
   "cell_type": "code",
   "execution_count": 18,
   "metadata": {
    "scrolled": true
   },
   "outputs": [
    {
     "data": {
      "text/plain": [
       "regression (generic function with 1 method)"
      ]
     },
     "execution_count": 18,
     "metadata": {},
     "output_type": "execute_result"
    }
   ],
   "source": [
    "function regression(x, y)\n",
    "    X = [ones(length(x)) x]\n",
    "    beta = X \\ y\n",
    "    R2 = var(X * beta) / var(y)\n",
    "    return (beta, R2)\n",
    "end"
   ]
  },
  {
   "cell_type": "code",
   "execution_count": 19,
   "metadata": {},
   "outputs": [
    {
     "data": {
      "text/html": [
       "0.9655989762148681"
      ],
      "text/plain": [
       "0.9655989762148681"
      ]
     },
     "execution_count": 19,
     "metadata": {},
     "output_type": "execute_result"
    }
   ],
   "source": [
    "beta, R2 = regression(data_volatility, model_volatility)\n",
    "correlation = R2^.5\n"
   ]
  },
  {
   "cell_type": "code",
   "execution_count": 20,
   "metadata": {},
   "outputs": [],
   "source": [
    "using Plots\n",
    "fm = x->repr(round(x, 3))\n",
    "label = \"y = $(fm(beta[1]))+$(fm(beta[2]))x\\nR2 = $(fm(R2))\"\n",
    "plot(data_volatility, X*beta, label=label, xlabel=\"Data volatility (standard deviation)\", size=(800,500))\n",
    "scatter!(data_volatility, model_volatility, label=\"\", ylabel=\"Model volatility (standard deviation)\")\n",
    "x = 0.002\n",
    "for i=1:length(data_volatility)\n",
    "    annotate!(data_volatility[i], model_volatility[i]+x, text(country_names[i], :black, :center, 10))\n",
    "end\n",
    "savefig(\"../Figure2.pdf\")"
   ]
  },
  {
   "cell_type": "code",
   "execution_count": 21,
   "metadata": {},
   "outputs": [
    {
     "data": {
      "text/html": [
       "0.9021922265297351"
      ],
      "text/plain": [
       "0.9021922265297351"
      ]
     },
     "execution_count": 21,
     "metadata": {},
     "output_type": "execute_result"
    }
   ],
   "source": [
    "# without china\n",
    "beta, R2 = regression([data_volatility[1:4]; data_volatility[6:end]], [model_volatility[1:4]; model_volatility[6:end]])\n",
    "correlation = R2^.5"
   ]
  },
  {
   "cell_type": "code",
   "execution_count": 23,
   "metadata": {},
   "outputs": [
    {
     "data": {
      "text/html": [
       "0.9886188789008895"
      ],
      "text/plain": [
       "0.9886188789008895"
      ]
     },
     "execution_count": 23,
     "metadata": {},
     "output_type": "execute_result"
    }
   ],
   "source": [
    "# correlation of variances\n",
    "beta, R2 = regression(data_volatility.^2, model_volatility.^2)\n",
    "correlation = R2^.5"
   ]
  },
  {
   "cell_type": "code",
   "execution_count": 24,
   "metadata": {},
   "outputs": [
    {
     "data": {
      "text/html": [
       "0.9056866572357395"
      ],
      "text/plain": [
       "0.9056866572357395"
      ]
     },
     "execution_count": 24,
     "metadata": {},
     "output_type": "execute_result"
    }
   ],
   "source": [
    "# correlation of variances\n",
    "# without china\n",
    "beta, R2 = regression([data_volatility[1:4]; data_volatility[6:end]].^2, [model_volatility[1:4]; model_volatility[6:end]].^2)\n",
    "correlation = R2^.5"
   ]
  },
  {
   "cell_type": "code",
   "execution_count": null,
   "metadata": {},
   "outputs": [],
   "source": []
  }
 ],
 "metadata": {
  "kernelspec": {
   "display_name": "Julia 0.6.4",
   "language": "julia",
   "name": "julia-0.6"
  },
  "language_info": {
   "file_extension": ".jl",
   "mimetype": "application/julia",
   "name": "julia",
   "version": "0.6.4"
  }
 },
 "nbformat": 4,
 "nbformat_minor": 2
}
