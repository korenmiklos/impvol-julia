{
 "cells": [
  {
   "cell_type": "code",
   "execution_count": 1,
   "metadata": {},
   "outputs": [
    {
     "name": "stderr",
     "output_type": "stream",
     "text": [
      "WARNING: Method definition warn(Any...) in module Base at util.jl:589 overwritten in module Logging at /Applications/JuliaPro-0.6.4.1.app/Contents/Resources/pkgs-0.6.4.1/v0.6/Logging/src/Logging.jl:115.\n",
      "WARNING: Method definition info(Any...) in module Base at util.jl:534 overwritten in module Logging at /Applications/JuliaPro-0.6.4.1.app/Contents/Resources/pkgs-0.6.4.1/v0.6/Logging/src/Logging.jl:115.\n"
     ]
    },
    {
     "data": {
      "text/plain": [
       "1×25×1×36 Array{Float64,4}:\n",
       "[:, :, 1, 1] =\n",
       " 63833.9  31849.2  38829.1  95835.4  84047.2  …  37373.6  204752.0  1.13267e6\n",
       "\n",
       "[:, :, 1, 2] =\n",
       " 66276.9  31205.5  41873.4  1.04486e5  …  38404.3  2.13369e5  1.20129e6\n",
       "\n",
       "[:, :, 1, 3] =\n",
       " 63192.2  32279.3  41238.0  1.11372e5  …  40113.3  2.07413e5  1.18411e6\n",
       "\n",
       "...\n",
       "\n",
       "[:, :, 1, 34] =\n",
       " 1.68904e5  74876.7  92891.8  2.7833e5  …  83422.9  511608.0  3.47262e6\n",
       "\n",
       "[:, :, 1, 35] =\n",
       " 1.8557e5  81132.4  93230.6  3.06143e5  …  89085.8  5.5663e5  3.65406e6\n",
       "\n",
       "[:, :, 1, 36] =\n",
       " 2.05685e5  89386.5  1.04464e5  3.69934e5  …  95611.0  624110.0  3.92774e6"
      ]
     },
     "execution_count": 1,
     "metadata": {},
     "output_type": "execute_result"
    }
   ],
   "source": [
    "include(\"../output.jl\")\n",
    "using ImpvolOutput, FileIO\n",
    "results = load(\"../experiments/baseline/actual/results.jld2\")[\"results\"]\n",
    "parameters = load(\"../experiments/baseline/common_parameters.jld2\")[\"parameters\"]\n",
    "real_GDP_model = sum(ImpvolOutput.make_series(results, :real_GDP), 3)"
   ]
  },
  {
   "cell_type": "code",
   "execution_count": null,
   "metadata": {},
   "outputs": [],
   "source": []
  },
  {
   "cell_type": "code",
   "execution_count": 2,
   "metadata": {},
   "outputs": [
    {
     "data": {
      "text/plain": [
       "4-element Array{String,1}:\n",
       " \"actual\"              \n",
       " \"kappa1972\"           \n",
       " \"nosectoral\"          \n",
       " \"nosectoral_kappa1972\""
      ]
     },
     "execution_count": 2,
     "metadata": {},
     "output_type": "execute_result"
    }
   ],
   "source": [
    "rows = [(\"1970s\", 1:8), (\"1980s\", 9:18), (\"1990s\", 19:28), (\"2000s\", 28:36)]\n",
    "columns = [\"actual\", \"kappa1972\", \"nosectoral\", \"nosectoral_kappa1972\"]"
   ]
  },
  {
   "cell_type": "code",
   "execution_count": 3,
   "metadata": {},
   "outputs": [
    {
     "data": {
      "text/plain": [
       "get_volatility (generic function with 1 method)"
      ]
     },
     "execution_count": 3,
     "metadata": {},
     "output_type": "execute_result"
    }
   ],
   "source": [
    "function get_volatility(rows, column)\n",
    "    results = load(\"../experiments/baseline/$(column)/results.jld2\")[\"results\"]\n",
    "    real_GDP_model = sum(ImpvolOutput.make_series(results, :real_GDP), 3)\n",
    "    return [mean(ImpvolOutput.calculate_volatilities(real_GDP_model, parameters, true, row[2])) for row in rows]\n",
    "end"
   ]
  },
  {
   "cell_type": "code",
   "execution_count": 4,
   "metadata": {},
   "outputs": [],
   "source": [
    "using DataFrames\n",
    "volatility = DataFrame()\n",
    "volatility[:decades] = [row[1] for row in rows]\n",
    "for column in columns\n",
    "    volatility[Symbol(column)] = get_volatility(rows, column)\n",
    "end\n"
   ]
  },
  {
   "cell_type": "code",
   "execution_count": 5,
   "metadata": {},
   "outputs": [
    {
     "data": {
      "text/html": [
       "<table class=\"data-frame\"><thead><tr><th></th><th>decades</th><th>actual</th><th>kappa1972</th><th>nosectoral</th><th>nosectoral_kappa1972</th></tr></thead><tbody><tr><th>1</th><td>1970s</td><td>0.000847938</td><td>0.000878369</td><td>0.00111567</td><td>0.00125421</td></tr><tr><th>2</th><td>1980s</td><td>0.0010269</td><td>0.0011704</td><td>0.00118609</td><td>0.00160623</td></tr><tr><th>3</th><td>1990s</td><td>0.00106483</td><td>0.0016131</td><td>0.00180111</td><td>0.00286829</td></tr><tr><th>4</th><td>2000s</td><td>0.000741105</td><td>0.00224316</td><td>0.00176957</td><td>0.00321772</td></tr></tbody></table>"
      ],
      "text/plain": [
       "4×5 DataFrames.DataFrame. Omitted printing of 1 columns\n",
       "│ Row │ decades │ actual      │ kappa1972   │ nosectoral │\n",
       "├─────┼─────────┼─────────────┼─────────────┼────────────┤\n",
       "│ 1   │ 1970s   │ 0.000847938 │ 0.000878369 │ 0.00111567 │\n",
       "│ 2   │ 1980s   │ 0.0010269   │ 0.0011704   │ 0.00118609 │\n",
       "│ 3   │ 1990s   │ 0.00106483  │ 0.0016131   │ 0.00180111 │\n",
       "│ 4   │ 2000s   │ 0.000741105 │ 0.00224316  │ 0.00176957 │"
      ]
     },
     "execution_count": 5,
     "metadata": {},
     "output_type": "execute_result"
    }
   ],
   "source": [
    "volatility"
   ]
  },
  {
   "cell_type": "code",
   "execution_count": 6,
   "metadata": {},
   "outputs": [
    {
     "data": {
      "text/plain": [
       "4-element Array{Float64,1}:\n",
       " 12.3083 \n",
       " 23.6371 \n",
       " 32.1689 \n",
       " -2.40302"
      ]
     },
     "execution_count": 6,
     "metadata": {},
     "output_type": "execute_result"
    }
   ],
   "source": [
    "stats = volatility\n",
    "stats[:trade_barriers] = 100 * (stats[:actual] - stats[:kappa1972]) ./ stats[:kappa1972]\n",
    "stats[:diversification] = 100 * (stats[:nosectoral] - stats[:nosectoral_kappa1972]) ./ stats[:kappa1972]\n",
    "stats[:specialization] = 100 * (stats[:actual] - stats[:kappa1972] - stats[:nosectoral] + stats[:nosectoral_kappa1972]) ./ stats[:kappa1972]\n"
   ]
  },
  {
   "cell_type": "code",
   "execution_count": 7,
   "metadata": {},
   "outputs": [],
   "source": [
    "for col in columns\n",
    "    delete!(volatility, Symbol(col))\n",
    "end"
   ]
  },
  {
   "cell_type": "code",
   "execution_count": 8,
   "metadata": {},
   "outputs": [
    {
     "data": {
      "text/plain": [
       "CSV.Sink{Void,DataType}(    CSV.Options:\n",
       "        delim: ','\n",
       "        quotechar: '\"'\n",
       "        escapechar: '\\\\'\n",
       "        missingstring: \"\"\n",
       "        dateformat: nothing\n",
       "        decimal: '.'\n",
       "        truestring: 'true'\n",
       "        falsestring: 'false'\n",
       "        internstrings: true, IOBuffer(data=UInt8[...], readable=true, writable=true, seekable=true, append=false, size=0, maxsize=Inf, ptr=1, mark=-1), \"../volatility_by_decade.csv\", 54, true, String[\"decades\", \"trade_barriers\", \"diversification\", \"specialization\"], 4, false, Val{false})"
      ]
     },
     "execution_count": 8,
     "metadata": {},
     "output_type": "execute_result"
    }
   ],
   "source": [
    "using CSV\n",
    "CSV.write(\"../volatility_by_decade.csv\", volatility)"
   ]
  },
  {
   "cell_type": "code",
   "execution_count": null,
   "metadata": {},
   "outputs": [],
   "source": []
  }
 ],
 "metadata": {
  "kernelspec": {
   "display_name": "Julia 0.6.4",
   "language": "julia",
   "name": "julia-0.6"
  },
  "language_info": {
   "file_extension": ".jl",
   "mimetype": "application/julia",
   "name": "julia",
   "version": "0.6.4"
  }
 },
 "nbformat": 4,
 "nbformat_minor": 2
}
