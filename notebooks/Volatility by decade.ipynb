{
 "cells": [
  {
   "cell_type": "code",
   "execution_count": 3,
   "metadata": {},
   "outputs": [
    {
     "name": "stderr",
     "output_type": "stream",
     "text": [
      "WARNING: Method definition warn(Any...) in module Base at util.jl:589 overwritten in module Logging at /Applications/JuliaPro-0.6.4.1.app/Contents/Resources/pkgs-0.6.4.1/v0.6/Logging/src/Logging.jl:115.\n",
      "WARNING: Method definition info(Any...) in module Base at util.jl:534 overwritten in module Logging at /Applications/JuliaPro-0.6.4.1.app/Contents/Resources/pkgs-0.6.4.1/v0.6/Logging/src/Logging.jl:115.\n"
     ]
    },
    {
     "data": {
      "text/plain": [
       "1×25×1×36 Array{Float64,4}:\n",
       "[:, :, 1, 1] =\n",
       " 63833.7  31849.2  38829.4  95835.1  …  37373.7  2.04753e5  1.13268e6\n",
       "\n",
       "[:, :, 1, 2] =\n",
       " 66276.9  31205.6  41874.3  104485.0  …  38404.2  2.13368e5  1.20128e6\n",
       "\n",
       "[:, :, 1, 3] =\n",
       " 63192.2  32279.6  41239.0  1.11371e5  …  40112.9  2.07412e5  1.18411e6\n",
       "\n",
       "...\n",
       "\n",
       "[:, :, 1, 34] =\n",
       " 1.68948e5  74889.0  92913.6  2.78457e5  …  83401.4  511694.0  3.4726e6\n",
       "\n",
       "[:, :, 1, 35] =\n",
       " 1.85617e5  81144.1  93264.7  3.06283e5  …  89070.4  5.56706e5  3.65423e6\n",
       "\n",
       "[:, :, 1, 36] =\n",
       " 2.05683e5  89386.2  1.04464e5  3.69932e5  …  95611.3  6.24112e5  3.92776e6"
      ]
     },
     "execution_count": 3,
     "metadata": {},
     "output_type": "execute_result"
    }
   ],
   "source": [
    "include(\"../output.jl\")\n",
    "using ImpvolOutput, FileIO\n",
    "results = load(\"../experiments/baseline/actual/results.jld2\")[\"results\"]\n",
    "parameters = load(\"../experiments/baseline/common_parameters.jld2\")[\"parameters\"]\n",
    "real_GDP_model = sum(ImpvolOutput.make_series(results, :real_GDP), 3)"
   ]
  },
  {
   "cell_type": "code",
   "execution_count": null,
   "metadata": {},
   "outputs": [],
   "source": []
  },
  {
   "cell_type": "code",
   "execution_count": 4,
   "metadata": {},
   "outputs": [
    {
     "data": {
      "text/plain": [
       "4-element Array{String,1}:\n",
       " \"actual\"              \n",
       " \"kappa1972\"           \n",
       " \"nosectoral\"          \n",
       " \"nosectoral_kappa1972\""
      ]
     },
     "execution_count": 4,
     "metadata": {},
     "output_type": "execute_result"
    }
   ],
   "source": [
    "rows = [(\"1970s\", 1:8), (\"1980s\", 9:18), (\"1990s\", 19:28), (\"2000s\", 28:36)]\n",
    "columns = [\"actual\", \"kappa1972\", \"nosectoral\", \"nosectoral_kappa1972\"]"
   ]
  },
  {
   "cell_type": "code",
   "execution_count": 7,
   "metadata": {},
   "outputs": [
    {
     "data": {
      "text/plain": [
       "get_volatility (generic function with 1 method)"
      ]
     },
     "execution_count": 7,
     "metadata": {},
     "output_type": "execute_result"
    }
   ],
   "source": [
    "function get_volatility(rows, column)\n",
    "    results = load(\"../experiments/baseline/$(column)/results.jld2\")[\"results\"]\n",
    "    real_GDP_model = sum(ImpvolOutput.make_series(results, :real_GDP), 3)\n",
    "    return [mean(ImpvolOutput.calculate_volatilities(real_GDP_model, parameters, true, row[2])) for row in rows]\n",
    "end"
   ]
  },
  {
   "cell_type": "code",
   "execution_count": 8,
   "metadata": {},
   "outputs": [],
   "source": [
    "using DataFrames\n",
    "volatility = DataFrame()\n",
    "volatility[:decades] = [row[1] for row in rows]\n",
    "for column in columns\n",
    "    volatility[Symbol(column)] = get_volatility(rows, column)\n",
    "end\n"
   ]
  },
  {
   "cell_type": "code",
   "execution_count": 9,
   "metadata": {},
   "outputs": [
    {
     "data": {
      "text/html": [
       "<table class=\"data-frame\"><thead><tr><th></th><th>decades</th><th>actual</th><th>kappa1972</th><th>nosectoral</th><th>nosectoral_kappa1972</th></tr></thead><tbody><tr><th>1</th><td>1970s</td><td>0.000847905</td><td>0.000878323</td><td>0.00111611</td><td>0.00125438</td></tr><tr><th>2</th><td>1980s</td><td>0.00102683</td><td>0.0011707</td><td>0.00118557</td><td>0.00160655</td></tr><tr><th>3</th><td>1990s</td><td>0.00106489</td><td>0.00161412</td><td>0.00180077</td><td>0.00286815</td></tr><tr><th>4</th><td>2000s</td><td>0.000739719</td><td>0.00223099</td><td>0.00176015</td><td>0.00321032</td></tr></tbody></table>"
      ],
      "text/plain": [
       "4×5 DataFrames.DataFrame. Omitted printing of 1 columns\n",
       "│ Row │ decades │ actual      │ kappa1972   │ nosectoral │\n",
       "├─────┼─────────┼─────────────┼─────────────┼────────────┤\n",
       "│ 1   │ 1970s   │ 0.000847905 │ 0.000878323 │ 0.00111611 │\n",
       "│ 2   │ 1980s   │ 0.00102683  │ 0.0011707   │ 0.00118557 │\n",
       "│ 3   │ 1990s   │ 0.00106489  │ 0.00161412  │ 0.00180077 │\n",
       "│ 4   │ 2000s   │ 0.000739719 │ 0.00223099  │ 0.00176015 │"
      ]
     },
     "execution_count": 9,
     "metadata": {},
     "output_type": "execute_result"
    }
   ],
   "source": [
    "volatility"
   ]
  },
  {
   "cell_type": "code",
   "execution_count": 10,
   "metadata": {},
   "outputs": [
    {
     "data": {
      "text/plain": [
       "4-element Array{Float64,1}:\n",
       " 12.2795 \n",
       " 23.6716 \n",
       " 32.101  \n",
       " -1.84235"
      ]
     },
     "execution_count": 10,
     "metadata": {},
     "output_type": "execute_result"
    }
   ],
   "source": [
    "stats = volatility\n",
    "stats[:trade_barriers] = 100 * (stats[:actual] - stats[:kappa1972]) ./ stats[:kappa1972]\n",
    "stats[:diversification] = 100 * (stats[:nosectoral] - stats[:nosectoral_kappa1972]) ./ stats[:kappa1972]\n",
    "stats[:specialization] = 100 * (stats[:actual] - stats[:kappa1972] - stats[:nosectoral] + stats[:nosectoral_kappa1972]) ./ stats[:kappa1972]\n"
   ]
  },
  {
   "cell_type": "code",
   "execution_count": 11,
   "metadata": {},
   "outputs": [],
   "source": [
    "for col in columns\n",
    "    delete!(volatility, Symbol(col))\n",
    "end"
   ]
  },
  {
   "cell_type": "code",
   "execution_count": 13,
   "metadata": {},
   "outputs": [
    {
     "data": {
      "text/plain": [
       "CSV.Sink{Void,DataType}(    CSV.Options:\n",
       "        delim: ','\n",
       "        quotechar: '\"'\n",
       "        escapechar: '\\\\'\n",
       "        missingstring: \"\"\n",
       "        dateformat: nothing\n",
       "        decimal: '.'\n",
       "        truestring: 'true'\n",
       "        falsestring: 'false'\n",
       "        internstrings: true, IOBuffer(data=UInt8[...], readable=true, writable=true, seekable=true, append=false, size=0, maxsize=Inf, ptr=1, mark=-1), \"../volatility_by_decade.csv\", 54, true, String[\"decades\", \"trade_barriers\", \"diversification\", \"specialization\"], 4, false, Val{false})"
      ]
     },
     "execution_count": 13,
     "metadata": {},
     "output_type": "execute_result"
    }
   ],
   "source": [
    "using CSV\n",
    "CSV.write(\"../volatility_by_decade.csv\", volatility)"
   ]
  },
  {
   "cell_type": "code",
   "execution_count": null,
   "metadata": {},
   "outputs": [],
   "source": []
  }
 ],
 "metadata": {
  "kernelspec": {
   "display_name": "Julia 0.6.4",
   "language": "julia",
   "name": "julia-0.6"
  },
  "language_info": {
   "file_extension": ".jl",
   "mimetype": "application/julia",
   "name": "julia",
   "version": "0.6.4"
  }
 },
 "nbformat": 4,
 "nbformat_minor": 2
}
