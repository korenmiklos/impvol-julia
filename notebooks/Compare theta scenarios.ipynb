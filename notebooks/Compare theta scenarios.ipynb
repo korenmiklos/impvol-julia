{
 "cells": [
  {
   "cell_type": "code",
   "execution_count": 1,
   "metadata": {},
   "outputs": [],
   "source": [
    "using CSV"
   ]
  },
  {
   "cell_type": "code",
   "execution_count": 2,
   "metadata": {
    "scrolled": true
   },
   "outputs": [
    {
     "data": {
      "text/html": [
       "<table class=\"data-frame\"><thead><tr><th></th><th>country_names</th><th>actual</th><th>kappa1972</th><th>nosectoral</th><th>nosectoral_kappa1972</th><th>trade_barriers</th><th>diversification</th><th>specialization</th></tr></thead><tbody><tr><th>1</th><td>Australia</td><td>0.0010523</td><td>0.00104244</td><td>0.000980576</td><td>0.00098891</td><td>0.945859</td><td>-0.799382</td><td>1.74524</td></tr><tr><th>2</th><td>Austria</td><td>0.000351015</td><td>0.000461205</td><td>0.000353108</td><td>0.000492387</td><td>-23.8918</td><td>-30.1988</td><td>6.30703</td></tr><tr><th>3</th><td>Belgium and Luxembourg</td><td>0.000606329</td><td>0.000932106</td><td>0.000395112</td><td>0.00102668</td><td>-34.9506</td><td>-67.7568</td><td>32.8062</td></tr><tr><th>4</th><td>Canada</td><td>0.000409771</td><td>0.000663078</td><td>0.000437592</td><td>0.000772903</td><td>-38.2016</td><td>-50.5688</td><td>12.3672</td></tr><tr><th>5</th><td>China</td><td>0.00627635</td><td>0.00622424</td><td>0.00688409</td><td>0.00690391</td><td>0.837331</td><td>-0.31845</td><td>1.15578</td></tr><tr><th>6</th><td>Colombia</td><td>0.00107554</td><td>0.00120563</td><td>0.0013284</td><td>0.00146964</td><td>-10.79</td><td>-11.715</td><td>0.925013</td></tr><tr><th>7</th><td>Denmark</td><td>0.000509629</td><td>0.000818334</td><td>0.000172225</td><td>0.00042955</td><td>-37.7236</td><td>-31.4449</td><td>-6.27866</td></tr><tr><th>8</th><td>Finland</td><td>0.000687053</td><td>0.000778953</td><td>0.000571303</td><td>0.000756459</td><td>-11.798</td><td>-23.7699</td><td>11.9719</td></tr><tr><th>9</th><td>France</td><td>0.000301995</td><td>0.000331828</td><td>0.000196277</td><td>0.000194739</td><td>-8.99049</td><td>0.463513</td><td>-9.454</td></tr><tr><th>10</th><td>Germany</td><td>0.000332693</td><td>0.000381386</td><td>0.000134264</td><td>0.000175888</td><td>-12.7674</td><td>-10.9138</td><td>-1.85355</td></tr><tr><th>11</th><td>Greece</td><td>0.000326812</td><td>0.000335023</td><td>0.000322086</td><td>0.000304312</td><td>-2.45065</td><td>5.30521</td><td>-7.75587</td></tr><tr><th>12</th><td>India</td><td>0.00102678</td><td>0.00107481</td><td>0.000918978</td><td>0.000971849</td><td>-4.46864</td><td>-4.91909</td><td>0.450449</td></tr><tr><th>13</th><td>Ireland</td><td>0.000767756</td><td>0.0014057</td><td>0.000900617</td><td>0.00125123</td><td>-45.3825</td><td>-24.9426</td><td>-20.44</td></tr><tr><th>14</th><td>Italy</td><td>0.000267898</td><td>0.000293516</td><td>0.000100641</td><td>0.000101057</td><td>-8.72792</td><td>-0.141662</td><td>-8.58625</td></tr><tr><th>15</th><td>Japan</td><td>0.000343042</td><td>0.000336292</td><td>0.000201621</td><td>0.000200127</td><td>2.00706</td><td>0.444392</td><td>1.56266</td></tr><tr><th>16</th><td>Mexico</td><td>0.000945998</td><td>0.00135045</td><td>0.00200764</td><td>0.00264647</td><td>-29.9495</td><td>-47.3045</td><td>17.355</td></tr><tr><th>17</th><td>Netherlands</td><td>0.000354354</td><td>0.00045359</td><td>0.000252937</td><td>0.000557724</td><td>-21.878</td><td>-67.1943</td><td>45.3163</td></tr><tr><th>18</th><td>Norway</td><td>0.00084659</td><td>0.000962353</td><td>0.000991493</td><td>0.00128655</td><td>-12.0291</td><td>-30.6595</td><td>18.6304</td></tr><tr><th>19</th><td>Portugal</td><td>0.0014119</td><td>0.00131285</td><td>0.00139752</td><td>0.00150036</td><td>7.54482</td><td>-7.83362</td><td>15.3784</td></tr><tr><th>20</th><td>ROW</td><td>0.001787</td><td>0.00179034</td><td>0.00221625</td><td>0.00221276</td><td>-0.186121</td><td>0.195241</td><td>-0.381362</td></tr><tr><th>21</th><td>South Korea</td><td>0.000929932</td><td>0.00094265</td><td>0.00071373</td><td>0.000722608</td><td>-1.34924</td><td>-0.941741</td><td>-0.407497</td></tr><tr><th>22</th><td>Spain</td><td>0.000289485</td><td>0.00043852</td><td>0.000199794</td><td>0.000264869</td><td>-33.9859</td><td>-14.8396</td><td>-19.1463</td></tr><tr><th>23</th><td>Sweden</td><td>0.000375028</td><td>0.000460817</td><td>0.000278615</td><td>0.000345805</td><td>-18.6167</td><td>-14.5807</td><td>-4.03595</td></tr><tr><th>24</th><td>United Kingdom</td><td>0.000275957</td><td>0.000368633</td><td>0.000197959</td><td>0.000257192</td><td>-25.1404</td><td>-16.0682</td><td>-9.07222</td></tr><tr><th>25</th><td>United States</td><td>0.000349852</td><td>0.000348052</td><td>0.000248411</td><td>0.000246069</td><td>0.516998</td><td>0.672778</td><td>-0.15578</td></tr></tbody></table>"
      ],
      "text/plain": [
       "25×8 DataFrames.DataFrame. Omitted printing of 4 columns\n",
       "│ Row │ country_names          │ actual      │ kappa1972   │ nosectoral  │\n",
       "├─────┼────────────────────────┼─────────────┼─────────────┼─────────────┤\n",
       "│ 1   │ Australia              │ 0.0010523   │ 0.00104244  │ 0.000980576 │\n",
       "│ 2   │ Austria                │ 0.000351015 │ 0.000461205 │ 0.000353108 │\n",
       "│ 3   │ Belgium and Luxembourg │ 0.000606329 │ 0.000932106 │ 0.000395112 │\n",
       "│ 4   │ Canada                 │ 0.000409771 │ 0.000663078 │ 0.000437592 │\n",
       "│ 5   │ China                  │ 0.00627635  │ 0.00622424  │ 0.00688409  │\n",
       "│ 6   │ Colombia               │ 0.00107554  │ 0.00120563  │ 0.0013284   │\n",
       "│ 7   │ Denmark                │ 0.000509629 │ 0.000818334 │ 0.000172225 │\n",
       "│ 8   │ Finland                │ 0.000687053 │ 0.000778953 │ 0.000571303 │\n",
       "│ 9   │ France                 │ 0.000301995 │ 0.000331828 │ 0.000196277 │\n",
       "│ 10  │ Germany                │ 0.000332693 │ 0.000381386 │ 0.000134264 │\n",
       "│ 11  │ Greece                 │ 0.000326812 │ 0.000335023 │ 0.000322086 │\n",
       "│ 12  │ India                  │ 0.00102678  │ 0.00107481  │ 0.000918978 │\n",
       "│ 13  │ Ireland                │ 0.000767756 │ 0.0014057   │ 0.000900617 │\n",
       "│ 14  │ Italy                  │ 0.000267898 │ 0.000293516 │ 0.000100641 │\n",
       "│ 15  │ Japan                  │ 0.000343042 │ 0.000336292 │ 0.000201621 │\n",
       "│ 16  │ Mexico                 │ 0.000945998 │ 0.00135045  │ 0.00200764  │\n",
       "│ 17  │ Netherlands            │ 0.000354354 │ 0.00045359  │ 0.000252937 │\n",
       "│ 18  │ Norway                 │ 0.00084659  │ 0.000962353 │ 0.000991493 │\n",
       "│ 19  │ Portugal               │ 0.0014119   │ 0.00131285  │ 0.00139752  │\n",
       "│ 20  │ ROW                    │ 0.001787    │ 0.00179034  │ 0.00221625  │\n",
       "│ 21  │ South Korea            │ 0.000929932 │ 0.00094265  │ 0.00071373  │\n",
       "│ 22  │ Spain                  │ 0.000289485 │ 0.00043852  │ 0.000199794 │\n",
       "│ 23  │ Sweden                 │ 0.000375028 │ 0.000460817 │ 0.000278615 │\n",
       "│ 24  │ United Kingdom         │ 0.000275957 │ 0.000368633 │ 0.000197959 │\n",
       "│ 25  │ United States          │ 0.000349852 │ 0.000348052 │ 0.000248411 │"
      ]
     },
     "execution_count": 2,
     "metadata": {},
     "output_type": "execute_result"
    }
   ],
   "source": [
    "theta2 = CSV.read(\"experiments/theta2/output_table.csv\")\n",
    "theta4 = CSV.read(\"experiments/baseline/output_table.csv\")\n",
    "theta8 = CSV.read(\"experiments/theta8/output_table.csv\")"
   ]
  },
  {
   "cell_type": "code",
   "execution_count": 3,
   "metadata": {},
   "outputs": [
    {
     "data": {
      "text/plain": [
       "25×3 Array{Float64,2}:\n",
       "  -1.95123     1.73391     0.945859\n",
       " -63.31      -39.6878    -23.8918  \n",
       " -70.3405    -50.5198    -34.9506  \n",
       " -73.8901    -60.1251    -38.2016  \n",
       "   1.13832     1.49387     0.837331\n",
       " -37.7665    -21.2795    -10.79    \n",
       " -80.6435    -64.0087    -37.7236  \n",
       " -49.5874    -24.8989    -11.798   \n",
       " -30.0752    -16.0709     -8.99049 \n",
       " -51.7414    -27.7769    -12.7674  \n",
       " -29.8323     -6.89072    -2.45065 \n",
       " -26.1665    -11.183      -4.46864 \n",
       " -72.9078    -60.2465    -45.3825  \n",
       " -29.272     -14.7662     -8.72792 \n",
       "  -5.00258    -0.824138    2.00706 \n",
       " -70.6425    -51.9349    -29.9495  \n",
       " -71.5149    -46.3474    -21.878   \n",
       " -57.6143    -30.5658    -12.0291  \n",
       " -20.4061      3.63451     7.54482 \n",
       "   0.966429    0.623654   -0.186121\n",
       " -26.0645     -8.39992    -1.34924 \n",
       " -74.4418    -54.4939    -33.9859  \n",
       " -53.6234    -34.9073    -18.6167  \n",
       " -64.7587    -43.7592    -25.1404  \n",
       "  -0.435814   -0.456716    0.516998"
      ]
     },
     "execution_count": 3,
     "metadata": {},
     "output_type": "execute_result"
    }
   ],
   "source": [
    "total = [theta2[:trade_barriers] theta4[:trade_barriers] theta8[:trade_barriers]]"
   ]
  },
  {
   "cell_type": "code",
   "execution_count": null,
   "metadata": {
    "scrolled": true
   },
   "outputs": [],
   "source": []
  },
  {
   "cell_type": "code",
   "execution_count": 4,
   "metadata": {
    "scrolled": false
   },
   "outputs": [
    {
     "data": {
      "text/plain": [
       "plot_sorted (generic function with 1 method)"
      ]
     },
     "execution_count": 4,
     "metadata": {},
     "output_type": "execute_result"
    }
   ],
   "source": [
    "using Plots\n",
    "function in_between(data1, data2, data3, tolerance=0.0)\n",
    "    # miniscule sign deviations do not count\n",
    "    return (data1 .- data2) .* (data2 .- data3) .> -tolerance\n",
    "end\n",
    "function plot_sorted(data, tolerance)\n",
    "    sorted = sortrows(data, by = x->x[2])\n",
    "    r1 = length(sorted[:,1])\n",
    "    r2 = length(sorted[:,1][in_between(sorted[:,1], sorted[:,2], sorted[:,3])])\n",
    "    plot(sorted, label=[\"theta=2\", \"theta=4\", \"theta=8\"], xlabel=\"Countries\", ylabel=\"Percentage change in volatility\", title=\"$r2/$r1 corrert orders\")\n",
    "end"
   ]
  },
  {
   "cell_type": "code",
   "execution_count": 7,
   "metadata": {},
   "outputs": [
    {
     "data": {
      "image/svg+xml": [
       "<?xml version=\"1.0\" encoding=\"utf-8\"?>\n",
       "<svg xmlns=\"http://www.w3.org/2000/svg\" xmlns:xlink=\"http://www.w3.org/1999/xlink\" width=\"600\" height=\"400\" viewBox=\"0 0 600 400\">\n",
       "<defs>\n",
       "  <clipPath id=\"clip8900\">\n",
       "    <rect x=\"0\" y=\"0\" width=\"600\" height=\"400\"/>\n",
       "  </clipPath>\n",
       "</defs>\n",
       "<polygon clip-path=\"url(#clip8900)\" points=\"\n",
       "0,400 600,400 600,0 0,0 \n",
       "  \" fill=\"#ffffff\" fill-opacity=\"1\"/>\n",
       "<defs>\n",
       "  <clipPath id=\"clip8901\">\n",
       "    <rect x=\"120\" y=\"0\" width=\"421\" height=\"400\"/>\n",
       "  </clipPath>\n",
       "</defs>\n",
       "<polygon clip-path=\"url(#clip8900)\" points=\"\n",
       "59.7788,360.121 580.315,360.121 580.315,31.4961 59.7788,31.4961 \n",
       "  \" fill=\"#ffffff\" fill-opacity=\"1\"/>\n",
       "<defs>\n",
       "  <clipPath id=\"clip8902\">\n",
       "    <rect x=\"59\" y=\"31\" width=\"522\" height=\"330\"/>\n",
       "  </clipPath>\n",
       "</defs>\n",
       "<polyline clip-path=\"url(#clip8902)\" style=\"stroke:#000000; stroke-width:0.5; stroke-opacity:0.1; fill:none\" points=\"\n",
       "  156.356,360.121 156.356,31.4961 \n",
       "  \"/>\n",
       "<polyline clip-path=\"url(#clip8902)\" style=\"stroke:#000000; stroke-width:0.5; stroke-opacity:0.1; fill:none\" points=\"\n",
       "  258.663,360.121 258.663,31.4961 \n",
       "  \"/>\n",
       "<polyline clip-path=\"url(#clip8902)\" style=\"stroke:#000000; stroke-width:0.5; stroke-opacity:0.1; fill:none\" points=\"\n",
       "  360.97,360.121 360.97,31.4961 \n",
       "  \"/>\n",
       "<polyline clip-path=\"url(#clip8902)\" style=\"stroke:#000000; stroke-width:0.5; stroke-opacity:0.1; fill:none\" points=\"\n",
       "  463.276,360.121 463.276,31.4961 \n",
       "  \"/>\n",
       "<polyline clip-path=\"url(#clip8902)\" style=\"stroke:#000000; stroke-width:0.5; stroke-opacity:0.1; fill:none\" points=\"\n",
       "  565.583,360.121 565.583,31.4961 \n",
       "  \"/>\n",
       "<polyline clip-path=\"url(#clip8902)\" style=\"stroke:#000000; stroke-width:0.5; stroke-opacity:0.1; fill:none\" points=\"\n",
       "  59.7788,348.558 580.315,348.558 \n",
       "  \"/>\n",
       "<polyline clip-path=\"url(#clip8902)\" style=\"stroke:#000000; stroke-width:0.5; stroke-opacity:0.1; fill:none\" points=\"\n",
       "  59.7788,278.249 580.315,278.249 \n",
       "  \"/>\n",
       "<polyline clip-path=\"url(#clip8902)\" style=\"stroke:#000000; stroke-width:0.5; stroke-opacity:0.1; fill:none\" points=\"\n",
       "  59.7788,207.939 580.315,207.939 \n",
       "  \"/>\n",
       "<polyline clip-path=\"url(#clip8902)\" style=\"stroke:#000000; stroke-width:0.5; stroke-opacity:0.1; fill:none\" points=\"\n",
       "  59.7788,137.63 580.315,137.63 \n",
       "  \"/>\n",
       "<polyline clip-path=\"url(#clip8902)\" style=\"stroke:#000000; stroke-width:0.5; stroke-opacity:0.1; fill:none\" points=\"\n",
       "  59.7788,67.3204 580.315,67.3204 \n",
       "  \"/>\n",
       "<polyline clip-path=\"url(#clip8900)\" style=\"stroke:#000000; stroke-width:1; stroke-opacity:1; fill:none\" points=\"\n",
       "  59.7788,360.121 580.315,360.121 \n",
       "  \"/>\n",
       "<polyline clip-path=\"url(#clip8900)\" style=\"stroke:#000000; stroke-width:1; stroke-opacity:1; fill:none\" points=\"\n",
       "  59.7788,360.121 59.7788,31.4961 \n",
       "  \"/>\n",
       "<polyline clip-path=\"url(#clip8900)\" style=\"stroke:#000000; stroke-width:1; stroke-opacity:1; fill:none\" points=\"\n",
       "  156.356,360.121 156.356,355.191 \n",
       "  \"/>\n",
       "<polyline clip-path=\"url(#clip8900)\" style=\"stroke:#000000; stroke-width:1; stroke-opacity:1; fill:none\" points=\"\n",
       "  258.663,360.121 258.663,355.191 \n",
       "  \"/>\n",
       "<polyline clip-path=\"url(#clip8900)\" style=\"stroke:#000000; stroke-width:1; stroke-opacity:1; fill:none\" points=\"\n",
       "  360.97,360.121 360.97,355.191 \n",
       "  \"/>\n",
       "<polyline clip-path=\"url(#clip8900)\" style=\"stroke:#000000; stroke-width:1; stroke-opacity:1; fill:none\" points=\"\n",
       "  463.276,360.121 463.276,355.191 \n",
       "  \"/>\n",
       "<polyline clip-path=\"url(#clip8900)\" style=\"stroke:#000000; stroke-width:1; stroke-opacity:1; fill:none\" points=\"\n",
       "  565.583,360.121 565.583,355.191 \n",
       "  \"/>\n",
       "<polyline clip-path=\"url(#clip8900)\" style=\"stroke:#000000; stroke-width:1; stroke-opacity:1; fill:none\" points=\"\n",
       "  59.7788,348.558 67.5868,348.558 \n",
       "  \"/>\n",
       "<polyline clip-path=\"url(#clip8900)\" style=\"stroke:#000000; stroke-width:1; stroke-opacity:1; fill:none\" points=\"\n",
       "  59.7788,278.249 67.5868,278.249 \n",
       "  \"/>\n",
       "<polyline clip-path=\"url(#clip8900)\" style=\"stroke:#000000; stroke-width:1; stroke-opacity:1; fill:none\" points=\"\n",
       "  59.7788,207.939 67.5868,207.939 \n",
       "  \"/>\n",
       "<polyline clip-path=\"url(#clip8900)\" style=\"stroke:#000000; stroke-width:1; stroke-opacity:1; fill:none\" points=\"\n",
       "  59.7788,137.63 67.5868,137.63 \n",
       "  \"/>\n",
       "<polyline clip-path=\"url(#clip8900)\" style=\"stroke:#000000; stroke-width:1; stroke-opacity:1; fill:none\" points=\"\n",
       "  59.7788,67.3204 67.5868,67.3204 \n",
       "  \"/>\n",
       "<g clip-path=\"url(#clip8900)\">\n",
       "<text style=\"fill:#000000; fill-opacity:1; font-family:Arial,Helvetica Neue,Helvetica,sans-serif; font-size:12; text-anchor:middle;\" transform=\"rotate(0, 156.356, 373.921)\" x=\"156.356\" y=\"373.921\">5</text>\n",
       "</g>\n",
       "<g clip-path=\"url(#clip8900)\">\n",
       "<text style=\"fill:#000000; fill-opacity:1; font-family:Arial,Helvetica Neue,Helvetica,sans-serif; font-size:12; text-anchor:middle;\" transform=\"rotate(0, 258.663, 373.921)\" x=\"258.663\" y=\"373.921\">10</text>\n",
       "</g>\n",
       "<g clip-path=\"url(#clip8900)\">\n",
       "<text style=\"fill:#000000; fill-opacity:1; font-family:Arial,Helvetica Neue,Helvetica,sans-serif; font-size:12; text-anchor:middle;\" transform=\"rotate(0, 360.97, 373.921)\" x=\"360.97\" y=\"373.921\">15</text>\n",
       "</g>\n",
       "<g clip-path=\"url(#clip8900)\">\n",
       "<text style=\"fill:#000000; fill-opacity:1; font-family:Arial,Helvetica Neue,Helvetica,sans-serif; font-size:12; text-anchor:middle;\" transform=\"rotate(0, 463.276, 373.921)\" x=\"463.276\" y=\"373.921\">20</text>\n",
       "</g>\n",
       "<g clip-path=\"url(#clip8900)\">\n",
       "<text style=\"fill:#000000; fill-opacity:1; font-family:Arial,Helvetica Neue,Helvetica,sans-serif; font-size:12; text-anchor:middle;\" transform=\"rotate(0, 565.583, 373.921)\" x=\"565.583\" y=\"373.921\">25</text>\n",
       "</g>\n",
       "<g clip-path=\"url(#clip8900)\">\n",
       "<text style=\"fill:#000000; fill-opacity:1; font-family:Arial,Helvetica Neue,Helvetica,sans-serif; font-size:12; text-anchor:end;\" transform=\"rotate(0, 53.7788, 353.058)\" x=\"53.7788\" y=\"353.058\">-80</text>\n",
       "</g>\n",
       "<g clip-path=\"url(#clip8900)\">\n",
       "<text style=\"fill:#000000; fill-opacity:1; font-family:Arial,Helvetica Neue,Helvetica,sans-serif; font-size:12; text-anchor:end;\" transform=\"rotate(0, 53.7788, 282.749)\" x=\"53.7788\" y=\"282.749\">-60</text>\n",
       "</g>\n",
       "<g clip-path=\"url(#clip8900)\">\n",
       "<text style=\"fill:#000000; fill-opacity:1; font-family:Arial,Helvetica Neue,Helvetica,sans-serif; font-size:12; text-anchor:end;\" transform=\"rotate(0, 53.7788, 212.439)\" x=\"53.7788\" y=\"212.439\">-40</text>\n",
       "</g>\n",
       "<g clip-path=\"url(#clip8900)\">\n",
       "<text style=\"fill:#000000; fill-opacity:1; font-family:Arial,Helvetica Neue,Helvetica,sans-serif; font-size:12; text-anchor:end;\" transform=\"rotate(0, 53.7788, 142.13)\" x=\"53.7788\" y=\"142.13\">-20</text>\n",
       "</g>\n",
       "<g clip-path=\"url(#clip8900)\">\n",
       "<text style=\"fill:#000000; fill-opacity:1; font-family:Arial,Helvetica Neue,Helvetica,sans-serif; font-size:12; text-anchor:end;\" transform=\"rotate(0, 53.7788, 71.8204)\" x=\"53.7788\" y=\"71.8204\">0</text>\n",
       "</g>\n",
       "<g clip-path=\"url(#clip8900)\">\n",
       "<text style=\"fill:#000000; fill-opacity:1; font-family:Arial,Helvetica Neue,Helvetica,sans-serif; font-size:21; text-anchor:middle;\" transform=\"rotate(0, 320.047, 18)\" x=\"320.047\" y=\"18\">22/25 corrert orders</text>\n",
       "</g>\n",
       "<g clip-path=\"url(#clip8900)\">\n",
       "<text style=\"fill:#000000; fill-opacity:1; font-family:Arial,Helvetica Neue,Helvetica,sans-serif; font-size:16; text-anchor:middle;\" transform=\"rotate(0, 320.047, 397.6)\" x=\"320.047\" y=\"397.6\">Countries</text>\n",
       "</g>\n",
       "<g clip-path=\"url(#clip8900)\">\n",
       "<text style=\"fill:#000000; fill-opacity:1; font-family:Arial,Helvetica Neue,Helvetica,sans-serif; font-size:16; text-anchor:middle;\" transform=\"rotate(-90, 14.4, 195.808)\" x=\"14.4\" y=\"195.808\">Percentage change in volatility</text>\n",
       "</g>\n",
       "<polyline clip-path=\"url(#clip8902)\" style=\"stroke:#009af9; stroke-width:1; stroke-opacity:1; fill:none\" points=\"\n",
       "  74.5109,350.82 94.9723,323.626 115.434,327.079 135.895,329.018 156.356,315.662 176.818,314.6 197.279,318.729 217.74,294.978 238.202,289.885 258.663,255.832 \n",
       "  279.124,269.862 299.586,249.216 320.047,241.643 340.508,200.088 360.97,173.049 381.431,170.225 401.892,159.308 422.354,158.949 442.815,172.195 463.276,84.9068 \n",
       "  483.737,68.8524 504.199,63.9229 524.66,63.3186 545.121,74.1798 565.583,139.057 \n",
       "  \"/>\n",
       "<polyline clip-path=\"url(#clip8902)\" style=\"stroke:#e26f46; stroke-width:1; stroke-opacity:1; fill:none\" points=\"\n",
       "  74.5109,292.341 94.9723,279.115 115.434,278.688 135.895,258.892 156.356,249.896 176.818,244.921 197.279,230.253 217.74,221.155 238.202,206.841 258.663,190.036 \n",
       "  279.124,174.774 299.586,164.969 320.047,154.852 340.508,142.128 360.97,123.817 381.431,119.231 401.892,106.634 422.354,96.85 442.815,91.5445 463.276,70.2176 \n",
       "  483.737,68.9259 504.199,65.1279 524.66,62.0687 545.121,61.2248 565.583,54.5433 \n",
       "  \"/>\n",
       "<polyline clip-path=\"url(#clip8902)\" style=\"stroke:#3da44d; stroke-width:1; stroke-opacity:1; fill:none\" points=\"\n",
       "  74.5109,199.936 94.9723,226.861 115.434,201.617 135.895,186.797 156.356,172.607 176.818,190.188 197.279,144.232 217.74,155.701 238.202,151.311 258.663,132.767 \n",
       "  279.124,109.608 299.586,112.204 320.047,108.796 340.508,105.252 360.97,98.9261 381.431,98.0031 401.892,83.0297 422.354,72.0636 442.815,75.9356 463.276,60.2646 \n",
       "  483.737,65.5029 504.199,67.9747 524.66,64.3767 545.121,63.9952 565.583,40.7968 \n",
       "  \"/>\n",
       "<polygon clip-path=\"url(#clip8900)\" points=\"\n",
       "461.835,112.856 562.315,112.856 562.315,52.3761 461.835,52.3761 \n",
       "  \" fill=\"#ffffff\" fill-opacity=\"1\"/>\n",
       "<polyline clip-path=\"url(#clip8900)\" style=\"stroke:#000000; stroke-width:1; stroke-opacity:1; fill:none\" points=\"\n",
       "  461.835,112.856 562.315,112.856 562.315,52.3761 461.835,52.3761 461.835,112.856 \n",
       "  \"/>\n",
       "<polyline clip-path=\"url(#clip8900)\" style=\"stroke:#009af9; stroke-width:1; stroke-opacity:1; fill:none\" points=\"\n",
       "  467.835,67.4961 503.835,67.4961 \n",
       "  \"/>\n",
       "<g clip-path=\"url(#clip8900)\">\n",
       "<text style=\"fill:#000000; fill-opacity:1; font-family:Arial,Helvetica Neue,Helvetica,sans-serif; font-size:12; text-anchor:start;\" transform=\"rotate(0, 509.835, 71.9961)\" x=\"509.835\" y=\"71.9961\">theta=2</text>\n",
       "</g>\n",
       "<polyline clip-path=\"url(#clip8900)\" style=\"stroke:#e26f46; stroke-width:1; stroke-opacity:1; fill:none\" points=\"\n",
       "  467.835,82.6161 503.835,82.6161 \n",
       "  \"/>\n",
       "<g clip-path=\"url(#clip8900)\">\n",
       "<text style=\"fill:#000000; fill-opacity:1; font-family:Arial,Helvetica Neue,Helvetica,sans-serif; font-size:12; text-anchor:start;\" transform=\"rotate(0, 509.835, 87.1161)\" x=\"509.835\" y=\"87.1161\">theta=4</text>\n",
       "</g>\n",
       "<polyline clip-path=\"url(#clip8900)\" style=\"stroke:#3da44d; stroke-width:1; stroke-opacity:1; fill:none\" points=\"\n",
       "  467.835,97.7361 503.835,97.7361 \n",
       "  \"/>\n",
       "<g clip-path=\"url(#clip8900)\">\n",
       "<text style=\"fill:#000000; fill-opacity:1; font-family:Arial,Helvetica Neue,Helvetica,sans-serif; font-size:12; text-anchor:start;\" transform=\"rotate(0, 509.835, 102.236)\" x=\"509.835\" y=\"102.236\">theta=8</text>\n",
       "</g>\n",
       "</svg>\n"
      ]
     },
     "execution_count": 7,
     "metadata": {},
     "output_type": "execute_result"
    }
   ],
   "source": [
    "plot_sorted(total, 0.0)"
   ]
  },
  {
   "cell_type": "code",
   "execution_count": null,
   "metadata": {
    "scrolled": true
   },
   "outputs": [],
   "source": []
  },
  {
   "cell_type": "code",
   "execution_count": null,
   "metadata": {
    "scrolled": false
   },
   "outputs": [],
   "source": []
  },
  {
   "cell_type": "code",
   "execution_count": null,
   "metadata": {},
   "outputs": [],
   "source": []
  },
  {
   "cell_type": "code",
   "execution_count": null,
   "metadata": {},
   "outputs": [],
   "source": []
  },
  {
   "cell_type": "code",
   "execution_count": null,
   "metadata": {},
   "outputs": [],
   "source": []
  },
  {
   "cell_type": "code",
   "execution_count": null,
   "metadata": {},
   "outputs": [],
   "source": []
  },
  {
   "cell_type": "code",
   "execution_count": null,
   "metadata": {},
   "outputs": [],
   "source": []
  },
  {
   "cell_type": "code",
   "execution_count": null,
   "metadata": {},
   "outputs": [],
   "source": []
  },
  {
   "cell_type": "code",
   "execution_count": null,
   "metadata": {},
   "outputs": [],
   "source": []
  },
  {
   "cell_type": "code",
   "execution_count": null,
   "metadata": {},
   "outputs": [],
   "source": []
  },
  {
   "cell_type": "code",
   "execution_count": null,
   "metadata": {},
   "outputs": [],
   "source": []
  },
  {
   "cell_type": "code",
   "execution_count": null,
   "metadata": {},
   "outputs": [],
   "source": []
  }
 ],
 "metadata": {
  "kernelspec": {
   "display_name": "Julia 0.6.4",
   "language": "julia",
   "name": "julia-0.6"
  },
  "language_info": {
   "file_extension": ".jl",
   "mimetype": "application/julia",
   "name": "julia",
   "version": "0.6.4"
  }
 },
 "nbformat": 4,
 "nbformat_minor": 2
}
