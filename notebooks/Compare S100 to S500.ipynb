{
 "cells": [
  {
   "cell_type": "code",
   "execution_count": 1,
   "metadata": {},
   "outputs": [],
   "source": [
    "using CSV"
   ]
  },
  {
   "cell_type": "code",
   "execution_count": 3,
   "metadata": {
    "scrolled": true
   },
   "outputs": [
    {
     "data": {
      "text/html": [
       "<table class=\"data-frame\"><thead><tr><th></th><th>country_names</th><th>actual</th><th>kappa1972</th><th>nosectoral</th><th>nosectoral_kappa1972</th><th>trade_barriers</th><th>diversification</th><th>specialization</th></tr></thead><tbody><tr><th>1</th><td>Australia</td><td>0.000902494</td><td>0.000922942</td><td>0.00104724</td><td>0.00105565</td><td>-2.21545</td><td>-0.911333</td><td>-1.30412</td></tr><tr><th>2</th><td>Austria</td><td>0.000537439</td><td>0.000948066</td><td>0.00069023</td><td>0.00180681</td><td>-43.3121</td><td>-117.775</td><td>74.4629</td></tr><tr><th>3</th><td>Belgium and Luxembourg</td><td>0.00102203</td><td>0.00300994</td><td>0.00112211</td><td>0.00435003</td><td>-66.0448</td><td>-107.242</td><td>41.1972</td></tr><tr><th>4</th><td>Canada</td><td>0.000591505</td><td>0.00217721</td><td>0.00107469</td><td>0.00326273</td><td>-72.8319</td><td>-100.497</td><td>27.6652</td></tr><tr><th>5</th><td>China</td><td>0.00623948</td><td>0.00615348</td><td>0.00700551</td><td>0.00697777</td><td>1.39754</td><td>0.450817</td><td>0.946725</td></tr><tr><th>6</th><td>Colombia</td><td>0.00110015</td><td>0.00194263</td><td>0.00250845</td><td>0.00377559</td><td>-43.368</td><td>-65.2281</td><td>21.8601</td></tr><tr><th>7</th><td>Denmark</td><td>0.000441732</td><td>0.00201042</td><td>0.000479266</td><td>0.00128494</td><td>-78.0279</td><td>-40.0751</td><td>-37.9528</td></tr><tr><th>8</th><td>Finland</td><td>0.000618059</td><td>0.000991641</td><td>0.000999961</td><td>0.00166054</td><td>-37.6731</td><td>-66.6146</td><td>28.9415</td></tr><tr><th>9</th><td>France</td><td>0.000195873</td><td>0.00026196</td><td>0.000256853</td><td>0.000189228</td><td>-25.228</td><td>25.8152</td><td>-51.0432</td></tr><tr><th>10</th><td>Germany</td><td>0.000243508</td><td>0.0005202</td><td>0.000427987</td><td>0.000686661</td><td>-53.1895</td><td>-49.7258</td><td>-3.46368</td></tr><tr><th>11</th><td>Greece</td><td>0.0002984</td><td>0.000379124</td><td>0.000440095</td><td>0.000408503</td><td>-21.2922</td><td>8.33281</td><td>-29.625</td></tr><tr><th>12</th><td>India</td><td>0.00101873</td><td>0.0012129</td><td>0.000860536</td><td>0.000935601</td><td>-16.0085</td><td>-6.18892</td><td>-9.81959</td></tr><tr><th>13</th><td>Ireland</td><td>0.00104764</td><td>0.00255732</td><td>0.00204759</td><td>0.00381244</td><td>-59.0339</td><td>-69.0115</td><td>9.97762</td></tr><tr><th>14</th><td>Italy</td><td>0.000190398</td><td>0.000262224</td><td>0.000182366</td><td>0.000126448</td><td>-27.3913</td><td>21.3246</td><td>-48.7159</td></tr><tr><th>15</th><td>Japan</td><td>0.000295569</td><td>0.000304523</td><td>0.000223023</td><td>0.000199116</td><td>-2.9401</td><td>7.85069</td><td>-10.7908</td></tr><tr><th>16</th><td>Mexico</td><td>0.00104927</td><td>0.00242233</td><td>0.00522202</td><td>0.00747192</td><td>-56.6836</td><td>-92.8815</td><td>36.1979</td></tr><tr><th>17</th><td>Netherlands</td><td>0.000336205</td><td>0.00123557</td><td>0.000658293</td><td>0.00231274</td><td>-72.7896</td><td>-133.901</td><td>61.1117</td></tr><tr><th>18</th><td>Norway</td><td>0.000842047</td><td>0.00125881</td><td>0.00208941</td><td>0.00322462</td><td>-33.1076</td><td>-90.1811</td><td>57.0735</td></tr><tr><th>19</th><td>Portugal</td><td>0.00156031</td><td>0.00166082</td><td>0.00171083</td><td>0.00271546</td><td>-6.05215</td><td>-60.4896</td><td>54.4374</td></tr><tr><th>20</th><td>ROW</td><td>0.00164964</td><td>0.00163144</td><td>0.00238765</td><td>0.00241317</td><td>1.11564</td><td>-1.56421</td><td>2.67985</td></tr><tr><th>21</th><td>South Korea</td><td>0.000852733</td><td>0.000862926</td><td>0.000793105</td><td>0.000877232</td><td>-1.18124</td><td>-9.74899</td><td>8.56775</td></tr><tr><th>22</th><td>Spain</td><td>0.000241368</td><td>0.00122918</td><td>0.000251849</td><td>0.000793001</td><td>-80.3635</td><td>-44.0254</td><td>-36.3381</td></tr><tr><th>23</th><td>Sweden</td><td>0.000346156</td><td>0.000592451</td><td>0.000525927</td><td>0.000688241</td><td>-41.5723</td><td>-27.397</td><td>-14.1753</td></tr><tr><th>24</th><td>United Kingdom</td><td>0.000235907</td><td>0.000595324</td><td>0.000184149</td><td>0.000362291</td><td>-60.3733</td><td>-29.9235</td><td>-30.4498</td></tr><tr><th>25</th><td>United States</td><td>0.000261632</td><td>0.000266065</td><td>0.00035776</td><td>0.000336836</td><td>-1.66637</td><td>7.86405</td><td>-9.53042</td></tr></tbody></table>"
      ],
      "text/plain": [
       "25×8 DataFrames.DataFrame. Omitted printing of 4 columns\n",
       "│ Row │ country_names          │ actual      │ kappa1972   │ nosectoral  │\n",
       "├─────┼────────────────────────┼─────────────┼─────────────┼─────────────┤\n",
       "│ 1   │ Australia              │ 0.000902494 │ 0.000922942 │ 0.00104724  │\n",
       "│ 2   │ Austria                │ 0.000537439 │ 0.000948066 │ 0.00069023  │\n",
       "│ 3   │ Belgium and Luxembourg │ 0.00102203  │ 0.00300994  │ 0.00112211  │\n",
       "│ 4   │ Canada                 │ 0.000591505 │ 0.00217721  │ 0.00107469  │\n",
       "│ 5   │ China                  │ 0.00623948  │ 0.00615348  │ 0.00700551  │\n",
       "│ 6   │ Colombia               │ 0.00110015  │ 0.00194263  │ 0.00250845  │\n",
       "│ 7   │ Denmark                │ 0.000441732 │ 0.00201042  │ 0.000479266 │\n",
       "│ 8   │ Finland                │ 0.000618059 │ 0.000991641 │ 0.000999961 │\n",
       "│ 9   │ France                 │ 0.000195873 │ 0.00026196  │ 0.000256853 │\n",
       "│ 10  │ Germany                │ 0.000243508 │ 0.0005202   │ 0.000427987 │\n",
       "│ 11  │ Greece                 │ 0.0002984   │ 0.000379124 │ 0.000440095 │\n",
       "│ 12  │ India                  │ 0.00101873  │ 0.0012129   │ 0.000860536 │\n",
       "│ 13  │ Ireland                │ 0.00104764  │ 0.00255732  │ 0.00204759  │\n",
       "│ 14  │ Italy                  │ 0.000190398 │ 0.000262224 │ 0.000182366 │\n",
       "│ 15  │ Japan                  │ 0.000295569 │ 0.000304523 │ 0.000223023 │\n",
       "│ 16  │ Mexico                 │ 0.00104927  │ 0.00242233  │ 0.00522202  │\n",
       "│ 17  │ Netherlands            │ 0.000336205 │ 0.00123557  │ 0.000658293 │\n",
       "│ 18  │ Norway                 │ 0.000842047 │ 0.00125881  │ 0.00208941  │\n",
       "│ 19  │ Portugal               │ 0.00156031  │ 0.00166082  │ 0.00171083  │\n",
       "│ 20  │ ROW                    │ 0.00164964  │ 0.00163144  │ 0.00238765  │\n",
       "│ 21  │ South Korea            │ 0.000852733 │ 0.000862926 │ 0.000793105 │\n",
       "│ 22  │ Spain                  │ 0.000241368 │ 0.00122918  │ 0.000251849 │\n",
       "│ 23  │ Sweden                 │ 0.000346156 │ 0.000592451 │ 0.000525927 │\n",
       "│ 24  │ United Kingdom         │ 0.000235907 │ 0.000595324 │ 0.000184149 │\n",
       "│ 25  │ United States          │ 0.000261632 │ 0.000266065 │ 0.00035776  │"
      ]
     },
     "execution_count": 3,
     "metadata": {},
     "output_type": "execute_result"
    }
   ],
   "source": [
    "S100 = CSV.read(\"../experiments/baseline/output_table.csv\")"
   ]
  },
  {
   "cell_type": "code",
   "execution_count": 4,
   "metadata": {
    "scrolled": true
   },
   "outputs": [
    {
     "data": {
      "text/html": [
       "<table class=\"data-frame\"><thead><tr><th></th><th>country_names</th><th>actual</th><th>kappa1972</th><th>nosectoral</th><th>nosectoral_kappa1972</th><th>trade_barriers</th><th>diversification</th><th>specialization</th></tr></thead><tbody><tr><th>1</th><td>Australia</td><td>0.000902894</td><td>0.000922601</td><td>0.00104733</td><td>0.00105587</td><td>-2.13599</td><td>-0.925331</td><td>-1.21066</td></tr><tr><th>2</th><td>Austria</td><td>0.00057528</td><td>0.000964054</td><td>0.000690274</td><td>0.00180903</td><td>-40.327</td><td>-116.047</td><td>75.7199</td></tr><tr><th>3</th><td>Belgium and Luxembourg</td><td>0.00100161</td><td>0.00297453</td><td>0.00112253</td><td>0.00435083</td><td>-66.327</td><td>-108.532</td><td>42.2047</td></tr><tr><th>4</th><td>Canada</td><td>0.000597413</td><td>0.00218173</td><td>0.00107431</td><td>0.00326228</td><td>-72.6175</td><td>-100.286</td><td>27.6686</td></tr><tr><th>5</th><td>China</td><td>0.00622993</td><td>0.00615147</td><td>0.00700512</td><td>0.00697714</td><td>1.27539</td><td>0.454809</td><td>0.820582</td></tr><tr><th>6</th><td>Colombia</td><td>0.00109689</td><td>0.00194244</td><td>0.00250866</td><td>0.00377693</td><td>-43.5304</td><td>-65.293</td><td>21.7626</td></tr><tr><th>7</th><td>Denmark</td><td>0.000438683</td><td>0.00199556</td><td>0.000479346</td><td>0.00128478</td><td>-78.0171</td><td>-40.3614</td><td>-37.6557</td></tr><tr><th>8</th><td>Finland</td><td>0.000626139</td><td>0.000990829</td><td>0.000999706</td><td>0.00166037</td><td>-36.8065</td><td>-66.678</td><td>29.8714</td></tr><tr><th>9</th><td>France</td><td>0.000196623</td><td>0.000262209</td><td>0.000256825</td><td>0.000189205</td><td>-25.0129</td><td>25.7887</td><td>-50.8016</td></tr><tr><th>10</th><td>Germany</td><td>0.000241981</td><td>0.000518442</td><td>0.000427885</td><td>0.000686717</td><td>-53.3253</td><td>-49.9251</td><td>-3.40012</td></tr><tr><th>11</th><td>Greece</td><td>0.000296766</td><td>0.000377491</td><td>0.000439982</td><td>0.000408487</td><td>-21.3846</td><td>8.34341</td><td>-29.728</td></tr><tr><th>12</th><td>India</td><td>0.0010147</td><td>0.00121291</td><td>0.000860321</td><td>0.000935468</td><td>-16.3412</td><td>-6.19565</td><td>-10.1455</td></tr><tr><th>13</th><td>Ireland</td><td>0.00100029</td><td>0.00253116</td><td>0.00204785</td><td>0.00381113</td><td>-60.4809</td><td>-69.663</td><td>9.18204</td></tr><tr><th>14</th><td>Italy</td><td>0.00019099</td><td>0.000262416</td><td>0.000182332</td><td>0.000126492</td><td>-27.2188</td><td>21.2792</td><td>-48.498</td></tr><tr><th>15</th><td>Japan</td><td>0.000296705</td><td>0.000304263</td><td>0.000222979</td><td>0.000199</td><td>-2.48398</td><td>7.8811</td><td>-10.3651</td></tr><tr><th>16</th><td>Mexico</td><td>0.0010546</td><td>0.00242088</td><td>0.00522023</td><td>0.00746735</td><td>-56.4372</td><td>-92.8224</td><td>36.3852</td></tr><tr><th>17</th><td>Netherlands</td><td>0.000335715</td><td>0.00123472</td><td>0.000657802</td><td>0.00231191</td><td>-72.8105</td><td>-133.966</td><td>61.1557</td></tr><tr><th>18</th><td>Norway</td><td>0.000831189</td><td>0.00126071</td><td>0.00208966</td><td>0.00322529</td><td>-34.0695</td><td>-90.0793</td><td>56.0098</td></tr><tr><th>19</th><td>Portugal</td><td>0.00157395</td><td>0.00166076</td><td>0.00171086</td><td>0.00271357</td><td>-5.22713</td><td>-60.3767</td><td>55.1495</td></tr><tr><th>20</th><td>ROW</td><td>0.00164835</td><td>0.00163077</td><td>0.00238789</td><td>0.00241354</td><td>1.07808</td><td>-1.57305</td><td>2.65113</td></tr><tr><th>21</th><td>South Korea</td><td>0.000850519</td><td>0.000863353</td><td>0.000793217</td><td>0.000876805</td><td>-1.48655</td><td>-9.68173</td><td>8.19518</td></tr><tr><th>22</th><td>Spain</td><td>0.000242221</td><td>0.00122988</td><td>0.000251831</td><td>0.000793074</td><td>-80.3054</td><td>-44.0077</td><td>-36.2976</td></tr><tr><th>23</th><td>Sweden</td><td>0.000345632</td><td>0.000590851</td><td>0.000525806</td><td>0.000688088</td><td>-41.5027</td><td>-27.4659</td><td>-14.0368</td></tr><tr><th>24</th><td>United Kingdom</td><td>0.000237313</td><td>0.000596828</td><td>0.000184073</td><td>0.000362165</td><td>-60.2377</td><td>-29.8398</td><td>-30.3979</td></tr><tr><th>25</th><td>United States</td><td>0.000262518</td><td>0.000266115</td><td>0.000357696</td><td>0.000336859</td><td>-1.35166</td><td>7.83033</td><td>-9.18199</td></tr></tbody></table>"
      ],
      "text/plain": [
       "25×8 DataFrames.DataFrame. Omitted printing of 4 columns\n",
       "│ Row │ country_names          │ actual      │ kappa1972   │ nosectoral  │\n",
       "├─────┼────────────────────────┼─────────────┼─────────────┼─────────────┤\n",
       "│ 1   │ Australia              │ 0.000902894 │ 0.000922601 │ 0.00104733  │\n",
       "│ 2   │ Austria                │ 0.00057528  │ 0.000964054 │ 0.000690274 │\n",
       "│ 3   │ Belgium and Luxembourg │ 0.00100161  │ 0.00297453  │ 0.00112253  │\n",
       "│ 4   │ Canada                 │ 0.000597413 │ 0.00218173  │ 0.00107431  │\n",
       "│ 5   │ China                  │ 0.00622993  │ 0.00615147  │ 0.00700512  │\n",
       "│ 6   │ Colombia               │ 0.00109689  │ 0.00194244  │ 0.00250866  │\n",
       "│ 7   │ Denmark                │ 0.000438683 │ 0.00199556  │ 0.000479346 │\n",
       "│ 8   │ Finland                │ 0.000626139 │ 0.000990829 │ 0.000999706 │\n",
       "│ 9   │ France                 │ 0.000196623 │ 0.000262209 │ 0.000256825 │\n",
       "│ 10  │ Germany                │ 0.000241981 │ 0.000518442 │ 0.000427885 │\n",
       "│ 11  │ Greece                 │ 0.000296766 │ 0.000377491 │ 0.000439982 │\n",
       "│ 12  │ India                  │ 0.0010147   │ 0.00121291  │ 0.000860321 │\n",
       "│ 13  │ Ireland                │ 0.00100029  │ 0.00253116  │ 0.00204785  │\n",
       "│ 14  │ Italy                  │ 0.00019099  │ 0.000262416 │ 0.000182332 │\n",
       "│ 15  │ Japan                  │ 0.000296705 │ 0.000304263 │ 0.000222979 │\n",
       "│ 16  │ Mexico                 │ 0.0010546   │ 0.00242088  │ 0.00522023  │\n",
       "│ 17  │ Netherlands            │ 0.000335715 │ 0.00123472  │ 0.000657802 │\n",
       "│ 18  │ Norway                 │ 0.000831189 │ 0.00126071  │ 0.00208966  │\n",
       "│ 19  │ Portugal               │ 0.00157395  │ 0.00166076  │ 0.00171086  │\n",
       "│ 20  │ ROW                    │ 0.00164835  │ 0.00163077  │ 0.00238789  │\n",
       "│ 21  │ South Korea            │ 0.000850519 │ 0.000863353 │ 0.000793217 │\n",
       "│ 22  │ Spain                  │ 0.000242221 │ 0.00122988  │ 0.000251831 │\n",
       "│ 23  │ Sweden                 │ 0.000345632 │ 0.000590851 │ 0.000525806 │\n",
       "│ 24  │ United Kingdom         │ 0.000237313 │ 0.000596828 │ 0.000184073 │\n",
       "│ 25  │ United States          │ 0.000262518 │ 0.000266115 │ 0.000357696 │"
      ]
     },
     "execution_count": 4,
     "metadata": {},
     "output_type": "execute_result"
    }
   ],
   "source": [
    "S500 = CSV.read(\"../experiments/S500/output_table.csv\")"
   ]
  },
  {
   "cell_type": "code",
   "execution_count": 5,
   "metadata": {
    "scrolled": true
   },
   "outputs": [
    {
     "data": {
      "text/plain": [
       "25-element Array{Float64,1}:\n",
       " 0.0443313\n",
       " 7.04089  \n",
       " 1.99769  \n",
       " 0.998797 \n",
       " 0.153159 \n",
       " 0.296391 \n",
       " 0.690437 \n",
       " 1.30735  \n",
       " 0.382661 \n",
       " 0.62697  \n",
       " 0.547748 \n",
       " 0.39526  \n",
       " 4.51912  \n",
       " 0.310992 \n",
       " 0.384347 \n",
       " 0.508436 \n",
       " 0.145639 \n",
       " 1.28944  \n",
       " 0.874532 \n",
       " 0.0784442\n",
       " 0.259645 \n",
       " 0.353497 \n",
       " 0.151407 \n",
       " 0.595738 \n",
       " 0.338641 "
      ]
     },
     "execution_count": 5,
     "metadata": {},
     "output_type": "execute_result"
    }
   ],
   "source": [
    "percentage_absolute_difference = 100*abs.(S100[:actual] .- S500[:actual]) ./ S100[:actual]"
   ]
  },
  {
   "cell_type": "code",
   "execution_count": 6,
   "metadata": {},
   "outputs": [
    {
     "data": {
      "text/plain": [
       "0.9716631888457019"
      ]
     },
     "execution_count": 6,
     "metadata": {},
     "output_type": "execute_result"
    }
   ],
   "source": [
    "mean(percentage_absolute_difference)"
   ]
  },
  {
   "cell_type": "code",
   "execution_count": null,
   "metadata": {},
   "outputs": [],
   "source": []
  },
  {
   "cell_type": "code",
   "execution_count": null,
   "metadata": {},
   "outputs": [],
   "source": []
  }
 ],
 "metadata": {
  "kernelspec": {
   "display_name": "Julia 0.6.4",
   "language": "julia",
   "name": "julia-0.6"
  },
  "language_info": {
   "file_extension": ".jl",
   "mimetype": "application/julia",
   "name": "julia",
   "version": "0.6.4"
  }
 },
 "nbformat": 4,
 "nbformat_minor": 2
}
