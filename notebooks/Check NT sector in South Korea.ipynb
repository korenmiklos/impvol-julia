{
 "cells": [
  {
   "cell_type": "code",
   "execution_count": 11,
   "metadata": {},
   "outputs": [],
   "source": [
    "using FileIO, Plots\n",
    "gr()\n",
    "default(fmt = :png)"
   ]
  },
  {
   "cell_type": "code",
   "execution_count": 37,
   "metadata": {},
   "outputs": [
    {
     "data": {
      "text/plain": [
       "Dict{Symbol,Any} with 46 entries:\n",
       "  :S_nt                     => [0.0 0.0 … 0.0 0.0]…\n",
       "  :one_over_rho             => 0.0\n",
       "  :inner_tolerance          => 0.0002\n",
       "  :S_nt_data                => [1184.95 -1239.14 … -406.84 1074.1]…\n",
       "  :eta                      => 4.0\n",
       "  :S                        => 101\n",
       "  :sigma                    => 0.5\n",
       "  :d                        => [0.991383 7.85e-7 … 0.000689 0.0004425; 7.42e-5 …\n",
       "  :world_expenditure_shares => [0.085736]…\n",
       "  :adjustment_tolerance     => 0.0004\n",
       "  :middle_step_size         => 0.449329\n",
       "  :A_njs                    => Array{Float64,4}[[1713.7 629.565 … 1786.93 7165.…\n",
       "  :gamma_jk                 => [0.17112 0.273944 … 0.0195213 0.0108426; 0.04826…\n",
       "  :p_sectoral               => [1.26077 2.37256 … 1.79398 1.0]…\n",
       "  :B_j                      => [5.5087]…\n",
       "  :max_iter_adjustment      => 100\n",
       "  :w_njt                    => [53118.2 20374.8 … 1.48903e5 1.12031e6]…\n",
       "  :global_sectoral_shock    => [7.11431e-15]…\n",
       "  :country_shock_njs        => Array{Float64,4}[[-1.64446e-16 -5.5961e-16 … 6.2…\n",
       "  :idiosyncratic_shock_njs  => Array{Float64,4}[[-1.09691e-17 -1.15405e-16 … -4…\n",
       "  :max_iter_inner           => 200\n",
       "  :N                        => 25\n",
       "  :country_shock            => [-1.64446e-16 -5.5961e-16 … 6.27634e-16 1.34781e…\n",
       "  :outer_tolerance          => 0.001\n",
       "  :max_iter_outer           => 100\n",
       "  ⋮                         => ⋮"
      ]
     },
     "execution_count": 37,
     "metadata": {},
     "output_type": "execute_result"
    }
   ],
   "source": [
    "p = load(\"../experiments/CES05/common_parameters.jld2\")[\"parameters\"]"
   ]
  },
  {
   "cell_type": "code",
   "execution_count": 38,
   "metadata": {},
   "outputs": [
    {
     "data": {
      "image/png": "[encoded data removed]"
     },
     "execution_count": 38,
     "metadata": {},
     "output_type": "execute_result"
    }
   ],
   "source": [
    "plot(p[:nu_njt][1,1,end,:])"
   ]
  },
  {
   "cell_type": "code",
   "execution_count": 39,
   "metadata": {},
   "outputs": [
    {
     "data": {
      "image/png": "[encoded data removed]"
     },
     "execution_count": 39,
     "metadata": {},
     "output_type": "execute_result"
    }
   ],
   "source": [
    "plot(p[:final_expenditure_shares][1,5,end,:])"
   ]
  },
  {
   "cell_type": "code",
   "execution_count": 20,
   "metadata": {},
   "outputs": [
    {
     "data": {
      "text/plain": [
       "Dict{String,Any} with 10 entries:\n",
       "  \"import_shares\"             => [0.0 7.85e-7 … 0.000689 0.0004425; 7.42e-5 0.0…\n",
       "  \"pwt\"                       => [0.824111 0.620073 … 0.747101 1.0]…\n",
       "  \"va\"                        => [3271.5 1407.45 … 4209.16 41311.0]…\n",
       "  \"p_sectoral_data\"           => [33.0109 64.7924 … 16.8926 36.7882]…\n",
       "  \"io_values\"                 => [2.49202e5 2423.0 … 6491.5 0.0; 4183.8 56086.1…\n",
       "  \"total_output\"              => [2.00728e6 8.11942e5 … 1.74308e6 66853.4]…\n",
       "  \"intermediate_input_shares\" => [0.973154 0.0268455 … 0.528231 0.294862]…\n",
       "  \"trade_balance\"             => [1184.95 -1239.14 … -406.84 1074.1]…\n",
       "  \"output_shares\"             => [0.967079 0.032921 … 0.521898 0.318506]…\n",
       "  \"beta\"                      => [0.230777 0.441 … 0.297884 0.370242]…"
      ]
     },
     "execution_count": 20,
     "metadata": {},
     "output_type": "execute_result"
    }
   ],
   "source": [
    "data = load(\"../data/impvol_data.jld2\")"
   ]
  },
  {
   "cell_type": "code",
   "execution_count": 24,
   "metadata": {},
   "outputs": [
    {
     "name": "stderr",
     "output_type": "stream",
     "text": [
      "WARNING: replacing module ImpvolEquilibrium\n"
     ]
    },
    {
     "data": {
      "text/plain": [
       "1×1×24×36 Array{Float64,4}:\n",
       "[:, :, 1, 1] =\n",
       " 3.31712e5\n",
       "\n",
       "[:, :, 2, 1] =\n",
       " 3.84805e5\n",
       "\n",
       "[:, :, 3, 1] =\n",
       " 35524.6\n",
       "\n",
       "...\n",
       "\n",
       "[:, :, 22, 1] =\n",
       " 44140.2\n",
       "\n",
       "[:, :, 23, 1] =\n",
       " 50534.6\n",
       "\n",
       "[:, :, 24, 1] =\n",
       " 1.87611e6\n",
       "\n",
       "[:, :, 1, 2] =\n",
       " 4.4618e5\n",
       "\n",
       "[:, :, 2, 2] =\n",
       " 4.58642e5\n",
       "\n",
       "[:, :, 3, 2] =\n",
       " 40957.5\n",
       "\n",
       "...\n",
       "\n",
       "[:, :, 22, 2] =\n",
       " 51464.4\n",
       "\n",
       "[:, :, 23, 2] =\n",
       " 58856.7\n",
       "\n",
       "[:, :, 24, 2] =\n",
       " 2.25517e6\n",
       "\n",
       "[:, :, 1, 3] =\n",
       " 4.39663e5\n",
       "\n",
       "[:, :, 2, 3] =\n",
       " 5.19213e5\n",
       "\n",
       "[:, :, 3, 3] =\n",
       " 45120.9\n",
       "\n",
       "...\n",
       "\n",
       "[:, :, 22, 3] =\n",
       " 50889.5\n",
       "\n",
       "[:, :, 23, 3] =\n",
       " 59490.6\n",
       "\n",
       "[:, :, 24, 3] =\n",
       " 2.67649e6\n",
       "\n",
       "...\n",
       "\n",
       "[:, :, 1, 34] =\n",
       " -1.92893e5\n",
       "\n",
       "[:, :, 2, 34] =\n",
       " 2.54279e6\n",
       "\n",
       "[:, :, 3, 34] =\n",
       " 2.61668e5\n",
       "\n",
       "...\n",
       "\n",
       "[:, :, 22, 34] =\n",
       " 2.80661e5\n",
       "\n",
       "[:, :, 23, 34] =\n",
       " 3.32358e5\n",
       "\n",
       "[:, :, 24, 34] =\n",
       " 3.26083e7\n",
       "\n",
       "[:, :, 1, 35] =\n",
       " -1.73341e5\n",
       "\n",
       "[:, :, 2, 35] =\n",
       " 2.59806e6\n",
       "\n",
       "[:, :, 3, 35] =\n",
       " 2.68916e5\n",
       "\n",
       "...\n",
       "\n",
       "[:, :, 22, 35] =\n",
       " 3.19157e5\n",
       "\n",
       "[:, :, 23, 35] =\n",
       " 3.47593e5\n",
       "\n",
       "[:, :, 24, 35] =\n",
       " 3.5483e7\n",
       "\n",
       "[:, :, 1, 36] =\n",
       " 33494.4\n",
       "\n",
       "[:, :, 2, 36] =\n",
       " 2.92503e6\n",
       "\n",
       "[:, :, 3, 36] =\n",
       " 3.05031e5\n",
       "\n",
       "...\n",
       "\n",
       "[:, :, 22, 36] =\n",
       " 4.11906e5\n",
       "\n",
       "[:, :, 23, 36] =\n",
       " 384878.0\n",
       "\n",
       "[:, :, 24, 36] =\n",
       " 3.984e7"
      ]
     },
     "execution_count": 24,
     "metadata": {},
     "output_type": "execute_result"
    }
   ],
   "source": [
    "include(\"../equilibrium.jl\")\n",
    "va = data[\"va\"]\n",
    "\n",
    "\t\trevenue = va ./ p[:beta_j]\n",
    "\t\tworld_revenue = sum(revenue, 2)\n",
    "\t\tworld_intermediate = ImpvolEquilibrium.rotate_sectors(p[:gamma_jk], world_revenue)\n",
    "\t\tworld_final_expenditure = world_revenue .- world_intermediate\n"
   ]
  },
  {
   "cell_type": "code",
   "execution_count": 28,
   "metadata": {
    "scrolled": true
   },
   "outputs": [
    {
     "data": {
      "image/png": "[encoded data removed]"
     },
     "execution_count": 28,
     "metadata": {},
     "output_type": "execute_result"
    }
   ],
   "source": [
    "plot(world_final_expenditure[1,1,end,:] ./ sum(world_final_expenditure, 3)[1,1,end,:])"
   ]
  },
  {
   "cell_type": "code",
   "execution_count": 156,
   "metadata": {},
   "outputs": [
    {
     "data": {
      "text/plain": [
       "CalibrateParameters"
      ]
     },
     "execution_count": 156,
     "metadata": {},
     "output_type": "execute_result"
    },
    {
     "name": "stderr",
     "output_type": "stream",
     "text": [
      "WARNING: replacing module CalibrateParameters\n"
     ]
    }
   ],
   "source": [
    "include(\"../calibrate_params.jl\")"
   ]
  },
  {
   "cell_type": "code",
   "execution_count": 157,
   "metadata": {},
   "outputs": [
    {
     "data": {
      "text/plain": [
       "1×25×24×36 Array{Float64,4}:\n",
       "[:, :, 1, 1] =\n",
       " 0.0152375  0.0227238  0.0117844  …  0.0533419  0.0131249  0.0139509\n",
       "\n",
       "[:, :, 2, 1] =\n",
       " 0.0735993  0.0576891  0.0995277  …  0.0742461  0.120795  0.0633877\n",
       "\n",
       "[:, :, 3, 1] =\n",
       " 0.00344255  0.0163539  0.00123273  …  0.00125533  0.00570676  0.00273625\n",
       "\n",
       "...\n",
       "\n",
       "[:, :, 22, 1] =\n",
       " 0.0172447  0.00173078  0.00695812  …  0.00427328  0.0201018  0.0144657\n",
       "\n",
       "[:, :, 23, 1] =\n",
       " 0.0158646  0.0151088  0.0285275  …  0.00601666  0.00342828  0.0139181\n",
       "\n",
       "[:, :, 24, 1] =\n",
       " 0.618888  0.25588  0.264002  0.66566  …  0.572098  0.539579  0.637845\n",
       "\n",
       "[:, :, 1, 2] =\n",
       " 0.024924  0.0366225  0.012135  0.0151697  …  0.0432947  0.0139035  0.0235356\n",
       "\n",
       "[:, :, 2, 2] =\n",
       " 0.06473  0.0658889  0.109797  0.0799386  …  0.0701669  0.118549  0.0597879\n",
       "\n",
       "[:, :, 3, 2] =\n",
       " 0.00288639  0.0206624  0.0012656  …  0.000950884  0.00467345  0.00253763\n",
       "\n",
       "...\n",
       "\n",
       "[:, :, 22, 2] =\n",
       " 0.0172043  0.00176299  0.00984955  …  0.00696915  0.0193849  0.0147301\n",
       "\n",
       "[:, :, 23, 2] =\n",
       " 0.0172323  0.0158681  0.0363573  …  0.0046264  0.00202279  0.012357\n",
       "\n",
       "[:, :, 24, 2] =\n",
       " 0.609589  0.318  0.316655  0.656011  …  0.559154  0.580215  0.636846\n",
       "\n",
       "[:, :, 1, 3] =\n",
       " 0.0574348  0.227539  0.00573018  …  0.0728595  0.00860564  0.01056\n",
       "\n",
       "[:, :, 2, 3] =\n",
       " 0.0712517  0.0672797  0.0979106  0.068946  …  0.060807  0.108517  0.0595858\n",
       "\n",
       "[:, :, 3, 3] =\n",
       " 0.00285656  0.012157  0.00215099  …  0.000621364  0.00403515  0.00240146\n",
       "\n",
       "...\n",
       "\n",
       "[:, :, 22, 3] =\n",
       " 0.016666  0.000778728  0.0110628  …  0.0193882  0.013757  0.0119938\n",
       "\n",
       "[:, :, 23, 3] =\n",
       " 0.0143656  0.0314756  0.0458057  …  0.0055622  0.000893099  0.0108797\n",
       "\n",
       "[:, :, 24, 3] =\n",
       " 0.60472  0.28105  0.396228  0.637222  …  0.532547  0.585292  0.66596\n",
       "\n",
       "...\n",
       "\n",
       "[:, :, 1, 34] =\n",
       " 0.00294839  0.00315854  0.00278593  …  0.00291194  0.00269053  0.00292803\n",
       "\n",
       "[:, :, 2, 34] =\n",
       " 0.0358246  0.00750253  0.00587566  …  0.00680182  0.0423774  0.0494558\n",
       "\n",
       "[:, :, 3, 34] =\n",
       " 3.32872e-5  0.000142748  3.1453e-5  …  3.28756e-5  0.000921197  0.00465303\n",
       "\n",
       "...\n",
       "\n",
       "[:, :, 22, 34] =\n",
       " 0.00663879  0.00137904  0.00527865  …  0.00127137  0.00717912  0.00688619\n",
       "\n",
       "[:, :, 23, 34] =\n",
       " 0.00805994  0.0025235  0.000904751  …  0.000945673  0.0241467  0.0191423\n",
       "\n",
       "[:, :, 24, 34] =\n",
       " 0.701517  0.107557  0.133098  0.521803  …  0.105209  0.505083  0.755568\n",
       "\n",
       "[:, :, 1, 35] =\n",
       " 0.00346644  0.00359907  0.00365653  …  0.00366214  0.0405447  0.00319894\n",
       "\n",
       "[:, :, 2, 35] =\n",
       " 0.0346049  0.00308851  0.00245119  …  0.00630611  0.000907021  0.0451765\n",
       "\n",
       "[:, :, 3, 35] =\n",
       " 3.1595e-5  0.000435419  3.33275e-5  …  3.33786e-5  1.23323e-5  0.00420368\n",
       "\n",
       "...\n",
       "\n",
       "[:, :, 22, 35] =\n",
       " 0.00559695  7.35689e-5  0.0022305  …  0.00116532  2.76574e-5  0.00636359\n",
       "\n",
       "[:, :, 23, 35] =\n",
       " 0.00858407  0.00170955  0.0362188  …  0.000477179  0.0186333  0.0440542\n",
       "\n",
       "[:, :, 24, 35] =\n",
       " 0.75442  0.0421925  0.0473176  0.713027  …  0.100154  0.0158618  0.76878\n",
       "\n",
       "[:, :, 1, 36] =\n",
       " 0.0047973  0.00501463  0.00277411  …  0.0042876  0.00358172  0.00467814\n",
       "\n",
       "[:, :, 2, 36] =\n",
       " 0.0267312  0.0520123  0.0129258  …  0.0209537  0.0919002  0.0395263\n",
       "\n",
       "[:, :, 3, 36] =\n",
       " 0.000222907  0.000233005  0.000128899  …  0.000166425  0.00330582\n",
       "\n",
       "...\n",
       "\n",
       "[:, :, 22, 36] =\n",
       " 0.00365695  0.00470749  0.000755515  …  0.00625195  0.0236436  0.00636039\n",
       "\n",
       "[:, :, 23, 36] =\n",
       " 0.00480975  0.0227745  0.000397848  …  0.00443102  0.0701649  0.00574559\n",
       "\n",
       "[:, :, 24, 36] =\n",
       " 0.659396  0.645402  0.421977  0.808674  …  0.339787  0.581998  0.744568"
      ]
     },
     "execution_count": 157,
     "metadata": {},
     "output_type": "execute_result"
    }
   ],
   "source": [
    "nu = CalibrateParameters.calculate_expenditure_shares(p, data)"
   ]
  },
  {
   "cell_type": "code",
   "execution_count": 160,
   "metadata": {},
   "outputs": [
    {
     "data": {
      "text/plain": [
       "36-element Array{Float64,1}:\n",
       " 0.637845\n",
       " 0.636846\n",
       " 0.66596 \n",
       " 0.678876\n",
       " 0.661158\n",
       " 0.653243\n",
       " 0.66453 \n",
       " 0.652448\n",
       " 0.686582\n",
       " 0.688672\n",
       " 0.672627\n",
       " 0.594405\n",
       " 0.711826\n",
       " ⋮       \n",
       " 0.753972\n",
       " 0.752161\n",
       " 0.732625\n",
       " 0.775447\n",
       " 0.713635\n",
       " 0.788468\n",
       " 0.756814\n",
       " 0.714754\n",
       " 0.345939\n",
       " 0.755568\n",
       " 0.76878 \n",
       " 0.744568"
      ]
     },
     "execution_count": 160,
     "metadata": {},
     "output_type": "execute_result"
    }
   ],
   "source": [
    "nu[1,end,end,:]"
   ]
  },
  {
   "cell_type": "code",
   "execution_count": 154,
   "metadata": {},
   "outputs": [
    {
     "data": {
      "text/plain": [
       "24×3 Array{Float64,2}:\n",
       "     3.35801e5       3.23345e5       8.89703e5\n",
       "     8.82137e5       9.2212e5        3.05688e5\n",
       " 71288.2         70289.5         12292.9      \n",
       " 80451.1             1.27448e5   46385.6      \n",
       " 30778.8         80003.0         28164.4      \n",
       "  7094.37        49204.5         11894.8      \n",
       "     1.11415e5  130552.0             1.09652e5\n",
       "     1.90054e5       1.94135e5       1.38817e5\n",
       "     1.05518e5       1.03912e5  207694.0      \n",
       "     5.61198e5       6.55746e5  269040.0      \n",
       "     7.66177e5       7.5044e5   463407.0      \n",
       "     2.06445e5       2.74146e5  197063.0      \n",
       "     1.37045e5       1.49904e5       1.85879e5\n",
       "     1.9047e5        2.23709e5       2.99343e5\n",
       "     2.97372e5       3.13951e5       2.66903e5\n",
       "     3.55899e5   63662.2        214996.0      \n",
       "     1.01505e5  -63018.5         43685.2      \n",
       "     1.39226e5  -31221.8             1.31641e5\n",
       "     2.52809e5       6.40801e5       1.64098e5\n",
       "     2.27075e5  -13730.3             1.03467e5\n",
       "     3.87347e5  524006.0             2.02873e5\n",
       "     1.98664e5       1.79079e5   93247.8      \n",
       "     1.84742e5       3.19428e5   80832.8      \n",
       "     1.62738e7       1.62738e7       5.91556e6"
      ]
     },
     "execution_count": 154,
     "metadata": {},
     "output_type": "execute_result"
    }
   ],
   "source": [
    "[revenue[1,end,:,end-2] expenditure[1,end,:,end-2] intermediate[1,end,:,end-2]]"
   ]
  },
  {
   "cell_type": "code",
   "execution_count": 155,
   "metadata": {},
   "outputs": [
    {
     "data": {
      "text/plain": [
       "24×5 Array{Float64,2}:\n",
       "      2.83191e5       3.39261e5  …       2.88254e5       3.26752e5\n",
       "      8.20532e5       8.75888e5          9.13425e5  943940.0      \n",
       "  63532.0         63493.5            68450.5         64761.6      \n",
       "      1.12498e5       1.13779e5          1.35885e5       1.28434e5\n",
       "  36614.0         79907.8            84016.4         70729.1      \n",
       "  37765.0         29254.4        …   51231.1         54504.9      \n",
       "  97425.4             1.28704e5          1.28621e5       1.1789e5 \n",
       "      1.84391e5  217945.0                2.06849e5  210880.0      \n",
       "  99829.1             1.02786e5          1.05243e5       1.11751e5\n",
       "      1.93935e5       3.40036e5          6.91542e5       5.95501e5\n",
       "      6.60328e5       7.56944e5  …       1.93323e5       6.80072e5\n",
       "      2.22705e5       2.36427e5         -6.18541e5       2.3319e5 \n",
       " 125790.0             1.37668e5     168473.0             1.69746e5\n",
       "      1.54187e5       2.10493e5     241572.0             2.72453e5\n",
       "      2.77523e5       2.93153e5          3.4086e5        3.73163e5\n",
       "      1.70984e5       1.57232e7  …       2.31963e5       2.78294e5\n",
       "     -1.65846e5  -90556.1             3186.16        -8400.75     \n",
       "      2.46097e6      -6.26489e5      98039.7             1.32676e5\n",
       "      3.30284e5       5.12035e5      16821.3             1.88981e6\n",
       "  44113.8        -33920.4            15013.5        -76464.8      \n",
       " 549496.0             5.49602e5  …       5.38244e5       5.4971e5 \n",
       "      1.78842e5       1.83458e5          1.83507e5       2.10882e5\n",
       "      2.54959e5       2.85293e5          6.70107e5       1.77736e5\n",
       "      1.43853e7       1.52393e7          1.73248e7       1.81623e7"
      ]
     },
     "execution_count": 155,
     "metadata": {},
     "output_type": "execute_result"
    }
   ],
   "source": [
    "expenditure[1,end,:,end-4:end]"
   ]
  },
  {
   "cell_type": "code",
   "execution_count": 122,
   "metadata": {},
   "outputs": [
    {
     "data": {
      "text/plain": [
       "25×3 Array{Float64,2}:\n",
       " 0.543077   0.529018     0.554855  \n",
       " 0.388917   0.359181     0.276211  \n",
       " 0.0690676  1.00009e-12  1.0e-12   \n",
       " 0.564189   0.552249     0.561421  \n",
       " 0.922092   0.898468     0.923082  \n",
       " 0.374714   0.448983     0.439149  \n",
       " 0.324086   0.28478      0.332012  \n",
       " 0.686354   0.622704     0.520404  \n",
       " 0.619466   0.0180339    0.229562  \n",
       " 0.405642   0.341867     0.463166  \n",
       " 0.290327   0.219629     0.255506  \n",
       " 0.788474   0.646783     0.7096    \n",
       " 1.0e-12    1.00009e-12  0.0105004 \n",
       " 0.72564    0.749717     0.771275  \n",
       " 0.685512   0.677381     0.695546  \n",
       " 0.341584   0.18606      1.0002e-12\n",
       " 0.498119   0.503237     0.584429  \n",
       " 0.76279    0.781959     0.779969  \n",
       " 0.351819   0.318017     0.272556  \n",
       " 0.555448   0.553747     0.61371   \n",
       " 0.884494   0.872306     0.882433  \n",
       " 0.470714   0.505525     0.608752  \n",
       " 0.592052   0.58843      0.628431  \n",
       " 0.725851   0.735931     0.728966  \n",
       " 0.758176   0.727731     0.743303  "
      ]
     },
     "execution_count": 122,
     "metadata": {},
     "output_type": "execute_result"
    }
   ],
   "source": [
    "[diag(p[:d][:,:,end-2,end-2]) diag(p[:d][:,:,end-2,end-1]) diag(p[:d][:,:,end-2,end])]"
   ]
  },
  {
   "cell_type": "code",
   "execution_count": 132,
   "metadata": {},
   "outputs": [
    {
     "data": {
      "text/plain": [
       "true"
      ]
     },
     "execution_count": 132,
     "metadata": {},
     "output_type": "execute_result"
    }
   ],
   "source": [
    "all(sum(p[:d], 2) .> .999)"
   ]
  },
  {
   "cell_type": "code",
   "execution_count": 137,
   "metadata": {},
   "outputs": [
    {
     "data": {
      "text/plain": [
       "25×25 Array{Float64,2}:\n",
       "  1.80525      -0.0101053     -2.75177    …    0.0175302    -0.0762846 \n",
       " -0.0242031     3.67572       16.7739         -0.504154      0.471559  \n",
       " -0.168153      2.39205     -254.594           3.35556      -3.16591   \n",
       "  0.0056589    -0.012878      -1.98954        -0.00788445   -1.33011   \n",
       "  0.000173427   0.00183852    -0.394975        0.0121873    -0.00441057\n",
       "  0.00562185    0.00267296    -0.579997   …    0.0397533    -1.0544    \n",
       "  0.0283096    -0.0307048     -6.21204         0.402527     -4.556     \n",
       "  0.000369326   0.00816838    -3.45465         0.0934392     0.0857768 \n",
       " -0.0253155    -0.144289      30.7819         -1.06026       0.0655149 \n",
       "  0.0163218    -0.0359515    -11.2229          0.323996     -0.37477   \n",
       "  0.00594376   -0.0610896      0.896473   …   -0.0110035     0.353965  \n",
       " -0.000232981  -0.00468268     0.704172       -0.0258684    -0.00109979\n",
       " -0.0511582     1.42067       -4.56009        -1.52611     -13.4096    \n",
       " -0.000764816  -0.0352993      1.16074        -0.0258358     0.0602851 \n",
       " -0.00615634   -0.00521913     0.809792       -0.0358374    -0.144446  \n",
       " -1.56076      -0.426792     737.456      …  -30.4417      256.24      \n",
       "  0.00163457   -0.0495082      6.34805        -0.114381      0.0935523 \n",
       "  0.000386935  -0.0245148     -0.248408       -0.00490068   -0.0321918 \n",
       "  0.0325191    -2.17021      -16.9768          0.662095     -0.343576  \n",
       " -0.0057097    -0.0237694      0.817625       -0.0331684     0.00402408\n",
       " -0.00134331   -0.00108014     0.297158   …   -0.0111354    -0.00838335\n",
       "  0.00630416   -0.00507389    -1.40186         0.0170005    -0.48747   \n",
       "  0.00136574   -0.0231106     -0.0727153       0.0122262    -0.574198  \n",
       " -0.00135905   -0.0137367      1.18871         1.36734      -0.151763  \n",
       "  0.00487755    0.00121774    -5.15558         0.177652      0.224337  "
      ]
     },
     "execution_count": 137,
     "metadata": {},
     "output_type": "execute_result"
    }
   ],
   "source": [
    "inv(p[:d][:,:,end-2,end])"
   ]
  },
  {
   "cell_type": "code",
   "execution_count": 139,
   "metadata": {},
   "outputs": [
    {
     "data": {
      "text/plain": [
       "([1.0339e-15 7.94093e-22 … 6.84403e-19 3.86247e-19; 8.04681e-20 9.4369e-16 … 4.92973e-19 1.36203e-18; … ; 6.24772e-18 2.32934e-20 … 9.08995e-16 1.07336e-17; 5.0822e-19 1.21761e-21 … 1.999e-19 1.0339e-15]\n",
       "\n",
       "[1.02002e-15 5.67512e-20 … 5.9089e-18 2.03288e-18; 2.44623e-18 8.39606e-16 … 4.09286e-18 8.86335e-18; … ; 1.66425e-17 4.74338e-19 … 8.32667e-16 6.28837e-18; 4.90601e-18 9.82558e-20 … 3.82181e-18 9.71445e-16]\n",
       "\n",
       "[9.08995e-16 3.17637e-22 … 7.31836e-18 8.5652e-18; 9.89334e-19 1.06165e-15 … 3.59142e-19 1.23667e-19; … ; 1.67421e-21 2.4564e-20 … 9.71445e-16 3.41524e-18; 2.13413e-22 1.00916e-22 … 4.13352e-19 1.02696e-15]\n",
       "\n",
       "...\n",
       "\n",
       "[8.53484e-16 5.01444e-19 … 4.0766e-17 7.71952e-17; 1.47723e-18 9.84498e-28 … 2.13046e-17 3.55618e-16; … ; 4.84503e-19 1.20617e-18 … 8.53484e-16 5.05238e-17; 2.28699e-19 1.0842e-18 … 1.40946e-17 8.74301e-16]\n",
       "\n",
       "[9.22873e-16 5.89535e-19 … 1.51788e-17 1.24683e-17; 1.43996e-19 7.70217e-16 … 1.01915e-17 3.36103e-18; … ; 1.20617e-18 2.46656e-18 … 8.74301e-16 1.4962e-17; 2.77827e-19 7.04731e-19 … 1.03541e-17 9.4369e-16]\n",
       "\n",
       "[9.4369e-16 0.0 … 0.0 0.0; 0.0 9.4369e-16 … 0.0 0.0; … ; 0.0 0.0 … 9.4369e-16 0.0; 0.0 0.0 … 0.0 9.4369e-16]\n",
       "\n",
       "[0.00136659 -3.16321e-7 … -9.52636e-5 -6.49108e-5; 9.49833e-5 -0.00307615 … -0.000137591 0.00110973; … ; -0.00110345 6.75479e-6 … 0.000556002 -0.000256246; -8.30509e-5 4.21077e-7 … 3.50607e-5 -0.00098181]\n",
       "\n",
       "[-0.00482674 3.27704e-5 … 0.000758494 -8.84314e-5; -4.07921e-5 -0.0118806 … -0.000123301 0.000792721; … ; 0.00335 -3.16636e-5 … -0.00852696 0.000111737; 0.000866822 1.81016e-5 … 6.384e-5 -0.00353839]\n",
       "\n",
       "[0.00333545 -4.33436e-7 … -0.00010688 -0.000962357; -9.93401e-5 0.00136349 … 9.04856e-6 -5.85358e-5; … ; 2.69861e-7 3.18759e-6 … -0.00220751 -0.000431088; 2.31216e-8 -2.86054e-7 … 8.89315e-5 0.00030732]\n",
       "\n",
       "...\n",
       "\n",
       "[-0.116967 -0.000127176 … -0.00806779 0.110681; 0.00051776 1.70217e-16 … 0.00815351 -0.0692491; … ; 7.2074e-5 -0.000186288 … -0.0094206 0.000918525; 2.40087e-5 0.000474344 … 0.00349035 0.00226685]\n",
       "\n",
       "[0.011226 -2.60719e-5 … -0.00269521 -0.00179104; 1.45687e-5 -0.00835915 … -0.00024581 -0.000838847; … ; 0.000528892 0.000637758 … -0.0150326 0.00181062; 4.64101e-5 0.00016941 … 0.00215766 -0.00629994]\n",
       "\n",
       "[9.4369e-16 0.0 … 0.0 0.0; 0.0 9.4369e-16 … 0.0 0.0; … ; 0.0 0.0 … 9.4369e-16 0.0; 0.0 0.0 … 0.0 9.4369e-16]\n",
       "\n",
       "[-0.00299589 8.03272e-7 … 0.000120341 0.000760238; -4.09884e-5 0.00458079 … -7.92125e-5 -0.000456378; … ; -0.0010494 -5.82928e-6 … -0.0141583 0.00143878; -2.12251e-5 -9.18332e-7 … -2.23355e-5 0.00228408]\n",
       "\n",
       "[-0.00794236 -1.68498e-6 … -0.000143306 0.00253895; -0.000606156 -0.00802143 … -0.000145555 0.000496462; … ; -0.000548621 -8.80993e-5 … -0.0214519 0.000441087; -0.00030837 5.85901e-6 … 0.000183042 -0.00257088]\n",
       "\n",
       "[0.000349409 -5.34672e-7 … 8.22079e-5 -0.000952163; 0.000153664 -0.00333248 … 7.69634e-5 -2.20355e-5; … ; -5.49124e-7 -1.89595e-5 … -0.00792703 -0.000182583; -1.09897e-8 2.40816e-6 … 9.06308e-5 0.000175716]\n",
       "\n",
       "...\n",
       "\n",
       "[-0.009869 2.85767e-5 … 0.00932289 0.00680324; 0.00052095 3.03051e-17 … 0.00877435 -0.124977; … ; -6.80043e-5 0.0014506 … -0.0209352 0.0129865; 0.000139767 0.000583121 … 0.000358922 -0.0200811]\n",
       "\n",
       "[-0.0154448 0.000195628 … 0.00137008 0.00298988; 1.4833e-5 -0.0148554 … 0.0010181 9.11997e-5; … ; -3.06767e-5 0.000232627 … 0.0565902 0.002749; 6.74829e-5 5.89163e-5 … 0.00183547 0.0005345]\n",
       "\n",
       "[9.4369e-16 0.0 … 0.0 0.0; 0.0 9.4369e-16 … 0.0 0.0; … ; 0.0 0.0 … 9.4369e-16 0.0; 0.0 0.0 … 0.0 9.4369e-16]\n",
       "\n",
       "...\n",
       "\n",
       "[0.0020975 7.50763e-7 … -0.000140344 -0.000222471; 2.74778e-5 -0.00468114 … -4.04395e-5 -0.000123638; … ; 4.92317e-6 -4.20481e-6 … -0.0011476 0.000167674; 2.65823e-5 2.89752e-6 … -4.04203e-5 0.00201497]\n",
       "\n",
       "[0.00245951 -3.40707e-6 … 6.36223e-5 -8.91514e-5; -6.04322e-5 -0.0136347 … 5.04406e-5 -0.000246359; … ; -0.000525313 -0.000112484 … 0.0175402 -0.00101615; -4.41485e-5 -2.3906e-6 … -0.000135225 0.0021827]\n",
       "\n",
       "[6.26269e-5 3.83011e-7 … 0.000387639 -0.00266086; 0.0132252 -0.190941 … 0.00419057 0.000626164; … ; -6.1176e-10 -2.17188e-5 … 0.00109858 8.74942e-7; -5.82053e-8 2.39449e-7 … -7.49753e-6 0.0020307]\n",
       "\n",
       "...\n",
       "\n",
       "[0.00439258 -0.000519805 … -0.00355748 -0.0321727; 0.000188725 0.0679868 … 0.00048777 0.00512281; … ; -8.49537e-5 0.00195852 … -0.00457664 -0.00297733; -1.95606e-5 9.01366e-5 … -0.000652732 0.0052852]\n",
       "\n",
       "[-0.00584415 -9.6517e-5 … -0.000454104 0.000175959; 0.000217206 -0.04325 … 0.000443391 0.000867894; … ; 0.00129408 -0.000350046 … -0.0343174 -0.00105363; -0.000153064 -3.62962e-5 … -0.000346797 -0.00559318]\n",
       "\n",
       "[9.4369e-16 0.0 … 0.0 0.0; 0.0 9.4369e-16 … 0.0 0.0; … ; 0.0 0.0 … 9.4369e-16 0.0; 0.0 0.0 … 0.0 9.4369e-16]\n",
       "\n",
       "[5.80076e-5 -9.93742e-7 … 7.92683e-6 -1.10833e-5; 4.04833e-6 -0.00460887 … -0.000117706 -8.91733e-6; … ; -9.30146e-5 2.58898e-6 … 0.00370869 0.000161377; -3.11953e-5 -1.64609e-6 … -3.65476e-5 -0.000239171]\n",
       "\n",
       "[0.000825766 -0.000130314 … 0.000212828 -0.000250227; -1.49552e-5 -0.000132356 … -0.000335747 -0.000260052; … ; 0.000168028 0.00024856 … -0.0160965 8.49046e-5; -3.125e-5 0.000380246 … -8.63979e-5 -0.00283226]\n",
       "\n",
       "[-0.00327144 4.23069e-7 … -0.000430167 -0.000833904; 0.0159054 -0.19072 … -0.0100267 0.00121062; … ; 5.35345e-8 0.000153138 … -0.00113187 -3.78129e-5; -3.39673e-8 1.57763e-7 … -1.75561e-5 0.000899675]\n",
       "\n",
       "...\n",
       "\n",
       "[-0.0211265 0.000296077 … -0.000356404 0.0229358; -0.000151904 0.0615621 … 0.00335098 0.0441257; … ; 6.86876e-5 -0.000415095 … 0.00568305 -0.0099215; 6.43247e-5 0.000253672 … 0.00458179 -0.0201021]\n",
       "\n",
       "[-0.0327582 0.000119186 … 0.000169554 0.00175207; 0.000167577 -0.0643442 … -0.000118523 0.00265769; … ; 0.00159292 -0.000449108 … -0.0167832 0.00126953; 0.000535746 -4.63329e-5 … -0.000480655 -0.00125006]\n",
       "\n",
       "[9.4369e-16 0.0 … 0.0 0.0; 0.0 9.4369e-16 … 0.0 0.0; … ; 0.0 0.0 … 9.4369e-16 0.0; 0.0 0.0 … 0.0 9.4369e-16]\n",
       "\n",
       "[9.15934e-16 4.49986e-21 … 3.43895e-19 1.47723e-18; 5.03985e-20 8.32667e-16 … 1.32815e-18 1.84314e-18; … ; 4.40457e-19 2.13452e-19 … 8.88178e-16 5.31259e-18; 2.49028e-19 5.82335e-21 … 2.40557e-19 9.15934e-16]\n",
       "\n",
       "[9.36751e-16 1.0842e-18 … 4.71628e-18 1.02999e-17; 4.57398e-19 5.96745e-16 … 4.44523e-18 2.43945e-18; … ; 9.43256e-18 1.78893e-18 … 7.35523e-16 8.61941e-18; 3.79471e-18 1.00289e-18 … 3.08998e-18 9.29812e-16]\n",
       "\n",
       "[1.00614e-15 2.91168e-21 … 6.61363e-18 1.51111e-18; 3.55618e-17 2.46331e-16 … 3.46945e-18 5.58364e-18; … ; 1.21761e-21 1.73642e-20 … 1.01308e-15 1.06091e-19; 1.27055e-21 1.4029e-21 … 3.30343e-19 9.99201e-16]\n",
       "\n",
       "...\n",
       "\n",
       "[5.82867e-16 5.3668e-18 … 3.20924e-17 1.73472e-16; 7.18284e-19 2.74086e-16 … 9.54098e-18 1.56125e-16; … ; 1.2265e-18 1.68729e-18 … 6.8695e-16 1.21431e-16; 2.07354e-18 2.00577e-18 … 2.23346e-17 7.70217e-16]\n",
       "\n",
       "[7.28584e-16 2.24972e-18 … 3.98444e-18 2.12504e-17; 3.42201e-19 5.75928e-16 … 2.72046e-18 6.50521e-18; … ; 7.69784e-18 4.41812e-18 … 4.85723e-16 2.90566e-17; 1.35525e-18 6.57298e-19 … 3.38813e-18 6.31439e-16]\n",
       "\n",
       "[9.4369e-16 0.0 … 0.0 0.0; 0.0 9.4369e-16 … 0.0 0.0; … ; 0.0 0.0 … 9.4369e-16 0.0; 0.0 0.0 … 0.0 9.4369e-16], [0.991383 7.85e-7 … 0.000689 0.0004425; 7.42e-5 0.933661 … 0.0005002 0.0012682; … ; 0.0063236 2.35e-5 … 0.873615 0.0107159; 0.0005186 1.16e-6 … 0.0001954 0.970499]\n",
       "\n",
       "[0.963656 5.41e-5 … 0.0059973 0.0021071; 0.0023644 0.868394 … 0.0041904 0.0084447; … ; 0.0154627 0.0005217 … 0.799812 0.0068502; 0.0049541 9.21e-5 … 0.0035257 0.941881]\n",
       "\n",
       "[0.952001 2.7e-7 … 0.007298 0.0090423; 0.000962 0.984363 … 0.0003748 0.0001185; … ; 1.77e-6 2.4e-5 … 0.975487 0.0031918; 2.15e-7 1.1e-7 … 0.0004193 0.994321]\n",
       "\n",
       "...\n",
       "\n",
       "[0.821333 0.0005426 … 0.0415481 0.0741026; 0.00142861 1.00009e-12 … 0.0197788 0.366834; … ; 0.0004523 0.0013495 … 0.861286 0.0524452; 0.0002227 0.0011632 … 0.0146969 0.917486]\n",
       "\n",
       "[0.919331 0.0006011 … 0.0141295 0.0121466; 0.0001552 0.781076 … 0.0102563 0.003421; … ; 0.0013734 0.0028186 … 0.84388 0.0150931; 0.0002944 0.0007483 … 0.0103787 0.926147]\n",
       "\n",
       "[1.0 0.0 … 0.0 0.0; 0.0 1.0 … 0.0 0.0; … ; 0.0 0.0 … 1.0 0.0; 0.0 0.0 … 0.0 1.0]\n",
       "\n",
       "[0.989247 2.13632e-6 … 0.000765064 0.000821411; 8.99167e-5 0.934335 … 0.000374491 0.00121387; … ; 0.00461245 2.31452e-5 … 0.86916 0.0108998; 0.000445851 1.25892e-6 … 0.000184539 0.971375]\n",
       "\n",
       "[0.960922 6.62296e-5 … 0.00566331 0.00295343; 0.00178289 0.861386 … 0.003628 0.00751078; … ; 0.0125257 0.000373064 … 0.795366 0.00650946; 0.00464968 0.000101398 … 0.00333106 0.941667]\n",
       "\n",
       "[0.949896 7.47436e-7 … 0.00735168 0.00982706; 0.00118094 0.983299 … 0.000408751 0.000125636; … ; 1.26014e-6 2.17124e-5 … 0.972976 0.00302489; 2.37878e-7 6.20054e-7 … 0.000526468 0.994142]\n",
       "\n",
       "...\n",
       "\n",
       "[0.806249 0.000511776 … 0.0353258 0.0870238; 0.00158758 1.00014e-12 … 0.0211175 0.284786; … ; 0.000443126 0.00167429 … 0.844515 0.0518053; 0.000256891 0.00118846 … 0.0151509 0.917928]\n",
       "\n",
       "[0.908095 0.000756672 … 0.0146977 0.0142644; 0.000193631 0.747037 … 0.0108941 0.00407205; … ; 0.00132201 0.00276404 … 0.816827 0.0166225; 0.00032399 0.00077679 … 0.00975404 0.924247]\n",
       "\n",
       "[1.0 0.0 … 0.0 0.0; 0.0 1.0 … 0.0 0.0; … ; 0.0 0.0 … 1.0 0.0; 0.0 0.0 … 0.0 1.0]\n",
       "\n",
       "[0.986955 3.29673e-6 … 0.000827859 0.00111836; 9.97884e-5 0.933678 … 0.000278712 0.00121038; … ; 0.0032189 2.16293e-5 … 0.865879 0.0110607; 0.000389025 1.24633e-6 … 0.000175635 0.971078]\n",
       "\n",
       "[0.958098 7.5685e-5 … 0.00541591 0.00356565; 0.00135696 0.855503 … 0.00312195 0.00660574; … ; 0.00986112 0.000253399 … 0.794544 0.00625841; 0.00432327 0.000109641 … 0.00313066 0.941018]\n",
       "\n",
       "[0.948011 1.01767e-6 … 0.00729309 0.0106788; 0.00134804 0.982834 … 0.000417637 0.000134436; … ; 8.77124e-7 2.14395e-5 … 0.971008 0.00299408; 2.6099e-7 8.91845e-7 … 0.000610669 0.993876]\n",
       "\n",
       "...\n",
       "\n",
       "[0.799377 0.000479323 … 0.0286496 0.094325; 0.00158831 1.00017e-12 … 0.022811 0.216651; … ; 0.000448204 0.0018287 … 0.825341 0.0516703; 0.000272233 0.00114218 … 0.0146177 0.922385]\n",
       "\n",
       "[0.897394 0.000842372 … 0.0152678 0.0161075; 0.000231167 0.712735 … 0.0115277 0.0048295; … ; 0.00123358 0.00260957 … 0.759138 0.0179397; 0.000332417 0.000798384 … 0.00919283 0.921509]\n",
       "\n",
       "[1.0 0.0 … 0.0 0.0; 0.0 1.0 … 0.0 0.0; … ; 0.0 0.0 … 1.0 0.0; 0.0 0.0 … 0.0 1.0]\n",
       "\n",
       "...\n",
       "\n",
       "[0.982089 3.71924e-6 … 0.000508044 0.00166677; 7.59222e-5 0.817538 … 0.00116894 0.00188484; … ; 0.000397077 0.000170105 … 0.878288 0.00563573; 0.000313318 4.44248e-6 … 0.00023602 0.954431]\n",
       "\n",
       "[0.882366 0.000707107 … 0.00498618 0.0108151; 0.000496932 0.638721 … 0.00418626 0.00275316; … ; 0.00955671 0.00195378 … 0.746218 0.00888355; 0.00393545 0.000800891 … 0.00268662 0.909791]\n",
       "\n",
       "[0.937742 2.88699e-6 … 0.00626806 0.00529676; 0.045439 0.190941 … 0.0164789 0.00490507; … ; 1.13061e-6 4.88188e-5 … 0.968394 0.000232825; 1.16821e-6 1.04055e-6 … 0.000316798 0.983269]\n",
       "\n",
       "...\n",
       "\n",
       "[0.538685 0.00420751 … 0.0235819 0.211927; 0.000878775 0.32093 … 0.00979123 0.134428; … ; 0.00138545 0.00352598 … 0.730427 0.0916415; 0.00176976 0.00162296 … 0.0233554 0.752891]\n",
       "\n",
       "[0.700627 0.00206472 … 0.0050288 0.0248744; 0.000482994 0.476817 … 0.00507621 0.00829281; … ; 0.00872892 0.00444635 … 0.454463 0.0289274; 0.00115246 0.000625396 … 0.0026352 0.651496]\n",
       "\n",
       "[1.0 0.0 … 0.0 0.0; 0.0 1.0 … 0.0 0.0; … ; 0.0 0.0 … 1.0 0.0; 0.0 0.0 … 0.0 1.0]\n",
       "\n",
       "[0.982987 4.20374e-6 … 0.000409173 0.00156058; 6.43517e-5 0.808019 … 0.00124921 0.00184712; … ; 0.000431315 0.000194911 … 0.877362 0.00537832; 0.000282995 5.10609e-6 … 0.000240148 0.95507]\n",
       "\n",
       "[0.875871 0.000914714 … 0.00477817 0.0111083; 0.000482455 0.612838 … 0.00429085 0.00265445; … ; 0.00938667 0.00196954 … 0.740538 0.0084858; 0.00397505 0.000910754 … 0.0027991 0.904978]\n",
       "\n",
       "[0.940054 2.97693e-6 … 0.00631317 0.0026571; 0.0416904 0.19072 … 0.0107698 0.00544491; … ; 1.13647e-6 3.46623e-5 … 0.96796 0.000153013; 1.21397e-6 1.20224e-6 … 0.000317256 0.982672]\n",
       "\n",
       "...\n",
       "\n",
       "[0.550145 0.00463722 … 0.0278256 0.187852; 0.000788404 0.297619 … 0.00938032 0.142722; … ; 0.00127861 0.00275369 … 0.730248 0.102702; 0.00187868 0.00183213 … 0.0232111 0.747833]\n",
       "\n",
       "[0.704195 0.00215571 … 0.00430545 0.0234278; 0.000439723 0.50789 … 0.00388432 0.00773231; … ; 0.00852218 0.00454241 … 0.461225 0.028078; 0.00127065 0.000655233 … 0.00275315 0.637937]\n",
       "\n",
       "[1.0 0.0 … 0.0 0.0; 0.0 1.0 … 0.0 0.0; … ; 0.0 0.0 … 1.0 0.0; 0.0 0.0 … 0.0 1.0]\n",
       "\n",
       "[0.983623 4.59e-6 … 0.0003385 0.001494; 5.19e-5 0.79817 … 0.0013503 0.0018089; … ; 0.0004857 0.0002232 … 0.876307 0.0051151; 0.0002556 5.79e-6 … 0.0002533 0.955026]\n",
       "\n",
       "[0.868218 0.0011482 … 0.0045702 0.0115839; 0.0004716 0.586789 … 0.0044752 0.0025491; … ; 0.0090109 0.0019193 … 0.734727 0.0081028; 0.0039804 0.0009904 … 0.0029313 0.900005]\n",
       "\n",
       "[0.941535 3.02e-6 … 0.0063801 0.0014361; 0.0349389 0.239881 … 0.0036738 0.0057707; … ; 1.14e-6 2.15e-5 … 0.967328 0.0001056; 1.26e-6 1.43e-6 … 0.000314 0.981768]\n",
       "\n",
       "...\n",
       "\n",
       "[0.554855 0.0051331 … 0.0332164 0.175196; 0.0007059 0.276211 … 0.0091188 0.160495; … ; 0.0012285 0.0016064 … 0.728966 0.117465; 0.0019929 0.0020087 … 0.023183 0.743303]\n",
       "\n",
       "[0.708587 0.0022494 … 0.0037544 0.0219403; 0.0003369 0.551773 … 0.0027266 0.0068007; … ; 0.0081617 0.0046584 … 0.47882 0.0282423; 0.0013783 0.0006862 … 0.0029489 0.627074]\n",
       "\n",
       "[1.0 0.0 … 0.0 0.0; 0.0 1.0 … 0.0 0.0; … ; 0.0 0.0 … 1.0 0.0; 0.0 0.0 … 0.0 1.0])"
      ]
     },
     "execution_count": 139,
     "metadata": {},
     "output_type": "execute_result"
    }
   ],
   "source": [
    "d_c, d_t = CalibrateParameters.DetrendUtilities.detrend(p[:d], p[:bp_weights])"
   ]
  },
  {
   "cell_type": "code",
   "execution_count": 143,
   "metadata": {},
   "outputs": [
    {
     "data": {
      "text/plain": [
       "25×25 Array{Float64,2}:\n",
       " -0.0161707    -0.000925595  -1.68635e-5   …  -0.00963452    0.0367313  \n",
       "  0.000172875   0.0447195     0.000563123      0.00067243   -0.0260668  \n",
       "  0.000101982  -0.0020741     0.0537665        0.00530104   -0.0952908  \n",
       "  5.43923e-5   -0.00114755    5.3964e-5        0.00486915   -0.0151304  \n",
       " -1.97932e-5    0.000135107  -2.20159e-5       3.36378e-5    0.00370967 \n",
       " -2.47665e-5    0.000597023   3.49237e-5   …  -0.000503331   0.164966   \n",
       "  9.38524e-5    0.000915725  -0.00309607       0.0138529    -0.0552033  \n",
       " -0.000454253  -0.000432767   0.000311825      0.00810641   -0.000983929\n",
       " -0.00123553   -0.00076423   -0.00527057      -0.0181137    -0.0649341  \n",
       "  2.97467e-5    0.000288122   0.000731011      0.00293686    0.0578394  \n",
       "  3.18473e-5   -0.000496705   0.000134167  …  -0.00252508    0.0681044  \n",
       "  0.000436544   0.000298178   0.00173182      -0.00166734   -0.0475403  \n",
       "  7.16442e-5   -0.000265741   0.000786925      0.0116084     0.0589411  \n",
       " -0.000252238  -0.000871051   0.000370794      0.00381104    0.0282227  \n",
       " -0.00144217   -0.000560068   2.58047e-5       0.000339853   0.0121585  \n",
       "  1.79229e-5   -0.00213204    0.000389733  …  -0.00058701   -0.0733026  \n",
       "  0.000249044   0.000558696  -0.000645519      0.00762471    0.0648156  \n",
       "  0.000472723  -0.00439356    0.000191106      0.00714302    0.0143341  \n",
       "  0.000747573  -0.119842     -0.00165736       0.00150781    0.0965162  \n",
       " -0.000146846   0.000525684  -0.00170843       0.00423935    0.0179715  \n",
       " -0.000375287   5.99265e-5    3.83497e-6   …   0.00119912   -0.00162212 \n",
       "  0.00186394   -0.000175707  -0.00186227      -0.00189624   -0.00436972 \n",
       "  0.00082698   -0.000834239   0.000269886      0.011207      0.0303655  \n",
       "  0.000156954   0.00191958    0.000272799      0.00146106   -0.0258238  \n",
       " -0.000223139  -0.000385737  -0.000310519      0.000172432   0.0095886  "
      ]
     },
     "execution_count": 143,
     "metadata": {},
     "output_type": "execute_result"
    }
   ],
   "source": [
    "d = p[:d]\n",
    "d_t[:,:,end-2,end-2] .- d_t[:,:,end-2,end] "
   ]
  },
  {
   "cell_type": "code",
   "execution_count": 148,
   "metadata": {},
   "outputs": [
    {
     "data": {
      "text/plain": [
       "25×25 Array{Float64,2}:\n",
       "  1.84892      -0.0112752     0.0522532   …   -0.0483432       -1.87204 \n",
       "  0.0351641     2.65225       0.0980923       -0.0959576      -11.9797  \n",
       "  0.112761      0.0475368    15.5302          -0.179278       -26.1582  \n",
       " -0.155871     -0.151352     -0.235185         0.643325        48.4896  \n",
       "  0.000638879  -0.000131333   0.00654792      -0.00133839      -0.197061\n",
       " -0.000308795  -0.0050858     0.0236646   …    0.0660917        0.202326\n",
       " -0.301904     -0.291616     -0.406586         1.45098         94.2021  \n",
       "  0.00862996    0.00645432    0.0282497       -0.0396368       -2.41102 \n",
       " -0.0135838    -0.0010664    -0.160712         0.00705077       2.77605 \n",
       " -0.0239283    -0.105842     -0.254828        -0.021055         8.13646 \n",
       "  0.0166569     0.00805384   -0.00550749  …   -0.0206157       -4.56932 \n",
       " -0.0444261    -0.0467362    -0.0614291        0.212377        13.9891  \n",
       " 12.5148       12.0124       19.3661         -59.4375       -3916.74    \n",
       " -0.0465992    -0.0617082    -0.17337          0.194061        14.1084  \n",
       "  0.000811177  -0.00199592    0.00400119      -0.0020822       -0.555156\n",
       "  0.0138926    -0.000916271   0.0613396   …    0.00261333      -3.41504 \n",
       " -8.50399e-5    0.0116337    -0.345696        -0.0225863       -1.54304 \n",
       " -0.0491252    -0.0465362    -0.0780374        0.181546        15.5067  \n",
       " -0.00729668   -0.00885404   -0.159856         0.083112         3.15559 \n",
       " -0.0221288    -0.0242569    -0.0516771       -0.000823234      4.4196  \n",
       " -0.0022485    -0.00345707   -0.00295954  …    0.0107521        0.624987\n",
       "  8.39683e-5    0.00169395   -0.0608537       -0.143695        -4.01779 \n",
       "  0.0164204     0.00885273   -0.0154693       -0.105945        -5.59792 \n",
       " -0.021688     -0.0350055    -0.122039         1.48259          5.96048 \n",
       "  0.00292641    0.0039362     0.00421491      -0.0577013       -0.725835"
      ]
     },
     "execution_count": 148,
     "metadata": {},
     "output_type": "execute_result"
    }
   ],
   "source": [
    "inv(d[:,:,end-2,end-2])"
   ]
  },
  {
   "cell_type": "code",
   "execution_count": 8,
   "metadata": {},
   "outputs": [
    {
     "name": "stderr",
     "output_type": "stream",
     "text": [
      "WARNING: using GR.plot in module Main conflicts with an existing identifier.\n"
     ]
    },
    {
     "data": {
      "text/plain": [
       "\"0.35.0\""
      ]
     },
     "execution_count": 8,
     "metadata": {},
     "output_type": "execute_result"
    }
   ],
   "source": [
    "using GR\n",
    "version()"
   ]
  },
  {
   "cell_type": "code",
   "execution_count": 40,
   "metadata": {},
   "outputs": [
    {
     "data": {
      "image/png": "[encoded data removed]"
     },
     "execution_count": 40,
     "metadata": {},
     "output_type": "execute_result"
    },
    {
     "ename": "MethodError",
     "evalue": "\u001b[91mMethodError: no method matching complete_type(::QuoteNode)\u001b[0m\nClosest candidates are:\n  complete_type(\u001b[91m::Type{#s13} where #s13<:Function\u001b[39m) at /Applications/JuliaPro-0.6.4.1.app/Contents/Resources/pkgs-0.6.4.1/v0.6/IJulia/src/handlers.jl:67\n  complete_type(\u001b[91m::Type{#s13} where #s13<:Type\u001b[39m) at /Applications/JuliaPro-0.6.4.1.app/Contents/Resources/pkgs-0.6.4.1/v0.6/IJulia/src/handlers.jl:68\n  complete_type(\u001b[91m::Type{#s13} where #s13<:Tuple\u001b[39m) at /Applications/JuliaPro-0.6.4.1.app/Contents/Resources/pkgs-0.6.4.1/v0.6/IJulia/src/handlers.jl:69\n  ...\u001b[39m",
     "output_type": "error",
     "traceback": [
      "KERNEL EXCEPTION",
      "\u001b[91mMethodError: no method matching complete_type(::QuoteNode)\u001b[0m\nClosest candidates are:\n  complete_type(\u001b[91m::Type{#s13} where #s13<:Function\u001b[39m) at /Applications/JuliaPro-0.6.4.1.app/Contents/Resources/pkgs-0.6.4.1/v0.6/IJulia/src/handlers.jl:67\n  complete_type(\u001b[91m::Type{#s13} where #s13<:Type\u001b[39m) at /Applications/JuliaPro-0.6.4.1.app/Contents/Resources/pkgs-0.6.4.1/v0.6/IJulia/src/handlers.jl:68\n  complete_type(\u001b[91m::Type{#s13} where #s13<:Tuple\u001b[39m) at /Applications/JuliaPro-0.6.4.1.app/Contents/Resources/pkgs-0.6.4.1/v0.6/IJulia/src/handlers.jl:69\n  ...\u001b[39m",
      "",
      "Stacktrace:",
      " [1] \u001b[1mcomplete_types\u001b[22m\u001b[22m\u001b[1m(\u001b[22m\u001b[22m::Array{Any,1}\u001b[1m)\u001b[22m\u001b[22m at \u001b[1m/Applications/JuliaPro-0.6.4.1.app/Contents/Resources/pkgs-0.6.4.1/v0.6/IJulia/src/handlers.jl:112\u001b[22m\u001b[22m",
      " [2] \u001b[1mcomplete_request\u001b[22m\u001b[22m\u001b[1m(\u001b[22m\u001b[22m::ZMQ.Socket, ::IJulia.Msg\u001b[1m)\u001b[22m\u001b[22m at \u001b[1m/Applications/JuliaPro-0.6.4.1.app/Contents/Resources/pkgs-0.6.4.1/v0.6/IJulia/src/handlers.jl:149\u001b[22m\u001b[22m",
      " [3] \u001b[1m(::Compat.#inner#18{Array{Any,1},IJulia.#complete_request,Tuple{ZMQ.Socket,IJulia.Msg}})\u001b[22m\u001b[22m\u001b[1m(\u001b[22m\u001b[22m\u001b[1m)\u001b[22m\u001b[22m at \u001b[1m/Applications/JuliaPro-0.6.4.1.app/Contents/Resources/pkgs-0.6.4.1/v0.6/Compat/src/Compat.jl:378\u001b[22m\u001b[22m",
      " [4] \u001b[1meventloop\u001b[22m\u001b[22m\u001b[1m(\u001b[22m\u001b[22m::ZMQ.Socket\u001b[1m)\u001b[22m\u001b[22m at \u001b[1m/Applications/JuliaPro-0.6.4.1.app/Contents/Resources/pkgs-0.6.4.1/v0.6/IJulia/src/eventloop.jl:8\u001b[22m\u001b[22m",
      " [5] \u001b[1m(::IJulia.##14#17)\u001b[22m\u001b[22m\u001b[1m(\u001b[22m\u001b[22m\u001b[1m)\u001b[22m\u001b[22m at \u001b[1m./task.jl:335\u001b[22m\u001b[22m"
     ]
    }
   ],
   "source": [
    "plot(log.(p[:A][1,:,end,:]'))"
   ]
  },
  {
   "cell_type": "code",
   "execution_count": 42,
   "metadata": {},
   "outputs": [
    {
     "data": {
      "text/plain": [
       "-0.0075208532954233725"
      ]
     },
     "execution_count": 42,
     "metadata": {},
     "output_type": "execute_result"
    }
   ],
   "source": [
    "minimum(p[:nu_njt])"
   ]
  },
  {
   "cell_type": "code",
   "execution_count": null,
   "metadata": {},
   "outputs": [],
   "source": []
  }
 ],
 "metadata": {
  "kernelspec": {
   "display_name": "Julia 0.6.4",
   "language": "julia",
   "name": "julia-0.6"
  },
  "language_info": {
   "file_extension": ".jl",
   "mimetype": "application/julia",
   "name": "julia",
   "version": "0.6.4"
  }
 },
 "nbformat": 4,
 "nbformat_minor": 2
}
